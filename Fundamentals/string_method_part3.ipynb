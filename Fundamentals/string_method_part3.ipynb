{
 "cells": [
  {
   "cell_type": "markdown",
   "metadata": {},
   "source": [
    "# String Methods in Python - Part 3"
   ]
  },
  {
   "cell_type": "markdown",
   "metadata": {},
   "source": [
    "# join() - Method - takes all items in an iterable and joins them into one string.\n",
    "- A string must be specified as the separator. "
   ]
  },
  {
   "cell_type": "code",
   "execution_count": 1,
   "metadata": {},
   "outputs": [
    {
     "name": "stdout",
     "output_type": "stream",
     "text": [
      "John#Peter#Sujata\n"
     ]
    }
   ],
   "source": [
    "myTuple = (\"John\", \"Peter\", \"Sujata\")\n",
    "x = \"#\".join(myTuple)\n",
    "print(x)"
   ]
  },
  {
   "cell_type": "code",
   "execution_count": 2,
   "metadata": {},
   "outputs": [
    {
     "name": "stdout",
     "output_type": "stream",
     "text": [
      "nameTestcountry\n"
     ]
    }
   ],
   "source": [
    "myDict = {\"name\": \"John\", \"country\": \"Norway\"}\n",
    "mySeprator = \"Test\"\n",
    "\n",
    "x  = mySeprator.join(myDict)\n",
    "print(x)"
   ]
  },
  {
   "cell_type": "code",
   "execution_count": null,
   "metadata": {},
   "outputs": [
    {
     "ename": "TypeError",
     "evalue": "str.join() takes exactly one argument (3 given)",
     "output_type": "error",
     "traceback": [
      "\u001b[1;31m---------------------------------------------------------------------------\u001b[0m",
      "\u001b[1;31mTypeError\u001b[0m                                 Traceback (most recent call last)",
      "Cell \u001b[1;32mIn[15], line 6\u001b[0m\n\u001b[0;32m      3\u001b[0m file_name \u001b[38;5;241m=\u001b[39m \u001b[38;5;124m\"\u001b[39m\u001b[38;5;130;01m\\\\\u001b[39;00m\u001b[38;5;124mpython\u001b[39m\u001b[38;5;130;01m\\\\\u001b[39;00m\u001b[38;5;124mhello_world.py\u001b[39m\u001b[38;5;124m\"\u001b[39m\n\u001b[0;32m      5\u001b[0m \u001b[38;5;66;03m# Join paths using .join() string method\u001b[39;00m\n\u001b[1;32m----> 6\u001b[0m final_path \u001b[38;5;241m=\u001b[39m \u001b[38;5;124;43m\"\u001b[39;49m\u001b[38;5;130;43;01m\\\\\u001b[39;49;00m\u001b[38;5;124;43m\"\u001b[39;49m\u001b[38;5;241;43m.\u001b[39;49m\u001b[43mjoin\u001b[49m\u001b[43m(\u001b[49m\u001b[43mbase_path\u001b[49m\u001b[43m,\u001b[49m\u001b[43msub_folder\u001b[49m\u001b[43m,\u001b[49m\u001b[43mfile_name\u001b[49m\u001b[43m)\u001b[49m\n\u001b[0;32m      7\u001b[0m \u001b[38;5;28mprint\u001b[39m(final_path)\n",
      "\u001b[1;31mTypeError\u001b[0m: str.join() takes exactly one argument (3 given)"
     ]
    }
   ],
   "source": [
    "base_path = \"C:\\\\Users\"\n",
    "sub_folder = \"ASUS\\\\Desktop\"\n",
    "file_name = \"\\\\python\\\\hello_world.py\"\n",
    "\n",
    "# Join paths using .join() string method\n",
    "final_path = \"\\\\\".join(base_path,sub_folder,file_name)\n",
    "print(final_path)"
   ]
  },
  {
   "cell_type": "markdown",
   "metadata": {},
   "source": [
    "# .join() method takes one argument - which should be an iterable\n",
    "- iterable could be a Tuple, List or a Dictionary"
   ]
  },
  {
   "cell_type": "code",
   "execution_count": 31,
   "metadata": {},
   "outputs": [
    {
     "name": "stdout",
     "output_type": "stream",
     "text": [
      "C:\\Users\\ASUS\\Desktop\\python\\hello_world.py\n"
     ]
    }
   ],
   "source": [
    "base_path = \"C:\\\\Users\"\n",
    "sub_folder = \"ASUS\\\\Desktop\"\n",
    "file_name = \"python\\\\hello_world.py\"\n",
    "\n",
    "list_strings = [base_path,sub_folder,file_name]\n",
    "# Join paths using .join() string method\n",
    "final_path = \"\\\\\".join(list_strings) # Takes only one positional argument\n",
    "print(final_path)"
   ]
  },
  {
   "cell_type": "markdown",
   "metadata": {},
   "source": [
    "# Alternatives to join Paths"
   ]
  },
  {
   "cell_type": "code",
   "execution_count": 30,
   "metadata": {},
   "outputs": [
    {
     "name": "stdout",
     "output_type": "stream",
     "text": [
      "\\Users\\ASUS\\Desktop\\python\\hello_world.py\n"
     ]
    }
   ],
   "source": [
    "import os \n",
    "\n",
    "root_path = \"\\\\Users\\\\ASUS\\\\Desktop\" # Windows\n",
    "project_path = \"python\"\n",
    "file_name = \"hello_world.py\"  # python/hello_world.py - Linux\n",
    "\n",
    "path = os.path.join(root_path,project_path,file_name) # You do not need to create an iterable (List or tuple)\n",
    "print(path)"
   ]
  },
  {
   "cell_type": "code",
   "execution_count": null,
   "metadata": {},
   "outputs": [
    {
     "name": "stdout",
     "output_type": "stream",
     "text": [
      "C:\\Users\\Desktop\\python\\hello_world.py\n"
     ]
    }
   ],
   "source": [
    "import pathlib\n",
    "from pathlib import Path\n",
    "\n",
    "root_path = Path(\"C://Users\")\n",
    "project_path = \"Desktop//python\"\n",
    "file_name = \"hello_world.py\"\n",
    "\n",
    "final_path = pathlib.PurePath(root_path,project_path,file_name) # Use pathlib.Purepath\n",
    "print(final_path)"
   ]
  },
  {
   "cell_type": "code",
   "execution_count": 27,
   "metadata": {},
   "outputs": [
    {
     "name": "stdout",
     "output_type": "stream",
     "text": [
      "C:\\Users\\Desktop\\python\\hello_world.py\n"
     ]
    }
   ],
   "source": [
    "import pathlib\n",
    "\n",
    "root_path = Path(\"C:/Users\")\n",
    "project_path = \"Desktop/python\"\n",
    "file_name = \"hello_world.py\"\n",
    "final_path = pathlib.Path.joinpath(root_path,project_path,file_name)\n",
    "\n",
    "print(final_path)"
   ]
  },
  {
   "cell_type": "markdown",
   "metadata": {},
   "source": [
    "# ljust() method will left align the string, using a specified character as the fill character."
   ]
  },
  {
   "cell_type": "code",
   "execution_count": null,
   "metadata": {},
   "outputs": [
    {
     "name": "stdout",
     "output_type": "stream",
     "text": [
      "banana                                                                                               is my favourite fruit\n"
     ]
    }
   ],
   "source": [
    "# ljust() method - Returns a 20 character long, left justified version of the word \"banana\"\n",
    "txt = \"banana\" \n",
    "x = txt.ljust(100) # Left Justified.\n",
    "print(x, \"is my favourite fruit\")"
   ]
  },
  {
   "cell_type": "code",
   "execution_count": 39,
   "metadata": {},
   "outputs": [
    {
     "name": "stdout",
     "output_type": "stream",
     "text": [
      "banana%%%%%%%%%%%%%%%%%%%%%%%%%%%%%%%%%%%%%%%%%%%%%%%%%%%%%%%%%%%%%%%%%%%%%%%%%%%%%%%%%%%%%%%%%%%%%% is my favourite fruit\n"
     ]
    }
   ],
   "source": [
    "txt = \"banana\" \n",
    "x = txt.ljust(100, \"%\") # Left Justified.\n",
    "print(x, \"is my favourite fruit\")"
   ]
  },
  {
   "cell_type": "code",
   "execution_count": 42,
   "metadata": {},
   "outputs": [
    {
     "data": {
      "text/plain": [
       "'sujata kumari'"
      ]
     },
     "execution_count": 42,
     "metadata": {},
     "output_type": "execute_result"
    }
   ],
   "source": [
    "txt = \"SUJATA KUMARI\"\n",
    "txt.lower() # Converts a string into lowercase letters"
   ]
  },
  {
   "cell_type": "markdown",
   "metadata": {},
   "source": [
    "# lstrip() - removes any leading characters (space is the default leading character to remove)"
   ]
  },
  {
   "cell_type": "code",
   "execution_count": 43,
   "metadata": {},
   "outputs": [
    {
     "data": {
      "text/plain": [
       "'Sujata       '"
      ]
     },
     "execution_count": 43,
     "metadata": {},
     "output_type": "execute_result"
    }
   ],
   "source": [
    "txt = \"     Sujata       \"\n",
    "txt.lstrip()"
   ]
  },
  {
   "cell_type": "code",
   "execution_count": 44,
   "metadata": {},
   "outputs": [
    {
     "name": "stdout",
     "output_type": "stream",
     "text": [
      "of all names Sujata     is my real name\n"
     ]
    }
   ],
   "source": [
    "txt = \"    Sujata    \"\n",
    "x = txt.lstrip()\n",
    "print(\"of all names\", x , \"is my real name\")"
   ]
  },
  {
   "cell_type": "code",
   "execution_count": 45,
   "metadata": {},
   "outputs": [
    {
     "name": "stdout",
     "output_type": "stream",
     "text": [
      "of all names Sujata     is my real name\n"
     ]
    }
   ],
   "source": [
    "txt = \",,,,,Sujata    \"\n",
    "x = txt.lstrip(\",\")\n",
    "print(\"of all names\", x , \"is my real name\")"
   ]
  },
  {
   "cell_type": "code",
   "execution_count": 48,
   "metadata": {},
   "outputs": [
    {
     "name": "stdout",
     "output_type": "stream",
     "text": [
      "Hi Kashih!\n"
     ]
    }
   ],
   "source": [
    "# maketrans()- method returns a mapping table that can be used with the translate() method to replace specified characters.\n",
    "txt = \"Hi Sujata!\"\n",
    "x = \"Sujat\"\n",
    "y = \"Kashi\"\n",
    "mytable = str.maketrans(x,y)\n",
    "print(txt.translate(mytable))"
   ]
  },
  {
   "cell_type": "code",
   "execution_count": 49,
   "metadata": {},
   "outputs": [
    {
     "name": "stdout",
     "output_type": "stream",
     "text": [
      "Hi Sujktk, I km prom Himkmrkl Prknosr. I livo in Bknqkloro por work!\n"
     ]
    }
   ],
   "source": [
    "txt = \"Hi Sujata, I am from Himachal Pradesh. I live in Bangalore for work!\"\n",
    "x = \"abcdefgh\"\n",
    "y = \"klmnopqr\"\n",
    "mytable = str.maketrans(x,y)\n",
    "print(txt.translate(mytable))"
   ]
  },
  {
   "cell_type": "code",
   "execution_count": 50,
   "metadata": {},
   "outputs": [
    {
     "name": "stdout",
     "output_type": "stream",
     "text": [
      "I like apples\n"
     ]
    }
   ],
   "source": [
    "# replace()\n",
    "\n",
    "txt = \"I like bananas\"\n",
    "x = txt.replace(\"bananas\", \"apples\")\n",
    "print(x)"
   ]
  },
  {
   "cell_type": "code",
   "execution_count": 51,
   "metadata": {},
   "outputs": [
    {
     "name": "stdout",
     "output_type": "stream",
     "text": [
      "I like apples\n"
     ]
    }
   ],
   "source": [
    "txt = \"I like Sujata\"\n",
    "x = txt.replace(\"Sujata\", \"apples\")\n",
    "print(x)"
   ]
  },
  {
   "cell_type": "code",
   "execution_count": 53,
   "metadata": {},
   "outputs": [
    {
     "name": "stdout",
     "output_type": "stream",
     "text": [
      "9\n"
     ]
    }
   ],
   "source": [
    "# rfind() - finds the last occurance of the specified value\n",
    "txt = \" Hello! welcome to my world\"\n",
    "x = txt.rfind(\"e\", 5 , 10)\n",
    "print(x)"
   ]
  },
  {
   "cell_type": "code",
   "execution_count": 56,
   "metadata": {},
   "outputs": [
    {
     "name": "stdout",
     "output_type": "stream",
     "text": [
      "14\n"
     ]
    }
   ],
   "source": [
    "txt = \" Hello! welcome to my world\"\n",
    "x = txt.rfind(\"e\")\n",
    "print(x)"
   ]
  },
  {
   "cell_type": "code",
   "execution_count": 57,
   "metadata": {},
   "outputs": [
    {
     "name": "stdout",
     "output_type": "stream",
     "text": [
      "14\n"
     ]
    }
   ],
   "source": [
    "txt = \" Hello! welcome to my world\"\n",
    "x = txt.rindex(\"e\")\n",
    "print(x)"
   ]
  },
  {
   "cell_type": "code",
   "execution_count": 58,
   "metadata": {},
   "outputs": [
    {
     "ename": "ValueError",
     "evalue": "substring not found",
     "output_type": "error",
     "traceback": [
      "\u001b[1;31m---------------------------------------------------------------------------\u001b[0m",
      "\u001b[1;31mValueError\u001b[0m                                Traceback (most recent call last)",
      "Cell \u001b[1;32mIn[58], line 2\u001b[0m\n\u001b[0;32m      1\u001b[0m txt \u001b[38;5;241m=\u001b[39m \u001b[38;5;124m\"\u001b[39m\u001b[38;5;124m Hello! welcome to my world\u001b[39m\u001b[38;5;124m\"\u001b[39m\n\u001b[1;32m----> 2\u001b[0m x \u001b[38;5;241m=\u001b[39m \u001b[43mtxt\u001b[49m\u001b[38;5;241;43m.\u001b[39;49m\u001b[43mrindex\u001b[49m\u001b[43m(\u001b[49m\u001b[38;5;124;43m\"\u001b[39;49m\u001b[38;5;124;43m^\u001b[39;49m\u001b[38;5;124;43m\"\u001b[39;49m\u001b[43m)\u001b[49m\n\u001b[0;32m      3\u001b[0m \u001b[38;5;28mprint\u001b[39m(x)\n",
      "\u001b[1;31mValueError\u001b[0m: substring not found"
     ]
    }
   ],
   "source": [
    "txt = \" Hello! welcome to my world\"\n",
    "x = txt.rindex(\"^\")\n",
    "print(x)"
   ]
  },
  {
   "cell_type": "code",
   "execution_count": 59,
   "metadata": {},
   "outputs": [
    {
     "name": "stdout",
     "output_type": "stream",
     "text": [
      "-1\n"
     ]
    }
   ],
   "source": [
    "txt = \" Hello! welcome to my world\"\n",
    "x = txt.rfind(\"^\")\n",
    "print(x)"
   ]
  },
  {
   "cell_type": "code",
   "execution_count": 65,
   "metadata": {},
   "outputs": [
    {
     "name": "stdout",
     "output_type": "stream",
     "text": [
      "              Suajta is my name\n"
     ]
    }
   ],
   "source": [
    "txt = \"Suajta\"\n",
    "x = txt.rjust(20) # Righ align the string\n",
    "print(x,\"is my name\")"
   ]
  },
  {
   "cell_type": "markdown",
   "metadata": {},
   "source": [
    "# rsplit() - splits a string into a list, starting from the right."
   ]
  },
  {
   "cell_type": "code",
   "execution_count": 67,
   "metadata": {},
   "outputs": [
    {
     "name": "stdout",
     "output_type": "stream",
     "text": [
      "['apple', ' banana ', ' cherry']\n"
     ]
    }
   ],
   "source": [
    "txt = \"apple, banana , cherry\"\n",
    "x = txt.rsplit(\",\") # rsplit()- converts a string into list using a separator\n",
    "print(x)"
   ]
  },
  {
   "cell_type": "code",
   "execution_count": 69,
   "metadata": {},
   "outputs": [
    {
     "name": "stdout",
     "output_type": "stream",
     "text": [
      "['apple, banana ', ' cherry']\n"
     ]
    }
   ],
   "source": [
    "txt = \"apple, banana , cherry\"\n",
    "x = txt.rsplit(\",\", 1) # rsplit()- converts a string into list using a separator, maxsplit parameter\n",
    "print(x)"
   ]
  },
  {
   "cell_type": "code",
   "execution_count": 70,
   "metadata": {},
   "outputs": [
    {
     "name": "stdout",
     "output_type": "stream",
     "text": [
      "['apple', ' banana ', ' cherry']\n"
     ]
    }
   ],
   "source": [
    "txt = \"apple, banana , cherry\"\n",
    "x = txt.rsplit(\",\", 2) # rsplit()- converts a string into list using a separator, maxsplit parameter\n",
    "print(x)"
   ]
  },
  {
   "cell_type": "code",
   "execution_count": 71,
   "metadata": {},
   "outputs": [
    {
     "name": "stdout",
     "output_type": "stream",
     "text": [
      "['apple', ' banana ', ' cherry']\n"
     ]
    }
   ],
   "source": [
    "txt = \"apple, banana , cherry\"\n",
    "x = txt.rsplit(\",\", 3) # rsplit()- converts a string into list using a separator, maxsplit parameter\n",
    "print(x)"
   ]
  },
  {
   "cell_type": "markdown",
   "metadata": {},
   "source": [
    "# split() - method splits a string into a list"
   ]
  },
  {
   "cell_type": "code",
   "execution_count": 72,
   "metadata": {},
   "outputs": [
    {
     "name": "stdout",
     "output_type": "stream",
     "text": [
      "['My', 'name', 'is', 'Sujata']\n"
     ]
    }
   ],
   "source": [
    "txt = \"My name is Sujata\"\n",
    "x = txt.split()\n",
    "print(x)"
   ]
  },
  {
   "cell_type": "code",
   "execution_count": 73,
   "metadata": {},
   "outputs": [
    {
     "name": "stdout",
     "output_type": "stream",
     "text": [
      "['My name is Sujata', ' I am 25 years old', ' i live in Delhi', ' I am a good dancer.']\n"
     ]
    }
   ],
   "source": [
    "txt = \"My name is Sujata, I am 25 years old, i live in Delhi, I am a good dancer.\"\n",
    "x = txt.split(\",\")\n",
    "print(x)"
   ]
  },
  {
   "cell_type": "code",
   "execution_count": 74,
   "metadata": {},
   "outputs": [
    {
     "name": "stdout",
     "output_type": "stream",
     "text": [
      "['My name is Sujata', ' I am 25 years old', ' i live in Delhi, I am a good dancer.']\n"
     ]
    }
   ],
   "source": [
    "txt = \"My name is Sujata, I am 25 years old, i live in Delhi, I am a good dancer.\"\n",
    "x = txt.split(\",\", 2 ) # paramters: separator, maxsplit\n",
    "print(x)"
   ]
  },
  {
   "cell_type": "code",
   "execution_count": 75,
   "metadata": {},
   "outputs": [
    {
     "data": {
      "text/plain": [
       "'SUJATA KUMARI'"
      ]
     },
     "execution_count": 75,
     "metadata": {},
     "output_type": "execute_result"
    }
   ],
   "source": [
    "txt = \"sujata kumari\"\n",
    "txt.upper()"
   ]
  },
  {
   "cell_type": "code",
   "execution_count": 76,
   "metadata": {},
   "outputs": [
    {
     "data": {
      "text/plain": [
       "' My Name Is Sujata'"
      ]
     },
     "execution_count": 76,
     "metadata": {},
     "output_type": "execute_result"
    }
   ],
   "source": [
    "txt = \" my name is sujata\"\n",
    "txt.title()"
   ]
  },
  {
   "cell_type": "code",
   "execution_count": 78,
   "metadata": {},
   "outputs": [
    {
     "name": "stdout",
     "output_type": "stream",
     "text": [
      "0000000050\n"
     ]
    }
   ],
   "source": [
    "txt = \"50\"\n",
    "x = txt.zfill(10) # zfill() method adds zeros (0) at the beginning of the string, until it reaches the specified length.\n",
    "print(x)"
   ]
  },
  {
   "cell_type": "code",
   "execution_count": 80,
   "metadata": {},
   "outputs": [
    {
     "data": {
      "text/plain": [
       "True"
      ]
     },
     "execution_count": 80,
     "metadata": {},
     "output_type": "execute_result"
    }
   ],
   "source": [
    "txt = \"Hello! My name is Sujata\"\n",
    "txt.startswith(\"Hello!\") # Returns Trrue if the string starts with the specified value."
   ]
  },
  {
   "cell_type": "code",
   "execution_count": 81,
   "metadata": {},
   "outputs": [
    {
     "data": {
      "text/plain": [
       "False"
      ]
     },
     "execution_count": 81,
     "metadata": {},
     "output_type": "execute_result"
    }
   ],
   "source": [
    "txt = \"Hello! My name is Sujata\"\n",
    "txt.startswith(\"Sujata!\") # Returns Trrue if the string starts with the specified value."
   ]
  },
  {
   "cell_type": "code",
   "execution_count": 82,
   "metadata": {},
   "outputs": [
    {
     "data": {
      "text/plain": [
       "True"
      ]
     },
     "execution_count": 82,
     "metadata": {},
     "output_type": "execute_result"
    }
   ],
   "source": [
    "txt = \"Hello! My name is Sujata\"\n",
    "txt.startswith(\"My\", 7,20) # Returns Trrue if the string starts with the specified value."
   ]
  },
  {
   "cell_type": "code",
   "execution_count": null,
   "metadata": {},
   "outputs": [],
   "source": []
  }
 ],
 "metadata": {
  "kernelspec": {
   "display_name": "python_env",
   "language": "python",
   "name": "python3"
  },
  "language_info": {
   "codemirror_mode": {
    "name": "ipython",
    "version": 3
   },
   "file_extension": ".py",
   "mimetype": "text/x-python",
   "name": "python",
   "nbconvert_exporter": "python",
   "pygments_lexer": "ipython3",
   "version": "3.12.7"
  }
 },
 "nbformat": 4,
 "nbformat_minor": 2
}
