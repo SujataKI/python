{
 "cells": [
  {
   "cell_type": "markdown",
   "metadata": {},
   "source": [
    "# Python Control Flow"
   ]
  },
  {
   "cell_type": "markdown",
   "metadata": {},
   "source": [
    "# Topic: Python Conditions and If Statements\n",
    "- Python Supports the usual logical conditions from mathematics:\n",
    "- Equals: a==b\n",
    "- Not Equals : a != b\n",
    "- Less than : a < b\n",
    "- Less than or equal to: a <= b\n",
    "- Greater than : a > b\n",
    "- Greater than or equal to: a >= b\n",
    "- These conditions can be used in several ways, most commonly in \"if statements\" and loops.\n",
    "- An \"if statement \" is written by using ```if``` keyword"
   ]
  },
  {
   "cell_type": "code",
   "execution_count": 1,
   "metadata": {},
   "outputs": [
    {
     "name": "stdout",
     "output_type": "stream",
     "text": [
      "I have inr 1000, so i can afford item A with price Inr 100\n"
     ]
    }
   ],
   "source": [
    "price = 100\n",
    "balance = 1000\n",
    "\n",
    "# Suppose You want to buy an item A whose price is 100 Inr, your balance is Inr 1000, then how will you be checking this using if stamement.\n",
    "\n",
    "if balance > price: # 1000 > 100 -> True or False -> True\n",
    "    print(f\"I have inr {balance}, so i can afford item A with price Inr {price}\")"
   ]
  },
  {
   "cell_type": "markdown",
   "metadata": {},
   "source": [
    "# Syntax:\n",
    "```\n",
    "if logical condition is true:\n",
    "        execute line of code      \n",
    "```"
   ]
  },
  {
   "cell_type": "code",
   "execution_count": 4,
   "metadata": {},
   "outputs": [],
   "source": [
    "price = 10000\n",
    "balance = 1000\n",
    "\n",
    "# Suppose You want to buy an item A whose price is 100 Inr, your balance is Inr 1000, then how will you be checking this using if stamement.\n",
    "\n",
    "if balance > price: # 1000 > 100 -> True or False -> True\n",
    "    print(f\"I have inr {balance}, so i can afford item A with price Inr {price}\")"
   ]
  },
  {
   "cell_type": "code",
   "execution_count": 2,
   "metadata": {},
   "outputs": [
    {
     "name": "stdout",
     "output_type": "stream",
     "text": [
      "I have inr 1000, so i cannot afford item A with price Inr 10000\n"
     ]
    }
   ],
   "source": [
    "borrow = 9000\n",
    "price = 10000\n",
    "balance = 1000\n",
    "\n",
    "if balance > price:\n",
    "    print(f\"I have inr {balance}, so i can afford item A with price Inr {price}\")\n",
    "else:\n",
    "    print(f\"I have inr {balance}, so i cannot afford item A with price Inr {price}\")"
   ]
  },
  {
   "cell_type": "code",
   "execution_count": null,
   "metadata": {},
   "outputs": [
    {
     "name": "stdout",
     "output_type": "stream",
     "text": [
      "I have borrowed  inr 9000 froma friend. so i cannot afford item A with price Inr 10000\n"
     ]
    }
   ],
   "source": [
    "borrow = 9000\n",
    "price = 10000\n",
    "balance = 1000\n",
    "\n",
    "if balance > price:\n",
    "    print(f\"I have inr {balance}, so i can afford item A with price Inr {price}\")\n",
    "elif balance + borrow >= price:\n",
    "    print(f\"I have borrowed  inr {borrow} froma friend. so i cannot afford item A with price Inr {price}\")"
   ]
  },
  {
   "cell_type": "code",
   "execution_count": 7,
   "metadata": {},
   "outputs": [
    {
     "ename": "SyntaxError",
     "evalue": "expected ':' (2774676834.py, line 7)",
     "output_type": "error",
     "traceback": [
      "\u001b[1;36m  Cell \u001b[1;32mIn[7], line 7\u001b[1;36m\u001b[0m\n\u001b[1;33m    else balance + borrow >= price:\u001b[0m\n\u001b[1;37m         ^\u001b[0m\n\u001b[1;31mSyntaxError\u001b[0m\u001b[1;31m:\u001b[0m expected ':'\n"
     ]
    }
   ],
   "source": [
    "borrow = 9000\n",
    "price = 10000\n",
    "balance = 1000\n",
    "\n",
    "if balance > price:\n",
    "    print(f\"I have inr {balance}, so i can afford item A with price Inr {price}\")\n",
    "else balance + borrow >= price:\n",
    "    print(f\"I have borrowed  inr {borrow} froma friend. so i cannot afford item A with price Inr {price}\")"
   ]
  },
  {
   "cell_type": "markdown",
   "metadata": {},
   "source": [
    "# else keyword catches anything which isn't caught by the preceeding conditions."
   ]
  },
  {
   "cell_type": "code",
   "execution_count": 9,
   "metadata": {},
   "outputs": [
    {
     "name": "stdout",
     "output_type": "stream",
     "text": [
      "I don't want to buy item A\n"
     ]
    }
   ],
   "source": [
    "borrow = 6000\n",
    "price = 10000\n",
    "balance = 1000\n",
    "trading_profit = -10000\n",
    "\n",
    "if balance > price:\n",
    "    print(f\"I have inr {balance}, so i can afford item A with price Inr {price}\")\n",
    "elif balance + borrow >= price:\n",
    "    print(f\"I have borrowed  inr {borrow} froma friend. so i cannot afford item A with price Inr {price}\")\n",
    "elif balance + borrow + trading_profit >= price:\n",
    "    print(f\"I have gathered inr {balance + borrow + trading_profit}. so i cannot afford item A with price Inr {price}\")\n",
    "else:\n",
    "    print(\"I don't want to buy item A\")"
   ]
  },
  {
   "cell_type": "code",
   "execution_count": 10,
   "metadata": {},
   "outputs": [
    {
     "name": "stdout",
     "output_type": "stream",
     "text": [
      "a is geater than b\n"
     ]
    }
   ],
   "source": [
    "# Short Hand If\n",
    "a = 10\n",
    "b = 5\n",
    "if a > b: print(\"a is geater than b\") "
   ]
  },
  {
   "cell_type": "markdown",
   "metadata": {},
   "source": [
    "# Short Hand if else\n",
    "- If you already have only one statement to execute , one for if and one for else, you can put it all on the same line."
   ]
  },
  {
   "cell_type": "code",
   "execution_count": 11,
   "metadata": {},
   "outputs": [
    {
     "name": "stdout",
     "output_type": "stream",
     "text": [
      "A\n"
     ]
    }
   ],
   "source": [
    "print(\"A\") if a > b else print(\"B\") "
   ]
  },
  {
   "cell_type": "markdown",
   "metadata": {},
   "source": [
    "# This technique is known as Ternary Operators or Conditional Expressions\n",
    "- You can have multiple else statements on the same line."
   ]
  },
  {
   "cell_type": "code",
   "execution_count": 13,
   "metadata": {},
   "outputs": [
    {
     "name": "stdout",
     "output_type": "stream",
     "text": [
      "B\n"
     ]
    }
   ],
   "source": [
    "a = 10\n",
    "b = 50\n",
    "print(\"A\") if a > b else print(\"B\") # Expression 1 if condition else Expression 2"
   ]
  },
  {
   "cell_type": "code",
   "execution_count": 15,
   "metadata": {},
   "outputs": [
    {
     "name": "stdout",
     "output_type": "stream",
     "text": [
      "C\n"
     ]
    }
   ],
   "source": [
    "a = 10\n",
    "b = 100\n",
    "print(\"A\") if a > b else print(\"B\") if a==b else print(\"C\")"
   ]
  },
  {
   "cell_type": "markdown",
   "metadata": {},
   "source": [
    "# And keyword\n",
    "- The and keyword is a logical operator, and is used to combine conditional statements."
   ]
  },
  {
   "cell_type": "code",
   "execution_count": 17,
   "metadata": {},
   "outputs": [
    {
     "name": "stdout",
     "output_type": "stream",
     "text": [
      " Both conditions are True\n"
     ]
    }
   ],
   "source": [
    "a = 200\n",
    "b = 33\n",
    "c = 500\n",
    "\n",
    "if a > b and c > a: # Requires both conditions to be True\n",
    "    print(\" Both conditions are True\")"
   ]
  },
  {
   "cell_type": "markdown",
   "metadata": {},
   "source": [
    "# Or Keyword"
   ]
  },
  {
   "cell_type": "code",
   "execution_count": null,
   "metadata": {},
   "outputs": [],
   "source": [
    "a = 200\n",
    "b = 33\n",
    "c = 5\n",
    "\n",
    "if a > b or c > a: # Requires only one conditions to be True\n",
    "    print(\" Both conditions are not True\")"
   ]
  },
  {
   "cell_type": "markdown",
   "metadata": {},
   "source": [
    "# Not Keyword\n"
   ]
  },
  {
   "cell_type": "code",
   "execution_count": 22,
   "metadata": {},
   "outputs": [],
   "source": [
    "a = 200\n",
    "b = 33\n",
    "\n",
    "if not a > b:\n",
    "    print(\" Requires condition to be False\")"
   ]
  },
  {
   "cell_type": "code",
   "execution_count": 24,
   "metadata": {},
   "outputs": [
    {
     "name": "stdout",
     "output_type": "stream",
     "text": [
      " Requires condition to be False\n"
     ]
    }
   ],
   "source": [
    "a = 200\n",
    "b = 330\n",
    "\n",
    "if not a > b:\n",
    "    print(\" Requires condition to be False\")"
   ]
  },
  {
   "cell_type": "markdown",
   "metadata": {},
   "source": [
    "# pass Keyword"
   ]
  },
  {
   "cell_type": "code",
   "execution_count": 29,
   "metadata": {},
   "outputs": [],
   "source": [
    "a = 200\n",
    "b = 33\n",
    "\n",
    "if a > b:\n",
    "    pass"
   ]
  },
  {
   "cell_type": "markdown",
   "metadata": {},
   "source": [
    "# Nested if"
   ]
  },
  {
   "cell_type": "code",
   "execution_count": 33,
   "metadata": {},
   "outputs": [
    {
     "name": "stdout",
     "output_type": "stream",
     "text": [
      "Above ten,\n",
      "Above twenty,\n",
      "Above thirty,\n",
      "Above fourty,\n"
     ]
    }
   ],
   "source": [
    "x = 41\n",
    "\n",
    "if x > 10:\n",
    "    print(\"Above ten,\")\n",
    "    if  x > 20:\n",
    "        print(\"Above twenty,\")\n",
    "        if x > 30:\n",
    "            print(\"Above thirty,\")\n",
    "            if x > 40:\n",
    "                print(\"Above fourty,\")\n",
    "                if x > 50:\n",
    "                    print(\"Above fifty\")"
   ]
  },
  {
   "cell_type": "code",
   "execution_count": null,
   "metadata": {},
   "outputs": [],
   "source": []
  }
 ],
 "metadata": {
  "kernelspec": {
   "display_name": "python_env_3_12_9",
   "language": "python",
   "name": "python3"
  },
  "language_info": {
   "codemirror_mode": {
    "name": "ipython",
    "version": 3
   },
   "file_extension": ".py",
   "mimetype": "text/x-python",
   "name": "python",
   "nbconvert_exporter": "python",
   "pygments_lexer": "ipython3",
   "version": "3.12.9"
  }
 },
 "nbformat": 4,
 "nbformat_minor": 2
}
