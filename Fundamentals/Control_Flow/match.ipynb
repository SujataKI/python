{
 "cells": [
  {
   "cell_type": "markdown",
   "id": "ac9bfe7f",
   "metadata": {},
   "source": [
    "# Python- Match\n",
    "- The match statement is used to perform different actions based on different conditions.\n",
    "- Instead of using many if--else statements, you can use the match statement.\n",
    "- The match statement selects one of many code blocks to be executed."
   ]
  },
  {
   "cell_type": "code",
   "execution_count": 2,
   "id": "2405e55f",
   "metadata": {},
   "outputs": [
    {
     "name": "stdout",
     "output_type": "stream",
     "text": [
      "The number is not in the list.\n"
     ]
    }
   ],
   "source": [
    "list_1 = [1,2,3,4,5,6,7,8,9]\n",
    "if 10 in list_1:\n",
    "    print(\"Five exist in the list 1\")\n",
    "else:\n",
    "    print(\"The number is not in the list.\")\n"
   ]
  },
  {
   "cell_type": "code",
   "execution_count": 5,
   "id": "7bd88ec4",
   "metadata": {},
   "outputs": [],
   "source": [
    "def add(x, y):\n",
    "    return x+y"
   ]
  },
  {
   "cell_type": "code",
   "execution_count": 8,
   "id": "ff5192e4",
   "metadata": {},
   "outputs": [
    {
     "name": "stdout",
     "output_type": "stream",
     "text": [
      "Thursday\n",
      "15\n"
     ]
    }
   ],
   "source": [
    "day = 4\n",
    "match day:\n",
    "    case 1:\n",
    "        print(\"Monday\")\n",
    "    case 2:\n",
    "        print(\"Tuesday\")\n",
    "    case 3:\n",
    "        print(\"Wednesday\")\n",
    "    case 4:\n",
    "        print(\"Thursday\")\n",
    "        print(add(10,5))\n",
    "    case 5:\n",
    "        print(\"Friday\")\n",
    "    case 6:\n",
    "        print(\"Satday\")\n",
    "    case 7:\n",
    "        print(\"Sunday\")"
   ]
  },
  {
   "cell_type": "markdown",
   "id": "53c9349f",
   "metadata": {},
   "source": [
    "# default value\n",
    "- use the undescore character as the last case value if you want a code block to execute when there are not other matches."
   ]
  },
  {
   "cell_type": "code",
   "execution_count": 10,
   "id": "25b70bbc",
   "metadata": {},
   "outputs": [
    {
     "name": "stdout",
     "output_type": "stream",
     "text": [
      "Loooking forward to the weekend\n"
     ]
    }
   ],
   "source": [
    "day = 10\n",
    "match day:\n",
    "    case 1:\n",
    "        print(\"Monday\")\n",
    "    case 2:\n",
    "        print(\"Tuesday\")\n",
    "    case 3:\n",
    "        print(\"Wednesday\")\n",
    "    case 4:\n",
    "        print(\"Thursday\")\n",
    "        print(add(10,5))\n",
    "    case 5:\n",
    "        print(\"Friday\")\n",
    "    case 6:\n",
    "        print(\"Satday\")\n",
    "    case 7:\n",
    "        print(\"Sunday\")\n",
    "    case _:\n",
    "        print(\"Loooking forward to the weekend\")"
   ]
  },
  {
   "cell_type": "markdown",
   "id": "6419c3b6",
   "metadata": {},
   "source": [
    "# Combine values\n",
    "- Use the pipe character | as an operator in the case evaluation to check for more than one value match in one case"
   ]
  },
  {
   "cell_type": "code",
   "execution_count": 16,
   "id": "9fae952c",
   "metadata": {},
   "outputs": [
    {
     "name": "stdout",
     "output_type": "stream",
     "text": [
      "Today is weekend\n"
     ]
    }
   ],
   "source": [
    "day = int(input(\"Enter the day\"))\n",
    "match day:\n",
    "    case 1 | 2| 3 | 4 | 5:\n",
    "        print(\"Today is a weekday\")\n",
    "    case 6 | 7:\n",
    "        print(\"Today is weekend\")\n",
    "    case _:\n",
    "        print(\"Loooking forward to the weekend\")"
   ]
  },
  {
   "cell_type": "markdown",
   "id": "2be9b854",
   "metadata": {},
   "source": [
    "# if Statements as Guards\n",
    "- You can add if statements in the case evaluation as an extra condition - check."
   ]
  },
  {
   "cell_type": "code",
   "execution_count": 18,
   "id": "ea816caf",
   "metadata": {},
   "outputs": [
    {
     "name": "stdout",
     "output_type": "stream",
     "text": [
      "A weekday in the month of May\n"
     ]
    }
   ],
   "source": [
    "month = 5 # int(input(\"Enter the month\"))\n",
    "day = int(input(\"Enter the day\"))\n",
    "match day:\n",
    "    case 1 | 2| 3 | 4 | 5 if month == 4:\n",
    "        print(\"A weekday in the month of April\")\n",
    "    case 1 | 2| 3 | 4 | 5 if month == 5:\n",
    "        print(\"A weekday in the month of May\")\n",
    "    case _:\n",
    "        print(\"Loooking forward to the weekend\")"
   ]
  },
  {
   "cell_type": "code",
   "execution_count": null,
   "id": "f603b9cd",
   "metadata": {},
   "outputs": [],
   "source": []
  }
 ],
 "metadata": {
  "kernelspec": {
   "display_name": "python_env_3_12_9",
   "language": "python",
   "name": "python3"
  },
  "language_info": {
   "codemirror_mode": {
    "name": "ipython",
    "version": 3
   },
   "file_extension": ".py",
   "mimetype": "text/x-python",
   "name": "python",
   "nbconvert_exporter": "python",
   "pygments_lexer": "ipython3",
   "version": "3.12.9"
  }
 },
 "nbformat": 4,
 "nbformat_minor": 5
}
