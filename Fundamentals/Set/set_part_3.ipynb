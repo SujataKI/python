{
 "cells": [
  {
   "cell_type": "markdown",
   "metadata": {},
   "source": [
    "# Join Sets\n",
    "- There are several ways to join two or more sets in python.\n",
    "- The `union()` and `update()` methods joins all items from both sets.\n",
    "- The `intersection()` method keeps only the duplicates.\n",
    "- The `difference()` method keeps the items from the first set that are not in the other set(s).\n",
    "- The `symmetric_difference()` method keeps all items Except the duplicates."
   ]
  },
  {
   "cell_type": "code",
   "execution_count": 8,
   "metadata": {},
   "outputs": [
    {
     "name": "stdout",
     "output_type": "stream",
     "text": [
      "{1, 2, 3, 4, 5, 6, 7, 8, 9}\n"
     ]
    }
   ],
   "source": [
    "set1 = {1,2,3,4,5,6}\n",
    "set2 = {4,5,6,7,8,9}\n",
    "\n",
    "# What are common values in set1 and set 2: 4,5,6 ---> Intersection\n",
    "# Create a new set which have all the numbers from set1 and set2: {1,2,3,4,5,6,7,8,9} --> Union, Update\n",
    "# What are different numbers present in set1 that are not present in set 2? 1,2,3 ---> Difference ( A-B)\n",
    "# What are different numbers present in set2 that are not present in set1? 7,8,9 ---> Difference (B-A)\n",
    "# What numbers are different in both set 1 and set 2? 1,2,3,7,8,9 ---> Symmetric Difference--> (A-B) U (B-A)\n",
    "\n",
    "# Union Method on two sets\n",
    "set3 = set1.union(set2)\n",
    "print(set3)\n"
   ]
  },
  {
   "cell_type": "code",
   "execution_count": 9,
   "metadata": {},
   "outputs": [
    {
     "name": "stdout",
     "output_type": "stream",
     "text": [
      "{1, 2, 3, 4, 5, 6, 7, 8, 9}\n",
      "{1, 2, 3, 4, 5, 6}\n"
     ]
    }
   ],
   "source": [
    "set1 = {1,2,3,4,5,6}\n",
    "set2 = {4,5,6,7,8,9}\n",
    "print(set1.union(set2)) # print() ---> set1.update(set2) --> return newset value---. print(newset)\n",
    "print(set1)"
   ]
  },
  {
   "cell_type": "code",
   "execution_count": 10,
   "metadata": {},
   "outputs": [
    {
     "name": "stdout",
     "output_type": "stream",
     "text": [
      "{1, 2, 3, 4, 5, 6, 7, 8, 9}\n"
     ]
    }
   ],
   "source": [
    "set1 = {1,2,3,4,5,6}\n",
    "set2 = {4,5,6,7,8,9}\n",
    "set3 = set1 | set2 # | - Pipe operator means Union operation\n",
    "print(set3)"
   ]
  },
  {
   "cell_type": "code",
   "execution_count": 11,
   "metadata": {},
   "outputs": [
    {
     "name": "stdout",
     "output_type": "stream",
     "text": [
      "{'c', 1, 2, 3, 4, 5, 6, 7, 8, 9, 'Vijay', 'b', 'a', 'Sujata', 'Ankush'}\n"
     ]
    }
   ],
   "source": [
    "set1 = {1,2,3,4,5,6}\n",
    "set2 = {4,5,6,7,8,9}\n",
    "string_set = {\"a\", \"b\", \"c\"}\n",
    "name_set = {\"Sujata\", \"Ankush\", \"Vijay\"}\n",
    "\n",
    "complex_set = set1 | set2 | string_set | name_set\n",
    "print(complex_set)"
   ]
  },
  {
   "cell_type": "code",
   "execution_count": 12,
   "metadata": {},
   "outputs": [
    {
     "name": "stdout",
     "output_type": "stream",
     "text": [
      "{1, 2, 3, 4, 5, 6, 'a', 'c', 'b'}\n"
     ]
    }
   ],
   "source": [
    "set1 = {1,2,3,4,5,6}\n",
    "string_list = [\"a\", \"b\", \"c\"] # Datatype - List\n",
    "\n",
    "complex_set = set1.union(string_list)\n",
    "print(complex_set)"
   ]
  },
  {
   "cell_type": "code",
   "execution_count": 13,
   "metadata": {},
   "outputs": [
    {
     "name": "stdout",
     "output_type": "stream",
     "text": [
      "{1, 2, 3, 4, 5, 6, 7, 8, 9, 'Vijay', 'a', 'Sujata', 'c', 'b', 'Ankush'}\n"
     ]
    }
   ],
   "source": [
    "set1 = {1,2,3,4,5,6}\n",
    "num_tuple = (4,5,6,7,8,9) # Datatype - Tuple\n",
    "string_list = [\"a\", \"b\", \"c\"] # Datatype - List\n",
    "name_tuple = (\"Sujata\", \"Ankush\", \"Vijay\") # Datatype - Tuple\n",
    "\n",
    "complex_set = set1.union(num_tuple, string_list, name_tuple)\n",
    "print(complex_set)"
   ]
  },
  {
   "cell_type": "markdown",
   "metadata": {},
   "source": [
    "# TypeError: unsupported operand type(s) for |: 'set' and 'list'"
   ]
  },
  {
   "cell_type": "code",
   "execution_count": 14,
   "metadata": {},
   "outputs": [
    {
     "ename": "TypeError",
     "evalue": "unsupported operand type(s) for |: 'set' and 'list'",
     "output_type": "error",
     "traceback": [
      "\u001b[1;31m---------------------------------------------------------------------------\u001b[0m",
      "\u001b[1;31mTypeError\u001b[0m                                 Traceback (most recent call last)",
      "Cell \u001b[1;32mIn[14], line 4\u001b[0m\n\u001b[0;32m      1\u001b[0m set1 \u001b[38;5;241m=\u001b[39m {\u001b[38;5;241m1\u001b[39m,\u001b[38;5;241m2\u001b[39m,\u001b[38;5;241m3\u001b[39m,\u001b[38;5;241m4\u001b[39m,\u001b[38;5;241m5\u001b[39m,\u001b[38;5;241m6\u001b[39m}\n\u001b[0;32m      2\u001b[0m string_list \u001b[38;5;241m=\u001b[39m [\u001b[38;5;124m\"\u001b[39m\u001b[38;5;124ma\u001b[39m\u001b[38;5;124m\"\u001b[39m, \u001b[38;5;124m\"\u001b[39m\u001b[38;5;124mb\u001b[39m\u001b[38;5;124m\"\u001b[39m, \u001b[38;5;124m\"\u001b[39m\u001b[38;5;124mc\u001b[39m\u001b[38;5;124m\"\u001b[39m] \u001b[38;5;66;03m# Datatype - List\u001b[39;00m\n\u001b[1;32m----> 4\u001b[0m complex_set \u001b[38;5;241m=\u001b[39m \u001b[43mset1\u001b[49m\u001b[43m \u001b[49m\u001b[38;5;241;43m|\u001b[39;49m\u001b[43m \u001b[49m\u001b[43mstring_list\u001b[49m\n\u001b[0;32m      5\u001b[0m \u001b[38;5;28mprint\u001b[39m(complex_set)\n",
      "\u001b[1;31mTypeError\u001b[0m: unsupported operand type(s) for |: 'set' and 'list'"
     ]
    }
   ],
   "source": [
    "set1 = {1,2,3,4,5,6}\n",
    "string_list = [\"a\", \"b\", \"c\"] # Datatype - List\n",
    "\n",
    "complex_set = set1 | string_list\n",
    "print(complex_set)"
   ]
  },
  {
   "cell_type": "markdown",
   "metadata": {},
   "source": [
    "# TypeError: unsupported operand type(s) for |: 'list' and 'list'"
   ]
  },
  {
   "cell_type": "code",
   "execution_count": 36,
   "metadata": {},
   "outputs": [
    {
     "ename": "TypeError",
     "evalue": "unsupported operand type(s) for |: 'list' and 'list'",
     "output_type": "error",
     "traceback": [
      "\u001b[1;31m---------------------------------------------------------------------------\u001b[0m",
      "\u001b[1;31mTypeError\u001b[0m                                 Traceback (most recent call last)",
      "Cell \u001b[1;32mIn[36], line 4\u001b[0m\n\u001b[0;32m      1\u001b[0m list1 \u001b[38;5;241m=\u001b[39m [\u001b[38;5;241m1\u001b[39m,\u001b[38;5;241m2\u001b[39m,\u001b[38;5;241m3\u001b[39m,\u001b[38;5;241m4\u001b[39m,\u001b[38;5;241m5\u001b[39m,\u001b[38;5;241m6\u001b[39m]\n\u001b[0;32m      2\u001b[0m string_list \u001b[38;5;241m=\u001b[39m [\u001b[38;5;124m\"\u001b[39m\u001b[38;5;124ma\u001b[39m\u001b[38;5;124m\"\u001b[39m, \u001b[38;5;124m\"\u001b[39m\u001b[38;5;124mb\u001b[39m\u001b[38;5;124m\"\u001b[39m, \u001b[38;5;124m\"\u001b[39m\u001b[38;5;124mc\u001b[39m\u001b[38;5;124m\"\u001b[39m] \u001b[38;5;66;03m# Datatype - List\u001b[39;00m\n\u001b[1;32m----> 4\u001b[0m complex_list \u001b[38;5;241m=\u001b[39m \u001b[43mlist1\u001b[49m\u001b[43m \u001b[49m\u001b[38;5;241;43m|\u001b[39;49m\u001b[43m \u001b[49m\u001b[43mstring_list\u001b[49m\n\u001b[0;32m      5\u001b[0m \u001b[38;5;28mprint\u001b[39m(complex_list)\n",
      "\u001b[1;31mTypeError\u001b[0m: unsupported operand type(s) for |: 'list' and 'list'"
     ]
    }
   ],
   "source": [
    "list1 = [1,2,3,4,5,6]\n",
    "string_list = [\"a\", \"b\", \"c\"] # Datatype - List\n",
    "\n",
    "complex_list = list1 | string_list\n",
    "print(complex_list)"
   ]
  },
  {
   "cell_type": "code",
   "execution_count": 37,
   "metadata": {},
   "outputs": [
    {
     "ename": "TypeError",
     "evalue": "unsupported operand type(s) for |: 'tuple' and 'tuple'",
     "output_type": "error",
     "traceback": [
      "\u001b[1;31m---------------------------------------------------------------------------\u001b[0m",
      "\u001b[1;31mTypeError\u001b[0m                                 Traceback (most recent call last)",
      "Cell \u001b[1;32mIn[37], line 4\u001b[0m\n\u001b[0;32m      1\u001b[0m tuple1 \u001b[38;5;241m=\u001b[39m (\u001b[38;5;241m1\u001b[39m,\u001b[38;5;241m2\u001b[39m,\u001b[38;5;241m3\u001b[39m,\u001b[38;5;241m4\u001b[39m,\u001b[38;5;241m5\u001b[39m,\u001b[38;5;241m6\u001b[39m)\n\u001b[0;32m      2\u001b[0m string_tuple \u001b[38;5;241m=\u001b[39m (\u001b[38;5;124m\"\u001b[39m\u001b[38;5;124ma\u001b[39m\u001b[38;5;124m\"\u001b[39m, \u001b[38;5;124m\"\u001b[39m\u001b[38;5;124mb\u001b[39m\u001b[38;5;124m\"\u001b[39m, \u001b[38;5;124m\"\u001b[39m\u001b[38;5;124mc\u001b[39m\u001b[38;5;124m\"\u001b[39m) \u001b[38;5;66;03m# Datatype - List\u001b[39;00m\n\u001b[1;32m----> 4\u001b[0m complex_tuple \u001b[38;5;241m=\u001b[39m \u001b[43mtuple1\u001b[49m\u001b[43m \u001b[49m\u001b[38;5;241;43m|\u001b[39;49m\u001b[43m \u001b[49m\u001b[43mstring_tuple\u001b[49m\n\u001b[0;32m      5\u001b[0m \u001b[38;5;28mprint\u001b[39m(complex_tuple)\n",
      "\u001b[1;31mTypeError\u001b[0m: unsupported operand type(s) for |: 'tuple' and 'tuple'"
     ]
    }
   ],
   "source": [
    "tuple1 = (1,2,3,4,5,6)\n",
    "string_tuple = (\"a\", \"b\", \"c\") # Datatype - List\n",
    "\n",
    "complex_tuple = tuple1 | string_tuple\n",
    "print(complex_tuple)"
   ]
  },
  {
   "cell_type": "markdown",
   "metadata": {},
   "source": [
    "# TypeError: unsupported operand type(s) for |: 'set' and 'tuple'"
   ]
  },
  {
   "cell_type": "code",
   "execution_count": 35,
   "metadata": {},
   "outputs": [
    {
     "ename": "TypeError",
     "evalue": "unsupported operand type(s) for |: 'set' and 'tuple'",
     "output_type": "error",
     "traceback": [
      "\u001b[1;31m---------------------------------------------------------------------------\u001b[0m",
      "\u001b[1;31mTypeError\u001b[0m                                 Traceback (most recent call last)",
      "Cell \u001b[1;32mIn[35], line 6\u001b[0m\n\u001b[0;32m      3\u001b[0m string_list \u001b[38;5;241m=\u001b[39m [\u001b[38;5;124m\"\u001b[39m\u001b[38;5;124ma\u001b[39m\u001b[38;5;124m\"\u001b[39m, \u001b[38;5;124m\"\u001b[39m\u001b[38;5;124mb\u001b[39m\u001b[38;5;124m\"\u001b[39m, \u001b[38;5;124m\"\u001b[39m\u001b[38;5;124mc\u001b[39m\u001b[38;5;124m\"\u001b[39m] \u001b[38;5;66;03m# Datatype - List\u001b[39;00m\n\u001b[0;32m      4\u001b[0m name_tuple \u001b[38;5;241m=\u001b[39m (\u001b[38;5;124m\"\u001b[39m\u001b[38;5;124mSujata\u001b[39m\u001b[38;5;124m\"\u001b[39m, \u001b[38;5;124m\"\u001b[39m\u001b[38;5;124mAnkush\u001b[39m\u001b[38;5;124m\"\u001b[39m, \u001b[38;5;124m\"\u001b[39m\u001b[38;5;124mVijay\u001b[39m\u001b[38;5;124m\"\u001b[39m) \u001b[38;5;66;03m# Datatype - Tuple\u001b[39;00m\n\u001b[1;32m----> 6\u001b[0m complex_set \u001b[38;5;241m=\u001b[39m \u001b[43mset1\u001b[49m\u001b[43m \u001b[49m\u001b[38;5;241;43m|\u001b[39;49m\u001b[43m \u001b[49m\u001b[43mnum_tuple\u001b[49m \u001b[38;5;241m|\u001b[39m string_list \u001b[38;5;241m|\u001b[39m name_tuple\n\u001b[0;32m      7\u001b[0m \u001b[38;5;28mprint\u001b[39m(complex_set)\n",
      "\u001b[1;31mTypeError\u001b[0m: unsupported operand type(s) for |: 'set' and 'tuple'"
     ]
    }
   ],
   "source": [
    "set1 = {1,2,3,4,5,6}\n",
    "num_tuple = (4,5,6,7,8,9) # Datatype - Tuple\n",
    "string_list = [\"a\", \"b\", \"c\"] # Datatype - List\n",
    "name_tuple = (\"Sujata\", \"Ankush\", \"Vijay\") # Datatype - Tuple\n",
    "\n",
    "complex_set = set1 | num_tuple | string_list | name_tuple\n",
    "print(complex_set)"
   ]
  },
  {
   "cell_type": "code",
   "execution_count": 25,
   "metadata": {},
   "outputs": [
    {
     "name": "stdout",
     "output_type": "stream",
     "text": [
      "None\n",
      "{1, 2, 3, 4, 5, 6, 7, 8, 9}\n"
     ]
    }
   ],
   "source": [
    "set1 = {1,2,3,4,5,6}\n",
    "set2 = {4,5,6,7,8,9}\n",
    "print(set1.update(set2)) # print() ---> set1.update(set2) --> return None value---. print(None)\n",
    "print(set1)"
   ]
  },
  {
   "cell_type": "code",
   "execution_count": 28,
   "metadata": {},
   "outputs": [
    {
     "name": "stdout",
     "output_type": "stream",
     "text": [
      "{1, 2, 3, 4, 5, 6, 7, 8, 9}\n"
     ]
    }
   ],
   "source": [
    "set1 = {1,2,3,4,5,6}\n",
    "set2 = {4,5,6,7,8,9}\n",
    "\n",
    "set1 |= set2 # |= Pipe equal to : Shortcut for Update method\n",
    "print(set1)"
   ]
  },
  {
   "cell_type": "code",
   "execution_count": 38,
   "metadata": {},
   "outputs": [
    {
     "ename": "TypeError",
     "evalue": "unsupported operand type(s) for |: 'tuple' and 'list'",
     "output_type": "error",
     "traceback": [
      "\u001b[1;31m---------------------------------------------------------------------------\u001b[0m",
      "\u001b[1;31mTypeError\u001b[0m                                 Traceback (most recent call last)",
      "Cell \u001b[1;32mIn[38], line 6\u001b[0m\n\u001b[0;32m      3\u001b[0m string_list \u001b[38;5;241m=\u001b[39m [\u001b[38;5;124m\"\u001b[39m\u001b[38;5;124ma\u001b[39m\u001b[38;5;124m\"\u001b[39m, \u001b[38;5;124m\"\u001b[39m\u001b[38;5;124mb\u001b[39m\u001b[38;5;124m\"\u001b[39m, \u001b[38;5;124m\"\u001b[39m\u001b[38;5;124mc\u001b[39m\u001b[38;5;124m\"\u001b[39m] \u001b[38;5;66;03m# Datatype - List\u001b[39;00m\n\u001b[0;32m      4\u001b[0m name_tuple \u001b[38;5;241m=\u001b[39m (\u001b[38;5;124m\"\u001b[39m\u001b[38;5;124mSujata\u001b[39m\u001b[38;5;124m\"\u001b[39m, \u001b[38;5;124m\"\u001b[39m\u001b[38;5;124mAnkush\u001b[39m\u001b[38;5;124m\"\u001b[39m, \u001b[38;5;124m\"\u001b[39m\u001b[38;5;124mVijay\u001b[39m\u001b[38;5;124m\"\u001b[39m) \u001b[38;5;66;03m# Datatype - Tuple\u001b[39;00m\n\u001b[1;32m----> 6\u001b[0m set1 \u001b[38;5;241m|\u001b[39m\u001b[38;5;241m=\u001b[39m \u001b[43mnum_tuple\u001b[49m\u001b[43m \u001b[49m\u001b[38;5;241;43m|\u001b[39;49m\u001b[43m \u001b[49m\u001b[43mstring_list\u001b[49m \u001b[38;5;241m|\u001b[39m name_tuple\n\u001b[0;32m      7\u001b[0m \u001b[38;5;28mprint\u001b[39m(set1)\n",
      "\u001b[1;31mTypeError\u001b[0m: unsupported operand type(s) for |: 'tuple' and 'list'"
     ]
    }
   ],
   "source": [
    "set1 = {1,2,3,4,5,6}\n",
    "num_tuple = (4,5,6,7,8,9) # Datatype - Tuple\n",
    "string_list = [\"a\", \"b\", \"c\"] # Datatype - List\n",
    "name_tuple = (\"Sujata\", \"Ankush\", \"Vijay\") # Datatype - Tuple\n",
    "\n",
    "set1 |= num_tuple | string_list | name_tuple\n",
    "print(set1)"
   ]
  },
  {
   "cell_type": "code",
   "execution_count": 39,
   "metadata": {},
   "outputs": [
    {
     "name": "stdout",
     "output_type": "stream",
     "text": [
      "{1, 2, 3, 4, 5, 6, 7, 8, 9, 'b', 'Sujata', 'Ankush', 'Vijay', 'c', 'a'}\n"
     ]
    }
   ],
   "source": [
    "set1 = {1,2,3,4,5,6}\n",
    "num_tuple = (4,5,6,7,8,9) # Datatype - Tuple\n",
    "string_list = [\"a\", \"b\", \"c\"] # Datatype - List\n",
    "name_tuple = (\"Sujata\", \"Ankush\", \"Vijay\") # Datatype - Tuple\n",
    "\n",
    "set1.update(num_tuple, string_list, name_tuple)\n",
    "print(set1)"
   ]
  },
  {
   "cell_type": "code",
   "execution_count": 41,
   "metadata": {},
   "outputs": [
    {
     "name": "stdout",
     "output_type": "stream",
     "text": [
      "{4, 5, 6}\n"
     ]
    }
   ],
   "source": [
    "set1 = {1,2,3,4,5,6}\n",
    "set2 = {4,5,6,7,8,9}\n",
    "\n",
    "# What are common values in set1 and set 2: 4,5,6 ---> Intersection\n",
    "# Create a new set which have all the numbers from set1 and set2: {1,2,3,4,5,6,7,8,9} --> Union, Update\n",
    "# What are different numbers present in set1 that are not present in set 2? 1,2,3 ---> Difference ( A-B)\n",
    "# What are different numbers present in set2 that are not present in set1? 7,8,9 ---> Difference (B-A)\n",
    "# What numbers are different in both set 1 and set 2? 1,2,3,7,8,9 ---> Symmetric Difference--> (A-B) U (B-A)\n",
    "\n",
    "# Keep only the duplicates - Intersection\n",
    "inter_set =set1.intersection(set2)\n",
    "print(inter_set)"
   ]
  },
  {
   "cell_type": "markdown",
   "metadata": {},
   "source": [
    "# The & operator, | operator only allows operation on sets.\n",
    "- & operator only allows to join sets with sets, and not with other data types like you can with the intersection() method."
   ]
  },
  {
   "cell_type": "code",
   "execution_count": 43,
   "metadata": {},
   "outputs": [
    {
     "name": "stdout",
     "output_type": "stream",
     "text": [
      "{4, 5, 6}\n"
     ]
    }
   ],
   "source": [
    "inter_set_2 = set1 & set2 # & operator - Shortcut for intersection method\n",
    "print(inter_set_2)"
   ]
  },
  {
   "cell_type": "code",
   "execution_count": 44,
   "metadata": {},
   "outputs": [
    {
     "ename": "TypeError",
     "evalue": "unsupported operand type(s) for &: 'set' and 'tuple'",
     "output_type": "error",
     "traceback": [
      "\u001b[1;31m---------------------------------------------------------------------------\u001b[0m",
      "\u001b[1;31mTypeError\u001b[0m                                 Traceback (most recent call last)",
      "Cell \u001b[1;32mIn[44], line 6\u001b[0m\n\u001b[0;32m      3\u001b[0m string_list \u001b[38;5;241m=\u001b[39m [\u001b[38;5;124m\"\u001b[39m\u001b[38;5;124ma\u001b[39m\u001b[38;5;124m\"\u001b[39m, \u001b[38;5;124m\"\u001b[39m\u001b[38;5;124mb\u001b[39m\u001b[38;5;124m\"\u001b[39m, \u001b[38;5;124m\"\u001b[39m\u001b[38;5;124mc\u001b[39m\u001b[38;5;124m\"\u001b[39m] \u001b[38;5;66;03m# Datatype - List\u001b[39;00m\n\u001b[0;32m      4\u001b[0m name_tuple \u001b[38;5;241m=\u001b[39m (\u001b[38;5;124m\"\u001b[39m\u001b[38;5;124mSujata\u001b[39m\u001b[38;5;124m\"\u001b[39m, \u001b[38;5;124m\"\u001b[39m\u001b[38;5;124mAnkush\u001b[39m\u001b[38;5;124m\"\u001b[39m, \u001b[38;5;124m\"\u001b[39m\u001b[38;5;124mVijay\u001b[39m\u001b[38;5;124m\"\u001b[39m) \u001b[38;5;66;03m# Datatype - Tuple\u001b[39;00m\n\u001b[1;32m----> 6\u001b[0m \u001b[43mset1\u001b[49m\u001b[43m \u001b[49m\u001b[38;5;241;43m&\u001b[39;49m\u001b[43m \u001b[49m\u001b[43mnum_tuple\u001b[49m \u001b[38;5;241m&\u001b[39m string_list \u001b[38;5;241m&\u001b[39m name_tuple\n\u001b[0;32m      7\u001b[0m \u001b[38;5;28mprint\u001b[39m(set1)\n",
      "\u001b[1;31mTypeError\u001b[0m: unsupported operand type(s) for &: 'set' and 'tuple'"
     ]
    }
   ],
   "source": [
    "set1 = {1,2,3,4,5,6}\n",
    "num_tuple = (4,5,6,7,8,9) # Datatype - Tuple\n",
    "string_list = [\"a\", \"b\", \"c\"] # Datatype - List\n",
    "name_tuple = (\"Sujata\", \"Ankush\", \"Vijay\") # Datatype - Tuple\n",
    "\n",
    "set1 & num_tuple & string_list & name_tuple\n",
    "print(set1)"
   ]
  },
  {
   "cell_type": "code",
   "execution_count": 45,
   "metadata": {},
   "outputs": [
    {
     "name": "stdout",
     "output_type": "stream",
     "text": [
      "set()\n"
     ]
    }
   ],
   "source": [
    "set1 = {1,2,3,4,5,6}\n",
    "num_tuple = (4,5,6,7,8,9) # Datatype - Tuple\n",
    "string_list = [\"a\", \"b\", \"c\"] # Datatype - List\n",
    "name_tuple = (\"Sujata\", \"Ankush\", \"Vijay\") # Datatype - Tuple\n",
    "\n",
    "complex_intersection = set1.intersection(num_tuple , string_list , name_tuple)\n",
    "print(complex_intersection)"
   ]
  },
  {
   "cell_type": "code",
   "execution_count": 49,
   "metadata": {},
   "outputs": [
    {
     "name": "stdout",
     "output_type": "stream",
     "text": [
      "None\n",
      "{'apple'}\n"
     ]
    }
   ],
   "source": [
    "# intersection_update()- will keep only the duplicates but it will change the original set instead of returning a new set.\n",
    "\n",
    "set_1 = {\"apple\", \"banana\", \"cherry\"}\n",
    "set_2 = {\"google\", \"microsoft\", \"apple\"}\n",
    "\n",
    "print(set_1.intersection_update(set_2)) # None return value\n",
    "print(set_1)"
   ]
  },
  {
   "cell_type": "code",
   "execution_count": 57,
   "metadata": {},
   "outputs": [
    {
     "data": {
      "text/plain": [
       "{'apple'}"
      ]
     },
     "execution_count": 57,
     "metadata": {},
     "output_type": "execute_result"
    }
   ],
   "source": [
    "set_1 = {\"apple\", \"banana\", \"cherry\"}\n",
    "set_2 = {\"google\", \"microsoft\", \"apple\"}\n",
    "\n",
    "class CustomSet(set):\n",
    "    def __init__(self, var_set_1, var_set_2): # Constructor, Constructor Parameter\n",
    "        self.input_set = var_set_1\n",
    "        self.output_set = var_set_2\n",
    "\n",
    "    def custom_intersection_update(self, ): # custom_intersection_update() - Method\n",
    "        inter = self.input_set.intersection(self.output_set)\n",
    "        self.input_set.clear()\n",
    "        self.input_set.add(inter.pop())\n",
    "        return None # Return Value\n",
    "\n",
    "object_1 = CustomSet(set_1, set_2) # Object - Class - CustomSet()\n",
    "\n",
    "object_1.custom_intersection_update()\n",
    "object_1.input_set"
   ]
  },
  {
   "cell_type": "code",
   "execution_count": 1,
   "metadata": {},
   "outputs": [
    {
     "name": "stdout",
     "output_type": "stream",
     "text": [
      "{1, 2, 3}\n"
     ]
    }
   ],
   "source": [
    "set1 = {1,2,3,4,5,6}\n",
    "set2 = {4,5,6,7,8,9}\n",
    "\n",
    "# What are common values in set1 and set 2: 4,5,6 ---> Intersection\n",
    "# Create a new set which have all the numbers from set1 and set2: {1,2,3,4,5,6,7,8,9} --> Union, Update\n",
    "# What are different numbers present in set1 that are not present in set 2? 1,2,3 ---> Difference ( A-B)\n",
    "# What are different numbers present in set2 that are not present in set1? 7,8,9 ---> Difference (B-A)\n",
    "# What numbers are different in both set 1 and set 2? 1,2,3,7,8,9 ---> Symmetric Difference--> (A-B) U (B-A)\n",
    "\n",
    "differ_set =set1.difference(set2)\n",
    "print(differ_set)"
   ]
  },
  {
   "cell_type": "markdown",
   "metadata": {},
   "source": [
    "# - operator : only set with set"
   ]
  },
  {
   "cell_type": "code",
   "execution_count": 2,
   "metadata": {},
   "outputs": [
    {
     "name": "stdout",
     "output_type": "stream",
     "text": [
      "{1, 2, 3}\n"
     ]
    }
   ],
   "source": [
    "set1 = {1,2,3,4,5,6}\n",
    "set2 = {4,5,6,7,8,9}\n",
    "\n",
    "set3 = set1 - set2 # - operator instead of difference() method\n",
    "print(set3)"
   ]
  },
  {
   "cell_type": "code",
   "execution_count": 3,
   "metadata": {},
   "outputs": [
    {
     "name": "stdout",
     "output_type": "stream",
     "text": [
      "{8, 9, 7}\n"
     ]
    }
   ],
   "source": [
    "set1 = {1,2,3,4,5,6}\n",
    "set2 = {4,5,6,7,8,9}\n",
    "\n",
    "# What are common values in set1 and set 2: 4,5,6 ---> Intersection\n",
    "# Create a new set which have all the numbers from set1 and set2: {1,2,3,4,5,6,7,8,9} --> Union, Update\n",
    "# What are different numbers present in set1 that are not present in set 2? 1,2,3 ---> Difference ( A-B)\n",
    "# What are different numbers present in set2 that are not present in set1? 7,8,9 ---> Difference (B-A)\n",
    "# What numbers are different in both set 1 and set 2? 1,2,3,7,8,9 ---> Symmetric Difference--> (A-B) U (B-A)\n",
    "\n",
    "differ_set_2 =set2.difference(set1)\n",
    "print(differ_set_2)"
   ]
  },
  {
   "cell_type": "code",
   "execution_count": 4,
   "metadata": {},
   "outputs": [
    {
     "name": "stdout",
     "output_type": "stream",
     "text": [
      "{1, 2, 3}\n"
     ]
    }
   ],
   "source": [
    "set1 = {1,2,3,4,5,6}\n",
    "set2 = {4,5,6,7,8,9}\n",
    "\n",
    "# What are common values in set1 and set 2: 4,5,6 ---> Intersection\n",
    "# Create a new set which have all the numbers from set1 and set2: {1,2,3,4,5,6,7,8,9} --> Union, Update\n",
    "# What are different numbers present in set1 that are not present in set 2? 1,2,3 ---> Difference ( A-B)\n",
    "# What are different numbers present in set2 that are not present in set1? 7,8,9 ---> Difference (B-A)\n",
    "# What numbers are different in both set 1 and set 2? 1,2,3,7,8,9 ---> Symmetric Difference--> (A-B) U (B-A)\n",
    "\n",
    "set1.difference_update(set2)\n",
    "print(set1)"
   ]
  },
  {
   "cell_type": "code",
   "execution_count": 5,
   "metadata": {},
   "outputs": [
    {
     "name": "stdout",
     "output_type": "stream",
     "text": [
      "{1, 2, 3, 7, 8, 9}\n"
     ]
    }
   ],
   "source": [
    "set1 = {1,2,3,4,5,6}\n",
    "set2 = {4,5,6,7,8,9}\n",
    "\n",
    "# What are common values in set1 and set 2: 4,5,6 ---> Intersection\n",
    "# Create a new set which have all the numbers from set1 and set2: {1,2,3,4,5,6,7,8,9} --> Union, Update\n",
    "# What are different numbers present in set1 that are not present in set 2? 1,2,3 ---> Difference ( A-B)\n",
    "# What are different numbers present in set2 that are not present in set1? 7,8,9 ---> Difference (B-A)\n",
    "# What numbers are different in both set 1 and set 2? 1,2,3,7,8,9 ---> Symmetric Difference--> (A-B) U (B-A)\n",
    "\n",
    "set3 = set1.symmetric_difference(set2)\n",
    "print(set3)"
   ]
  },
  {
   "cell_type": "code",
   "execution_count": 6,
   "metadata": {},
   "outputs": [
    {
     "name": "stdout",
     "output_type": "stream",
     "text": [
      "{1, 2, 3, 7, 8, 9}\n"
     ]
    }
   ],
   "source": [
    "set1 = {1,2,3,4,5,6}\n",
    "set2 = {4,5,6,7,8,9}\n",
    "\n",
    "# What are common values in set1 and set 2: 4,5,6 ---> Intersection\n",
    "# Create a new set which have all the numbers from set1 and set2: {1,2,3,4,5,6,7,8,9} --> Union, Update\n",
    "# What are different numbers present in set1 that are not present in set 2? 1,2,3 ---> Difference ( A-B)\n",
    "# What are different numbers present in set2 that are not present in set1? 7,8,9 ---> Difference (B-A)\n",
    "# What numbers are different in both set 1 and set 2? 1,2,3,7,8,9 ---> Symmetric Difference--> (A-B) U (B-A)\n",
    "\n",
    "set1.symmetric_difference_update(set2)\n",
    "print(set1)"
   ]
  },
  {
   "cell_type": "code",
   "execution_count": 7,
   "metadata": {},
   "outputs": [
    {
     "name": "stdout",
     "output_type": "stream",
     "text": [
      "{1, 2, 3, 7, 8, 9}\n"
     ]
    }
   ],
   "source": [
    "set1 = {1,2,3,4,5,6}\n",
    "set2 = {4,5,6,7,8,9}\n",
    "\n",
    "# What are common values in set1 and set 2: 4,5,6 ---> Intersection\n",
    "# Create a new set which have all the numbers from set1 and set2: {1,2,3,4,5,6,7,8,9} --> Union, Update\n",
    "# What are different numbers present in set1 that are not present in set 2? 1,2,3 ---> Difference ( A-B)\n",
    "# What are different numbers present in set2 that are not present in set1? 7,8,9 ---> Difference (B-A)\n",
    "# What numbers are different in both set 1 and set 2? 1,2,3,7,8,9 ---> Symmetric Difference--> (A-B) U (B-A)\n",
    "\n",
    "set3 = set1 ^ set2\n",
    "print(set3)"
   ]
  },
  {
   "cell_type": "markdown",
   "metadata": {},
   "source": [
    "# copy() method\n",
    "- copy a set into a new variable"
   ]
  },
  {
   "cell_type": "code",
   "execution_count": 16,
   "metadata": {},
   "outputs": [
    {
     "name": "stdout",
     "output_type": "stream",
     "text": [
      "{'rohan', 'pihu', 'sanaya'}\n"
     ]
    }
   ],
   "source": [
    "name_set = {\"pihu\", \"rohan\", \"sanaya\"}\n",
    "x = name_set.copy()\n",
    "print(x)"
   ]
  },
  {
   "cell_type": "markdown",
   "metadata": {},
   "source": [
    "# Python Set isdisjoint() Method\n",
    "- The isdisjoint() method returns True if none of the items are present in both sets, otherwiise it returns False."
   ]
  },
  {
   "cell_type": "code",
   "execution_count": 5,
   "metadata": {},
   "outputs": [
    {
     "name": "stdout",
     "output_type": "stream",
     "text": [
      "True\n"
     ]
    }
   ],
   "source": [
    "x = {\"apple\", \"banana\", \"cherry\"} # x is a set of fruits\n",
    "y = {\"google\", \"microsoft\", \"facebook\"} # y is a set of companies\n",
    "\n",
    "# True and False:- Checking (x) or (y) \n",
    "z = x.isdisjoint(y)\n",
    "print(z)"
   ]
  },
  {
   "cell_type": "code",
   "execution_count": 6,
   "metadata": {},
   "outputs": [
    {
     "name": "stdout",
     "output_type": "stream",
     "text": [
      "False\n"
     ]
    }
   ],
   "source": [
    "x = {\"apple\", \"banana\", \"cherry\"}\n",
    "y = {\"google\", \"microsoft\", \"facebook\", \"apple\"}\n",
    "\n",
    "# True and False:- Checking (x) or (y) \n",
    "z = x.isdisjoint(y)\n",
    "print(z)"
   ]
  },
  {
   "cell_type": "code",
   "execution_count": 7,
   "metadata": {},
   "outputs": [
    {
     "name": "stdout",
     "output_type": "stream",
     "text": [
      "False\n"
     ]
    }
   ],
   "source": [
    "x = {\"apple\", \"banana\", \"cherry\"}\n",
    "y = {\"google\", \"microsoft\", \"facebook\", \"apple\"}\n",
    "\n",
    "# True and False:- Checking (x) or (y) \n",
    "z = y.isdisjoint(x)\n",
    "print(z)"
   ]
  },
  {
   "cell_type": "markdown",
   "metadata": {},
   "source": [
    "# issubset() Method\n",
    "- The issubset() method returns True if all items in the set exists in the specified set, otherwise it returns False.\n",
    "- As a shortcut, you can use the <=  operator instead."
   ]
  },
  {
   "cell_type": "code",
   "execution_count": 8,
   "metadata": {},
   "outputs": [
    {
     "name": "stdout",
     "output_type": "stream",
     "text": [
      "True\n"
     ]
    }
   ],
   "source": [
    "x = {1,2,3,4}\n",
    "y = {1,2,3,4,5,6,7,8,9,10}\n",
    "\n",
    "# A is a subset of B \n",
    "# x is a proper subset of y\n",
    "z = x.issubset(y)\n",
    "print(z)"
   ]
  },
  {
   "cell_type": "code",
   "execution_count": 9,
   "metadata": {},
   "outputs": [
    {
     "name": "stdout",
     "output_type": "stream",
     "text": [
      "True\n"
     ]
    }
   ],
   "source": [
    "x = {1,2,3,4}\n",
    "y = {1,2,3,4,5,6,7,8,9,10}\n",
    "\n",
    "# A is a subset of B \n",
    "# x is a proper subset of y\n",
    "z = x <= y\n",
    "print(z)"
   ]
  },
  {
   "cell_type": "code",
   "execution_count": 11,
   "metadata": {},
   "outputs": [
    {
     "name": "stdout",
     "output_type": "stream",
     "text": [
      "False\n"
     ]
    }
   ],
   "source": [
    "x = {1,2,3,111}\n",
    "y = {1,2,3,4,5,6,7,8,9,10}\n",
    "\n",
    "# A is a subset of B \n",
    "# x is not a proper subset of y\n",
    "z = x.issubset(y)\n",
    "print(z)"
   ]
  },
  {
   "cell_type": "markdown",
   "metadata": {},
   "source": [
    "# issuperset() Method\n",
    "- The issuperset() method returns True if all items in the specified set exists in the original set, otherwise it returns False.\n",
    "- As a shortcut , you can use the >= operator."
   ]
  },
  {
   "cell_type": "code",
   "execution_count": 13,
   "metadata": {},
   "outputs": [
    {
     "name": "stdout",
     "output_type": "stream",
     "text": [
      "False\n"
     ]
    }
   ],
   "source": [
    "x = {1,2,3}\n",
    "y = {1,2,3,4,5,6,7,8,9,10}\n",
    "\n",
    "z = x.issuperset(y)\n",
    "print(z)"
   ]
  },
  {
   "cell_type": "code",
   "execution_count": 14,
   "metadata": {},
   "outputs": [
    {
     "name": "stdout",
     "output_type": "stream",
     "text": [
      "True\n"
     ]
    }
   ],
   "source": [
    "x = {1,2,3}\n",
    "y = {1,2,3,4,5,6,7,8,9,10}\n",
    "\n",
    "z = y.issuperset(x)\n",
    "print(z)"
   ]
  },
  {
   "cell_type": "code",
   "execution_count": 15,
   "metadata": {},
   "outputs": [
    {
     "name": "stdout",
     "output_type": "stream",
     "text": [
      "True\n"
     ]
    }
   ],
   "source": [
    "x = {1,2,3}\n",
    "y = {1,2,3,4,5,6,7,8,9,10}\n",
    "\n",
    "z = y >= x \n",
    "print(z)"
   ]
  },
  {
   "cell_type": "code",
   "execution_count": 16,
   "metadata": {},
   "outputs": [
    {
     "name": "stdout",
     "output_type": "stream",
     "text": [
      "False\n"
     ]
    }
   ],
   "source": [
    "x = {1,2,3}\n",
    "y = {1,2}\n",
    "\n",
    "z = y >= x \n",
    "print(z)"
   ]
  },
  {
   "cell_type": "code",
   "execution_count": 17,
   "metadata": {},
   "outputs": [
    {
     "name": "stdout",
     "output_type": "stream",
     "text": [
      "True\n"
     ]
    }
   ],
   "source": [
    "x = {1,2,3}\n",
    "y = {1,2,3}\n",
    "\n",
    "z = y >= x \n",
    "print(z)"
   ]
  },
  {
   "cell_type": "code",
   "execution_count": 18,
   "metadata": {},
   "outputs": [
    {
     "name": "stdout",
     "output_type": "stream",
     "text": [
      "True\n"
     ]
    }
   ],
   "source": [
    "x = {1,2,3}\n",
    "y = {1,2,3,4,5,6,7,8,9,10}\n",
    "\n",
    "z = y >= x \n",
    "print(z)"
   ]
  },
  {
   "cell_type": "code",
   "execution_count": null,
   "metadata": {},
   "outputs": [],
   "source": []
  }
 ],
 "metadata": {
  "kernelspec": {
   "display_name": "python_env",
   "language": "python",
   "name": "python3"
  },
  "language_info": {
   "codemirror_mode": {
    "name": "ipython",
    "version": 3
   },
   "file_extension": ".py",
   "mimetype": "text/x-python",
   "name": "python",
   "nbconvert_exporter": "python",
   "pygments_lexer": "ipython3",
   "version": "3.12.7"
  }
 },
 "nbformat": 4,
 "nbformat_minor": 2
}
