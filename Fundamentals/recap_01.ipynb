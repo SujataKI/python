{
 "cells": [
  {
   "cell_type": "markdown",
   "id": "668b85a2",
   "metadata": {},
   "source": [
    "# Recap of Python Fundamentals"
   ]
  },
  {
   "cell_type": "code",
   "execution_count": 1,
   "id": "fd01d1c4",
   "metadata": {},
   "outputs": [
    {
     "name": "stdout",
     "output_type": "stream",
     "text": [
      "Hi my name is Sujata Kumari and my age is 25\n"
     ]
    }
   ],
   "source": [
    "# Creating a variable\n",
    "name = \"Sujata Kumari\"\n",
    "age = 25\n",
    "\n",
    "print(f\"Hi my name is {name} and my age is {age}\")"
   ]
  },
  {
   "cell_type": "code",
   "execution_count": 3,
   "id": "23963563",
   "metadata": {},
   "outputs": [
    {
     "ename": "NameError",
     "evalue": "name 'printf' is not defined",
     "output_type": "error",
     "traceback": [
      "\u001b[31m---------------------------------------------------------------------------\u001b[39m",
      "\u001b[31mNameError\u001b[39m                                 Traceback (most recent call last)",
      "\u001b[36mCell\u001b[39m\u001b[36m \u001b[39m\u001b[32mIn[3]\u001b[39m\u001b[32m, line 6\u001b[39m\n\u001b[32m      3\u001b[39m age = \u001b[32m25\u001b[39m\n\u001b[32m      5\u001b[39m \u001b[38;5;66;03m# producing an error\u001b[39;00m\n\u001b[32m----> \u001b[39m\u001b[32m6\u001b[39m \u001b[43mprintf\u001b[49m(\u001b[33m\"\u001b[39m\u001b[33mHi my name is \u001b[39m\u001b[38;5;132;01m{name}\u001b[39;00m\u001b[33m and my age is \u001b[39m\u001b[38;5;132;01m{age}\u001b[39;00m\u001b[33m\"\u001b[39m)\n",
      "\u001b[31mNameError\u001b[39m: name 'printf' is not defined"
     ]
    }
   ],
   "source": [
    "# Creating a variable\n",
    "name = \"Sujata Kumari\"\n",
    "age = 25\n",
    "\n",
    "# producing an error\n",
    "printf(\"Hi my name is {name} and my age is {age}\")"
   ]
  },
  {
   "cell_type": "code",
   "execution_count": 5,
   "id": "67f1a877",
   "metadata": {},
   "outputs": [
    {
     "data": {
      "text/plain": [
       "['apple', 'banana', 'kiwi']"
      ]
     },
     "execution_count": 5,
     "metadata": {},
     "output_type": "execute_result"
    }
   ],
   "source": [
    "list_1 = [\"apple\", \"banana\", \"kiwi\"]\n",
    "list_1"
   ]
  },
  {
   "cell_type": "code",
   "execution_count": 10,
   "id": "4ffd1426",
   "metadata": {},
   "outputs": [
    {
     "data": {
      "text/plain": [
       "{'key_name': 'Sujata Kumari',\n",
       " 'key_age': 26,\n",
       " 'key_gender': 'Female',\n",
       " 'key_weight': 55}"
      ]
     },
     "execution_count": 10,
     "metadata": {},
     "output_type": "execute_result"
    }
   ],
   "source": [
    "dict_1 = {\n",
    "    \"key_name\" : \"Sujata Kumari\",\n",
    "    \"key_age\" : 26,\n",
    "    \"key_gender\" : \"Female\",\n",
    "    \"key_weight\" : 55,\n",
    "}\n",
    "dict_1"
   ]
  },
  {
   "cell_type": "code",
   "execution_count": 11,
   "id": "34705afa",
   "metadata": {},
   "outputs": [
    {
     "data": {
      "text/plain": [
       "dict_items([('key_name', 'Sujata Kumari'), ('key_age', 26), ('key_gender', 'Female'), ('key_weight', 55)])"
      ]
     },
     "execution_count": 11,
     "metadata": {},
     "output_type": "execute_result"
    }
   ],
   "source": [
    "dict_1.items()"
   ]
  },
  {
   "cell_type": "code",
   "execution_count": 12,
   "id": "fc697a74",
   "metadata": {},
   "outputs": [
    {
     "data": {
      "text/plain": [
       "dict_values(['Sujata Kumari', 26, 'Female', 55])"
      ]
     },
     "execution_count": 12,
     "metadata": {},
     "output_type": "execute_result"
    }
   ],
   "source": [
    "dict_1.values()"
   ]
  },
  {
   "cell_type": "code",
   "execution_count": 13,
   "id": "f5932f19",
   "metadata": {},
   "outputs": [
    {
     "data": {
      "text/plain": [
       "dict_keys(['key_name', 'key_age', 'key_gender', 'key_weight'])"
      ]
     },
     "execution_count": 13,
     "metadata": {},
     "output_type": "execute_result"
    }
   ],
   "source": [
    "dict_1.keys()"
   ]
  },
  {
   "cell_type": "code",
   "execution_count": 14,
   "id": "0f4911d5",
   "metadata": {},
   "outputs": [
    {
     "name": "stdout",
     "output_type": "stream",
     "text": [
      "apple\n",
      "Sujata\n",
      "6 PM\n"
     ]
    }
   ],
   "source": [
    "name_list = [\"apple\", \"Sujata\", \"6 PM\"]\n",
    "\n",
    "for i in name_list:\n",
    "    print(i)"
   ]
  },
  {
   "cell_type": "code",
   "execution_count": 18,
   "id": "a951c266",
   "metadata": {},
   "outputs": [],
   "source": [
    "def my_function(arg_1, arg_2):\n",
    "    print(f\"Hi my name is {arg_1}, and my age is {arg_2}.\")"
   ]
  },
  {
   "cell_type": "code",
   "execution_count": 19,
   "id": "a8bbdbc1",
   "metadata": {},
   "outputs": [
    {
     "name": "stdout",
     "output_type": "stream",
     "text": [
      "Hi my name is Sujata Kumari, and my age is 25.\n"
     ]
    }
   ],
   "source": [
    "my_function(name, age)"
   ]
  },
  {
   "cell_type": "code",
   "execution_count": 26,
   "id": "cde14fff",
   "metadata": {},
   "outputs": [
    {
     "name": "stdout",
     "output_type": "stream",
     "text": [
      "1\n",
      "2\n",
      "3\n",
      "4\n",
      "5\n",
      "6\n",
      "7\n",
      "8\n",
      "9\n",
      "10\n",
      "Sum is: 55\n"
     ]
    }
   ],
   "source": [
    "# Problem : Calculate the sum of all integers from 1 to a given number\n",
    "# 1 , 2 ,3 ,4 ...10 = > 1 + 2+ 3+ 4... + 10 \n",
    "\n",
    "i = 0\n",
    "num = int(input(\"Enter the number \"))\n",
    "\n",
    "for x in range(1, num+1, 1):\n",
    "    i+=x\n",
    "    print(x)\n",
    "\n",
    "print(\"Sum is:\", i)"
   ]
  },
  {
   "cell_type": "code",
   "execution_count": null,
   "id": "f4828879",
   "metadata": {},
   "outputs": [],
   "source": []
  }
 ],
 "metadata": {
  "kernelspec": {
   "display_name": "python_env_3_12_9",
   "language": "python",
   "name": "python3"
  },
  "language_info": {
   "codemirror_mode": {
    "name": "ipython",
    "version": 3
   },
   "file_extension": ".py",
   "mimetype": "text/x-python",
   "name": "python",
   "nbconvert_exporter": "python",
   "pygments_lexer": "ipython3",
   "version": "3.12.9"
  }
 },
 "nbformat": 4,
 "nbformat_minor": 5
}
