{
 "cells": [
  {
   "cell_type": "markdown",
   "id": "521d572b",
   "metadata": {},
   "source": [
    "# Python-Nested Dictionaries\n",
    "- A dictionary can contain dictionaries, this is called nested dictionaries.\n",
    "- Example: If you want to add three dictionaries into a new dictionary.\n",
    "- To access items from a nested dictionary, you can use the name of the dictionaries , starting with the outer dictionary.\n",
    "- To loop through the nested dictionaries you can use items() method"
   ]
  },
  {
   "cell_type": "code",
   "execution_count": 10,
   "id": "c5be94cf",
   "metadata": {},
   "outputs": [
    {
     "data": {
      "text/plain": [
       "{'child1': {'name': 'Sujata', 'year': 2004},\n",
       " 'child2': {'name': 'Suraj', 'year': 2007},\n",
       " 'child3': {'name': 'Soniya', 'year': 2011}}"
      ]
     },
     "execution_count": 10,
     "metadata": {},
     "output_type": "execute_result"
    }
   ],
   "source": [
    "child1 = {\n",
    "    \"name\": \"Sujata\",\n",
    "    \"year\": 2004\n",
    "}\n",
    "child2 = {\n",
    "    \"name\": \"Suraj\",\n",
    "    \"year\": 2007\n",
    "}\n",
    "child3 = {\n",
    "    \"name\": \"Soniya\",\n",
    "    \"year\": 2011\n",
    "}\n",
    "\n",
    "myfamily = {\n",
    "    \"child1\": child1, # key_string: value_dictionary\n",
    "    \"child2\": child2,\n",
    "    \"child3\": child3\n",
    "}\n",
    "myfamily"
   ]
  },
  {
   "cell_type": "code",
   "execution_count": 11,
   "id": "46472977",
   "metadata": {},
   "outputs": [
    {
     "data": {
      "text/plain": [
       "{'female': {'name': 'Sujata'}, 'male': 'Suraj'}"
      ]
     },
     "execution_count": 11,
     "metadata": {},
     "output_type": "execute_result"
    }
   ],
   "source": [
    "data_dictionary = {\n",
    "    \"female\": {\"name\":\"Sujata\"},\n",
    "    \"male\": \"Suraj\",\n",
    "}\n",
    "data_dictionary"
   ]
  },
  {
   "cell_type": "code",
   "execution_count": 15,
   "id": "4dd86ff2",
   "metadata": {},
   "outputs": [
    {
     "data": {
      "text/plain": [
       "'Sujata'"
      ]
     },
     "execution_count": 15,
     "metadata": {},
     "output_type": "execute_result"
    }
   ],
   "source": [
    "data_dictionary[\"female\"][\"name\"]"
   ]
  },
  {
   "cell_type": "code",
   "execution_count": 13,
   "id": "65bf2a07",
   "metadata": {},
   "outputs": [
    {
     "data": {
      "text/plain": [
       "2004"
      ]
     },
     "execution_count": 13,
     "metadata": {},
     "output_type": "execute_result"
    }
   ],
   "source": [
    "myfamily[\"child1\"][\"year\"]"
   ]
  },
  {
   "cell_type": "code",
   "execution_count": 14,
   "id": "c02173b4",
   "metadata": {},
   "outputs": [
    {
     "data": {
      "text/plain": [
       "'Sujata'"
      ]
     },
     "execution_count": 14,
     "metadata": {},
     "output_type": "execute_result"
    }
   ],
   "source": [
    "myfamily[\"child1\"][\"name\"]"
   ]
  },
  {
   "cell_type": "code",
   "execution_count": 17,
   "id": "d041e0cf",
   "metadata": {},
   "outputs": [
    {
     "name": "stdout",
     "output_type": "stream",
     "text": [
      "{'name': 'Sujata', 'year': 2004}\n",
      "{'name': 'Suraj', 'year': 2007}\n",
      "{'name': 'Soniya', 'year': 2011}\n"
     ]
    }
   ],
   "source": [
    "for x in myfamily.values():\n",
    "    print(x)"
   ]
  },
  {
   "cell_type": "code",
   "execution_count": 18,
   "id": "603919de",
   "metadata": {},
   "outputs": [
    {
     "name": "stdout",
     "output_type": "stream",
     "text": [
      "('child1', {'name': 'Sujata', 'year': 2004})\n",
      "('child2', {'name': 'Suraj', 'year': 2007})\n",
      "('child3', {'name': 'Soniya', 'year': 2011})\n"
     ]
    }
   ],
   "source": [
    "for y in myfamily.items():\n",
    "    print(y)"
   ]
  },
  {
   "cell_type": "code",
   "execution_count": null,
   "id": "b1e0f5ce",
   "metadata": {},
   "outputs": [
    {
     "name": "stdout",
     "output_type": "stream",
     "text": [
      "child1\n",
      "child2\n",
      "child3\n"
     ]
    }
   ],
   "source": [
    "for var_x in myfamily: # Normal for loop will return Keys\n",
    "    print(var_x)"
   ]
  },
  {
   "cell_type": "code",
   "execution_count": null,
   "id": "a358727e",
   "metadata": {},
   "outputs": [
    {
     "name": "stdout",
     "output_type": "stream",
     "text": [
      "child1\n",
      "name: Sujata\n",
      "year: 2004\n",
      "child2\n",
      "name: Suraj\n",
      "year: 2007\n",
      "child3\n",
      "name: Soniya\n",
      "year: 2011\n"
     ]
    }
   ],
   "source": [
    "for var_1, var_2 in myfamily.items():\n",
    "    print(var_1)\n",
    "    for var_3 in var_2: # var_2 is the nested dictionary inside myfamily dictionary\n",
    "        print(var_3 + ':', var_2[var_3]) # var_3 stores the keys of the nested dictionary: var_2 = {name: \"Sujata\", \"year\": 2004}, var_2[\"name\"] "
   ]
  },
  {
   "cell_type": "code",
   "execution_count": 24,
   "id": "9bae66b6",
   "metadata": {},
   "outputs": [
    {
     "name": "stdout",
     "output_type": "stream",
     "text": [
      "child1\n",
      "name: Sujata\n",
      "year: 2004\n",
      "child2\n",
      "name: Suraj\n",
      "year: 2007\n",
      "child3\n",
      "name: Soniya\n",
      "year: 2011\n"
     ]
    }
   ],
   "source": [
    "for x, obj in myfamily.items():\n",
    "    print(x)\n",
    "    for y in obj:\n",
    "        print(y + ':', obj[y])"
   ]
  },
  {
   "cell_type": "markdown",
   "id": "0c8d1f76",
   "metadata": {},
   "source": [
    "# fromkey() Method\n",
    "- This method returns a dictionary with the specified keys and the specified value."
   ]
  },
  {
   "cell_type": "code",
   "execution_count": 26,
   "id": "51f58977",
   "metadata": {},
   "outputs": [
    {
     "data": {
      "text/plain": [
       "{}"
      ]
     },
     "execution_count": 26,
     "metadata": {},
     "output_type": "execute_result"
    }
   ],
   "source": [
    "dict() # empty dictionary"
   ]
  },
  {
   "cell_type": "code",
   "execution_count": null,
   "id": "94b8a3b6",
   "metadata": {},
   "outputs": [
    {
     "name": "stdout",
     "output_type": "stream",
     "text": [
      "{'key1': None, 'key2': None, 'key3': None}\n"
     ]
    }
   ],
   "source": [
    "x = ('key1', 'key2', 'key3')\n",
    "thisdict = dict.fromkeys(x) # dict.fromkeys(keys, value)\n",
    "print(thisdict)"
   ]
  },
  {
   "cell_type": "code",
   "execution_count": 7,
   "id": "17500219",
   "metadata": {},
   "outputs": [
    {
     "name": "stdout",
     "output_type": "stream",
     "text": [
      "{'key1': 20, 'key2': 20, 'key3': 20}\n"
     ]
    }
   ],
   "source": [
    "x = ('key1', 'key2', 'key3')\n",
    "y = 20\n",
    "thisdict = dict.fromkeys(x,y)\n",
    "print(thisdict)"
   ]
  },
  {
   "cell_type": "code",
   "execution_count": 9,
   "id": "7811db95",
   "metadata": {},
   "outputs": [
    {
     "name": "stdout",
     "output_type": "stream",
     "text": [
      "{'key1': ('sub_value1', 'sub_value2', 'sub_value3'), 'key2': ('sub_value1', 'sub_value2', 'sub_value3'), 'key3': ('sub_value1', 'sub_value2', 'sub_value3')}\n"
     ]
    }
   ],
   "source": [
    "x = ('key1', 'key2', 'key3')\n",
    "y = ('sub_value1', 'sub_value2', 'sub_value3')\n",
    "thisdict = dict.fromkeys(x,y)\n",
    "print(thisdict)"
   ]
  },
  {
   "cell_type": "markdown",
   "id": "7e905524",
   "metadata": {},
   "source": [
    "# get() Method"
   ]
  },
  {
   "cell_type": "code",
   "execution_count": 28,
   "id": "b53db96f",
   "metadata": {},
   "outputs": [
    {
     "data": {
      "text/plain": [
       "{'child1': {'name': 'Sujata', 'year': 2004},\n",
       " 'child2': {'name': 'Suraj', 'year': 2007},\n",
       " 'child3': {'name': 'Soniya', 'year': 2011}}"
      ]
     },
     "execution_count": 28,
     "metadata": {},
     "output_type": "execute_result"
    }
   ],
   "source": [
    "myfamily"
   ]
  },
  {
   "cell_type": "code",
   "execution_count": 29,
   "id": "49df8e7f",
   "metadata": {},
   "outputs": [
    {
     "data": {
      "text/plain": [
       "{'name': 'Sujata', 'year': 2004}"
      ]
     },
     "execution_count": 29,
     "metadata": {},
     "output_type": "execute_result"
    }
   ],
   "source": [
    "# dictionary.get(keyname,value)\n",
    "myfamily.get(\"child1\")"
   ]
  },
  {
   "cell_type": "code",
   "execution_count": 31,
   "id": "b8b253dd",
   "metadata": {},
   "outputs": [
    {
     "data": {
      "text/plain": [
       "{'name': 'Sujata', 'year': 2004}"
      ]
     },
     "execution_count": 31,
     "metadata": {},
     "output_type": "execute_result"
    }
   ],
   "source": [
    "myfamily.get(\"child1\", 20)"
   ]
  },
  {
   "cell_type": "code",
   "execution_count": 33,
   "id": "b0bb1cd4",
   "metadata": {},
   "outputs": [
    {
     "data": {
      "text/plain": [
       "{'brand': 'Ford', 'model': 'Mustang', 'year': 1964}"
      ]
     },
     "execution_count": 33,
     "metadata": {},
     "output_type": "execute_result"
    }
   ],
   "source": [
    "car = {\n",
    "    \"brand\":\"Ford\",\n",
    "    \"model\": \"Mustang\",\n",
    "    \"year\": 1964\n",
    "}\n",
    "car"
   ]
  },
  {
   "cell_type": "code",
   "execution_count": 36,
   "id": "44a1c326",
   "metadata": {},
   "outputs": [
    {
     "data": {
      "text/plain": [
       "'Ford'"
      ]
     },
     "execution_count": 36,
     "metadata": {},
     "output_type": "execute_result"
    }
   ],
   "source": [
    "car.get(\"brand\")"
   ]
  },
  {
   "cell_type": "code",
   "execution_count": 38,
   "id": "422c2b80",
   "metadata": {},
   "outputs": [
    {
     "data": {
      "text/plain": [
       "'Sujata'"
      ]
     },
     "execution_count": 38,
     "metadata": {},
     "output_type": "execute_result"
    }
   ],
   "source": [
    "car.get(\"buyer\", \"Sujata\")"
   ]
  },
  {
   "cell_type": "code",
   "execution_count": 34,
   "id": "15b5245e",
   "metadata": {},
   "outputs": [
    {
     "name": "stdout",
     "output_type": "stream",
     "text": [
      "15000\n"
     ]
    }
   ],
   "source": [
    "x = car.get(\"price\", 15000)\n",
    "print(x)"
   ]
  },
  {
   "cell_type": "code",
   "execution_count": 39,
   "id": "e38a7bd5",
   "metadata": {},
   "outputs": [
    {
     "data": {
      "text/plain": [
       "{'brand': 'Ford', 'model': 'Mustang', 'year': 1964}"
      ]
     },
     "execution_count": 39,
     "metadata": {},
     "output_type": "execute_result"
    }
   ],
   "source": [
    "car"
   ]
  },
  {
   "cell_type": "code",
   "execution_count": 41,
   "id": "f20ee6f7",
   "metadata": {},
   "outputs": [
    {
     "data": {
      "text/plain": [
       "{'brand': 'Ford', 'model': 'Mustang', 'year': 1964, 'color': 'white'}"
      ]
     },
     "execution_count": 41,
     "metadata": {},
     "output_type": "execute_result"
    }
   ],
   "source": [
    "# setdefault()\n",
    "# dictionary.setdefault(keyname, value)\n",
    "# This method returns the value of the item with the specified key.\n",
    "# if the key does not exist, insert the key, with the specified value.\n",
    "\n",
    "car.setdefault(\"color\", \"white\")\n",
    "car"
   ]
  },
  {
   "cell_type": "code",
   "execution_count": 44,
   "id": "e3906ca8",
   "metadata": {},
   "outputs": [
    {
     "data": {
      "text/plain": [
       "{'brand': 'Ford',\n",
       " 'model': 'Mustang',\n",
       " 'year': 1964,\n",
       " 'color': 'white',\n",
       " 'buyer': 'Sujata'}"
      ]
     },
     "execution_count": 44,
     "metadata": {},
     "output_type": "execute_result"
    }
   ],
   "source": [
    "car.setdefault(\"buyer\", \"Sujata\")\n",
    "car"
   ]
  },
  {
   "cell_type": "code",
   "execution_count": 46,
   "id": "1f8c226e",
   "metadata": {},
   "outputs": [
    {
     "data": {
      "text/plain": [
       "{'brand': 'Ford',\n",
       " 'model': 'Mustang',\n",
       " 'year': 1964,\n",
       " 'color': 'white',\n",
       " 'buyer': 'Sujata',\n",
       " 'price': None}"
      ]
     },
     "execution_count": 46,
     "metadata": {},
     "output_type": "execute_result"
    }
   ],
   "source": [
    "car.setdefault(\"price\")\n",
    "car"
   ]
  },
  {
   "cell_type": "code",
   "execution_count": 47,
   "id": "7794fbfc",
   "metadata": {},
   "outputs": [
    {
     "data": {
      "text/plain": [
       "'Ford'"
      ]
     },
     "execution_count": 47,
     "metadata": {},
     "output_type": "execute_result"
    }
   ],
   "source": [
    "car.setdefault(\"brand\")"
   ]
  },
  {
   "cell_type": "code",
   "execution_count": 48,
   "id": "93bc2116",
   "metadata": {},
   "outputs": [
    {
     "data": {
      "text/plain": [
       "'Ford'"
      ]
     },
     "execution_count": 48,
     "metadata": {},
     "output_type": "execute_result"
    }
   ],
   "source": [
    "car.setdefault(\"brand\", \"BMW\")"
   ]
  },
  {
   "cell_type": "code",
   "execution_count": 49,
   "id": "8529d562",
   "metadata": {},
   "outputs": [
    {
     "data": {
      "text/plain": [
       "{'brand': 'Ford',\n",
       " 'model': 'Mustang',\n",
       " 'year': 1964,\n",
       " 'color': 'white',\n",
       " 'buyer': 'Sujata',\n",
       " 'price': None}"
      ]
     },
     "execution_count": 49,
     "metadata": {},
     "output_type": "execute_result"
    }
   ],
   "source": [
    "car"
   ]
  },
  {
   "cell_type": "code",
   "execution_count": 50,
   "id": "2378ec1a",
   "metadata": {},
   "outputs": [
    {
     "data": {
      "text/plain": [
       "{'brand': 'Ford',\n",
       " 'model': 'Mustang',\n",
       " 'year': 1964,\n",
       " 'color': 'white',\n",
       " 'buyer': 'Sujata',\n",
       " 'price': None}"
      ]
     },
     "execution_count": 50,
     "metadata": {},
     "output_type": "execute_result"
    }
   ],
   "source": [
    "car.setdefault(\"price\", 15000)\n",
    "car"
   ]
  },
  {
   "cell_type": "code",
   "execution_count": null,
   "id": "d5b530fa",
   "metadata": {},
   "outputs": [],
   "source": []
  }
 ],
 "metadata": {
  "kernelspec": {
   "display_name": "python_env_3_12_9",
   "language": "python",
   "name": "python3"
  },
  "language_info": {
   "codemirror_mode": {
    "name": "ipython",
    "version": 3
   },
   "file_extension": ".py",
   "mimetype": "text/x-python",
   "name": "python",
   "nbconvert_exporter": "python",
   "pygments_lexer": "ipython3",
   "version": "3.12.9"
  }
 },
 "nbformat": 4,
 "nbformat_minor": 5
}
