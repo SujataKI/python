{
 "cells": [
  {
   "cell_type": "markdown",
   "id": "ac94be9c",
   "metadata": {},
   "source": [
    "# Python - Access Dictionary Items\n",
    "- How to access items of a dictionary in Python\n"
   ]
  },
  {
   "cell_type": "code",
   "execution_count": 1,
   "id": "f13a83f8",
   "metadata": {},
   "outputs": [],
   "source": [
    "thisdict = {\n",
    "    \"brand\": \"Ford\",\n",
    "    \"model\": \"Mustang\",\n",
    "    \"year\": 1964,\n",
    "    \"owner\": \"Sujata Kumari\"\n",
    "}"
   ]
  },
  {
   "cell_type": "code",
   "execution_count": 2,
   "id": "dfb2c2e3",
   "metadata": {},
   "outputs": [
    {
     "data": {
      "text/plain": [
       "{'brand': 'Ford', 'model': 'Mustang', 'year': 1964, 'owner': 'Sujata Kumari'}"
      ]
     },
     "execution_count": 2,
     "metadata": {},
     "output_type": "execute_result"
    }
   ],
   "source": [
    "thisdict"
   ]
  },
  {
   "cell_type": "code",
   "execution_count": 4,
   "id": "e1511899",
   "metadata": {},
   "outputs": [
    {
     "ename": "KeyError",
     "evalue": "0",
     "output_type": "error",
     "traceback": [
      "\u001b[31m---------------------------------------------------------------------------\u001b[39m",
      "\u001b[31mKeyError\u001b[39m                                  Traceback (most recent call last)",
      "\u001b[36mCell\u001b[39m\u001b[36m \u001b[39m\u001b[32mIn[4]\u001b[39m\u001b[32m, line 3\u001b[39m\n\u001b[32m      1\u001b[39m \u001b[38;5;66;03m# How to access Keys or Values of a Dictionary in Python?\u001b[39;00m\n\u001b[32m      2\u001b[39m \u001b[38;5;66;03m# (1) Indexing = ?\u001b[39;00m\n\u001b[32m----> \u001b[39m\u001b[32m3\u001b[39m \u001b[43mthisdict\u001b[49m\u001b[43m[\u001b[49m\u001b[32;43m0\u001b[39;49m\u001b[43m]\u001b[49m\n",
      "\u001b[31mKeyError\u001b[39m: 0"
     ]
    }
   ],
   "source": [
    "# How to access Keys or Values of a Dictionary in Python?\n",
    "# (1) Indexing = ?\n",
    "thisdict[0]"
   ]
  },
  {
   "cell_type": "code",
   "execution_count": 5,
   "id": "357a177f",
   "metadata": {},
   "outputs": [
    {
     "data": {
      "text/plain": [
       "'Ford'"
      ]
     },
     "execution_count": 5,
     "metadata": {},
     "output_type": "execute_result"
    }
   ],
   "source": [
    "# Key-\n",
    "thisdict[\"brand\"]"
   ]
  },
  {
   "cell_type": "code",
   "execution_count": 7,
   "id": "ac26af31",
   "metadata": {},
   "outputs": [
    {
     "ename": "NameError",
     "evalue": "name 'brand' is not defined",
     "output_type": "error",
     "traceback": [
      "\u001b[31m---------------------------------------------------------------------------\u001b[39m",
      "\u001b[31mNameError\u001b[39m                                 Traceback (most recent call last)",
      "\u001b[36mCell\u001b[39m\u001b[36m \u001b[39m\u001b[32mIn[7]\u001b[39m\u001b[32m, line 1\u001b[39m\n\u001b[32m----> \u001b[39m\u001b[32m1\u001b[39m thisdict[\u001b[43mbrand\u001b[49m] \u001b[38;5;66;03m# The Key value should be in the inverted commas like a string value\u001b[39;00m\n",
      "\u001b[31mNameError\u001b[39m: name 'brand' is not defined"
     ]
    }
   ],
   "source": [
    "thisdict[brand] # The Key value should be in the inverted commas like a string value"
   ]
  },
  {
   "cell_type": "code",
   "execution_count": 9,
   "id": "4f6c7640",
   "metadata": {},
   "outputs": [
    {
     "data": {
      "text/plain": [
       "'Ford'"
      ]
     },
     "execution_count": 9,
     "metadata": {},
     "output_type": "execute_result"
    }
   ],
   "source": [
    "brand = \"brand\" # Here we are declaring a variable with a key name that matches exactly with the key of the dictionary\n",
    "thisdict[brand]"
   ]
  },
  {
   "cell_type": "code",
   "execution_count": null,
   "id": "cba2b8fd",
   "metadata": {},
   "outputs": [
    {
     "ename": "KeyError",
     "evalue": "'Ford'",
     "output_type": "error",
     "traceback": [
      "\u001b[31m---------------------------------------------------------------------------\u001b[39m",
      "\u001b[31mKeyError\u001b[39m                                  Traceback (most recent call last)",
      "\u001b[36mCell\u001b[39m\u001b[36m \u001b[39m\u001b[32mIn[10]\u001b[39m\u001b[32m, line 1\u001b[39m\n\u001b[32m----> \u001b[39m\u001b[32m1\u001b[39m \u001b[43mthisdict\u001b[49m\u001b[43m[\u001b[49m\u001b[33;43m\"\u001b[39;49m\u001b[33;43mFord\u001b[39;49m\u001b[33;43m\"\u001b[39;49m\u001b[43m]\u001b[49m\n",
      "\u001b[31mKeyError\u001b[39m: 'Ford'"
     ]
    }
   ],
   "source": [
    "thisdict[\"Ford\"] # Key error - Dictionary by default expects that user will provide a Key not Value."
   ]
  },
  {
   "cell_type": "code",
   "execution_count": 11,
   "id": "d5a1b2ed",
   "metadata": {},
   "outputs": [
    {
     "data": {
      "text/plain": [
       "'Ford'"
      ]
     },
     "execution_count": 11,
     "metadata": {},
     "output_type": "execute_result"
    }
   ],
   "source": [
    "# get() - This method can also be used to get the values of a dictionary\n",
    "thisdict.get(\"brand\")"
   ]
  },
  {
   "cell_type": "code",
   "execution_count": 12,
   "id": "5500fb0e",
   "metadata": {},
   "outputs": [
    {
     "data": {
      "text/plain": [
       "'Mustang'"
      ]
     },
     "execution_count": 12,
     "metadata": {},
     "output_type": "execute_result"
    }
   ],
   "source": [
    "thisdict.get(\"model\")"
   ]
  },
  {
   "cell_type": "code",
   "execution_count": 13,
   "id": "c542f063",
   "metadata": {},
   "outputs": [
    {
     "data": {
      "text/plain": [
       "'Sujata Kumari'"
      ]
     },
     "execution_count": 13,
     "metadata": {},
     "output_type": "execute_result"
    }
   ],
   "source": [
    "thisdict.get(\"owner\")"
   ]
  },
  {
   "cell_type": "code",
   "execution_count": 15,
   "id": "1a701e8d",
   "metadata": {},
   "outputs": [
    {
     "data": {
      "text/plain": [
       "dict_keys(['brand', 'model', 'year', 'owner'])"
      ]
     },
     "execution_count": 15,
     "metadata": {},
     "output_type": "execute_result"
    }
   ],
   "source": [
    "# keys() method - all keys of the dictionary\n",
    "thisdict.keys()"
   ]
  },
  {
   "cell_type": "code",
   "execution_count": 16,
   "id": "8a44c0d2",
   "metadata": {},
   "outputs": [
    {
     "data": {
      "text/plain": [
       "{'brand': 'Ford', 'model': 'Mustang', 'year': 1964, 'owner': 'Sujata Kumari'}"
      ]
     },
     "execution_count": 16,
     "metadata": {},
     "output_type": "execute_result"
    }
   ],
   "source": [
    "thisdict"
   ]
  },
  {
   "cell_type": "markdown",
   "id": "2c00290b",
   "metadata": {},
   "source": [
    "# Add an item to the dictionary"
   ]
  },
  {
   "cell_type": "code",
   "execution_count": 17,
   "id": "fec2a481",
   "metadata": {},
   "outputs": [
    {
     "name": "stdout",
     "output_type": "stream",
     "text": [
      "{'brand': 'Ford', 'model': 'Mustang', 'year': 1964, 'owner': 'Sujata Kumari', 'location': 'Chandigarh'}\n"
     ]
    }
   ],
   "source": [
    "# Indexing with the new key name\n",
    "thisdict[\"location\"] = \"Chandigarh\"\n",
    "print(thisdict)"
   ]
  },
  {
   "cell_type": "code",
   "execution_count": 18,
   "id": "5f23e149",
   "metadata": {},
   "outputs": [
    {
     "name": "stdout",
     "output_type": "stream",
     "text": [
      "{'brand': 'Ford', 'model': 'Mustang', 'year': 1964, 'owner': 'Sujata Kumari', 'location': 'Chandigarh', 'Price': 'Inr 1 Crore'}\n"
     ]
    }
   ],
   "source": [
    "thisdict[\"Price\"] = \"Inr 1 Crore\"\n",
    "print(thisdict)"
   ]
  },
  {
   "cell_type": "code",
   "execution_count": 19,
   "id": "8a1d70be",
   "metadata": {},
   "outputs": [
    {
     "data": {
      "text/plain": [
       "dict_keys(['brand', 'model', 'year', 'owner', 'location', 'Price'])"
      ]
     },
     "execution_count": 19,
     "metadata": {},
     "output_type": "execute_result"
    }
   ],
   "source": [
    "thisdict.keys()"
   ]
  },
  {
   "cell_type": "code",
   "execution_count": 20,
   "id": "2e114a11",
   "metadata": {},
   "outputs": [
    {
     "data": {
      "text/plain": [
       "dict_values(['Ford', 'Mustang', 1964, 'Sujata Kumari', 'Chandigarh', 'Inr 1 Crore'])"
      ]
     },
     "execution_count": 20,
     "metadata": {},
     "output_type": "execute_result"
    }
   ],
   "source": [
    "# values()\n",
    "thisdict.values()"
   ]
  },
  {
   "cell_type": "code",
   "execution_count": 21,
   "id": "e459da7b",
   "metadata": {},
   "outputs": [
    {
     "name": "stdout",
     "output_type": "stream",
     "text": [
      "{'brand': 'Ford', 'model': 'Mustang', 'year': 1964, 'owner': 'Sujata Kumari', 'location': 'Chandigarh', 'Price': 'Inr 50 Lakh'}\n"
     ]
    }
   ],
   "source": [
    "thisdict[\"Price\"] = \"Inr 50 Lakh\"\n",
    "print(thisdict)"
   ]
  },
  {
   "cell_type": "code",
   "execution_count": 22,
   "id": "49f2eafd",
   "metadata": {},
   "outputs": [
    {
     "name": "stdout",
     "output_type": "stream",
     "text": [
      "{'brand': 'Ford', 'model': 'Mustang', 'year': 1964, 'owner': 'Sujata Kumari', 'location': 'Chandigarh', 'Price': 'Inr 40 Lakh'}\n"
     ]
    }
   ],
   "source": [
    "thisdict[\"Price\"] = \"Inr 40 Lakh\"\n",
    "print(thisdict)"
   ]
  },
  {
   "cell_type": "code",
   "execution_count": 25,
   "id": "98ca62f5",
   "metadata": {},
   "outputs": [
    {
     "data": {
      "text/plain": [
       "dict_items([('brand', 'Ford'), ('model', 'Mustang'), ('year', 1964), ('owner', 'Sujata Kumari'), ('location', 'Chandigarh'), ('Price', 'Inr 40 Lakh')])"
      ]
     },
     "execution_count": 25,
     "metadata": {},
     "output_type": "execute_result"
    }
   ],
   "source": [
    "# items() - List of Tuples of key value pair of dictionary\n",
    "thisdict.items()"
   ]
  },
  {
   "cell_type": "markdown",
   "id": "b991fd67",
   "metadata": {},
   "source": [
    "# How to access the items of a dictionary in Python?"
   ]
  },
  {
   "cell_type": "code",
   "execution_count": 34,
   "id": "2954b5e5",
   "metadata": {},
   "outputs": [
    {
     "name": "stdout",
     "output_type": "stream",
     "text": [
      "{'name': 'Sujata Kumari', 'age': 25, 'height': '160 cm', 'weight': '55 Kg'}\n",
      "Sujata Kumari\n",
      "dict_keys(['name', 'age', 'height', 'weight'])\n",
      "dict_values(['Sujata Kumari', 25, '160 cm', '55 Kg'])\n",
      "160 cm\n",
      "{'name': 'Sujata Kumari', 'age': 25, 'height': '160 cm', 'weight': '55 Kg', 'gender': 'Female'}\n",
      "{'name': 'Sujata Kumari', 'age': 25, 'height': '155 cm', 'weight': '55 Kg', 'gender': 'Female'}\n"
     ]
    },
    {
     "data": {
      "text/plain": [
       "dict_items([('name', 'Sujata Kumari'), ('age', 25), ('height', '155 cm'), ('weight', '55 Kg'), ('gender', 'Female')])"
      ]
     },
     "execution_count": 34,
     "metadata": {},
     "output_type": "execute_result"
    }
   ],
   "source": [
    "new_dict = {\n",
    "    \"name\" : \"Sujata Kumari\",\n",
    "    \"age\": 25,\n",
    "    \"height\": \"160 cm\",\n",
    "    \"weight\": \"55 Kg\"\n",
    "}\n",
    "\n",
    "print(new_dict)\n",
    "print(new_dict[\"name\"]) # Indexing with key name\n",
    "print(new_dict.keys())\n",
    "print(new_dict.values())\n",
    "print(new_dict.get(\"height\"))\n",
    "\n",
    "new_dict[\"gender\"] = \"Female\" # Can add new key-value pair\n",
    "print(new_dict)\n",
    "\n",
    "new_dict[\"height\"] = \"155 cm\"\n",
    "print(new_dict)\n",
    "\n",
    "new_dict.items()"
   ]
  },
  {
   "cell_type": "markdown",
   "id": "5dd19b4c",
   "metadata": {},
   "source": [
    "# Check if Key Exists\n",
    "- How to determine if a specified key for example \"name\" is present in a dictionary named \"new_dict\"?"
   ]
  },
  {
   "cell_type": "markdown",
   "id": "42fa11ca",
   "metadata": {},
   "source": [
    "# Keyword: in"
   ]
  },
  {
   "cell_type": "code",
   "execution_count": 36,
   "id": "8c3f554b",
   "metadata": {},
   "outputs": [
    {
     "name": "stdout",
     "output_type": "stream",
     "text": [
      "Yes , name key exists in the new_dict\n"
     ]
    }
   ],
   "source": [
    "if \"name\" in new_dict:\n",
    "    print(\"Yes , name key exists in the new_dict\")\n",
    "else:\n",
    "    print(\"No, the specified key is not in the dictionary\")"
   ]
  },
  {
   "cell_type": "code",
   "execution_count": 37,
   "id": "24d23ed7",
   "metadata": {},
   "outputs": [
    {
     "name": "stdout",
     "output_type": "stream",
     "text": [
      "No, the specified key is not in the dictionary\n"
     ]
    }
   ],
   "source": [
    "if \"model\" in new_dict:\n",
    "    print(\"Yes , name key exists in the new_dict\")\n",
    "else:\n",
    "    print(\"No, the specified key is not in the dictionary\")"
   ]
  },
  {
   "cell_type": "code",
   "execution_count": 38,
   "id": "4fcfc62f",
   "metadata": {},
   "outputs": [
    {
     "name": "stdout",
     "output_type": "stream",
     "text": [
      "True\n"
     ]
    }
   ],
   "source": [
    "print(\"name\" in new_dict)"
   ]
  },
  {
   "cell_type": "code",
   "execution_count": 39,
   "id": "13ef7aa7",
   "metadata": {},
   "outputs": [
    {
     "name": "stdout",
     "output_type": "stream",
     "text": [
      "False\n"
     ]
    }
   ],
   "source": [
    "print(\"model\" in new_dict)"
   ]
  },
  {
   "cell_type": "code",
   "execution_count": 40,
   "id": "d29e7595",
   "metadata": {},
   "outputs": [
    {
     "data": {
      "text/plain": [
       "True"
      ]
     },
     "execution_count": 40,
     "metadata": {},
     "output_type": "execute_result"
    }
   ],
   "source": [
    "\"name\" in new_dict"
   ]
  },
  {
   "cell_type": "code",
   "execution_count": 41,
   "id": "422908cc",
   "metadata": {},
   "outputs": [
    {
     "data": {
      "text/plain": [
       "{'brand': 'Ford',\n",
       " 'model': 'Mustang',\n",
       " 'year': 1964,\n",
       " 'owner': 'Sujata Kumari',\n",
       " 'location': 'Chandigarh',\n",
       " 'Price': 'Inr 40 Lakh'}"
      ]
     },
     "execution_count": 41,
     "metadata": {},
     "output_type": "execute_result"
    }
   ],
   "source": [
    "thisdict"
   ]
  },
  {
   "cell_type": "code",
   "execution_count": 50,
   "id": "a458317f",
   "metadata": {},
   "outputs": [
    {
     "name": "stdout",
     "output_type": "stream",
     "text": [
      "{'brand': 'Ford', 'model': 'Mustang', 'year': 1964, 'owner': 'Vijay Kumar', 'location': 'Chandigarh', 'Price': 'Inr 40 Lakh', 'old owner': 'Sujata Kumari', 'new car': 'BMW', 'new location': 'Delhi'}\n"
     ]
    }
   ],
   "source": [
    "# Suppose you have sold the car to new owner named \"Vijay Kumar\"\n",
    "# How can you update this information in the dictionary ?\n",
    "# thisdict[\"owner\"] = \"Vijay Kumar\"\n",
    "\n",
    "# update() method - {\"key\":\"value\"} - The argument must be a dictionary or an iterable object with key : value pairs.\n",
    "thisdict.update({\"owner\":\"Vijay Kumar\"})\n",
    "print(thisdict)"
   ]
  },
  {
   "cell_type": "code",
   "execution_count": 43,
   "id": "af46f04e",
   "metadata": {},
   "outputs": [
    {
     "data": {
      "text/plain": [
       "'Vijay Kumar'"
      ]
     },
     "execution_count": 43,
     "metadata": {},
     "output_type": "execute_result"
    }
   ],
   "source": [
    "thisdict.get(\"owner\")"
   ]
  },
  {
   "cell_type": "code",
   "execution_count": 47,
   "id": "6522b4c3",
   "metadata": {},
   "outputs": [
    {
     "data": {
      "text/plain": [
       "{'brand': 'Ford',\n",
       " 'model': 'Mustang',\n",
       " 'year': 1964,\n",
       " 'owner': 'Vijay Kumar',\n",
       " 'location': 'Chandigarh',\n",
       " 'Price': 'Inr 40 Lakh',\n",
       " 'old owner': 'Sujata Kumari'}"
      ]
     },
     "execution_count": 47,
     "metadata": {},
     "output_type": "execute_result"
    }
   ],
   "source": [
    "sub_dict = {\"old owner\": \"Sujata Kumari\"}\n",
    "thisdict.update(sub_dict)\n",
    "thisdict"
   ]
  },
  {
   "cell_type": "code",
   "execution_count": 48,
   "id": "e3f7cfd5",
   "metadata": {},
   "outputs": [
    {
     "data": {
      "text/plain": [
       "{'brand': 'Ford',\n",
       " 'model': 'Mustang',\n",
       " 'year': 1964,\n",
       " 'owner': 'Vijay Kumar',\n",
       " 'location': 'Chandigarh',\n",
       " 'Price': 'Inr 40 Lakh',\n",
       " 'old owner': 'Sujata Kumari',\n",
       " 'new car': 'BMW',\n",
       " 'new location': 'Shimla'}"
      ]
     },
     "execution_count": 48,
     "metadata": {},
     "output_type": "execute_result"
    }
   ],
   "source": [
    "sub_dict_2 = {\n",
    "    \"new car\": \"BMW\",\n",
    "    \"new location\":\"Shimla\"\n",
    "}\n",
    "thisdict.update(sub_dict_2)\n",
    "thisdict"
   ]
  },
  {
   "cell_type": "code",
   "execution_count": 49,
   "id": "927c7c96",
   "metadata": {},
   "outputs": [
    {
     "data": {
      "text/plain": [
       "{'brand': 'Ford',\n",
       " 'model': 'Mustang',\n",
       " 'year': 1964,\n",
       " 'owner': 'Vijay Kumar',\n",
       " 'location': 'Chandigarh',\n",
       " 'Price': 'Inr 40 Lakh',\n",
       " 'old owner': 'Sujata Kumari',\n",
       " 'new car': 'BMW',\n",
       " 'new location': 'Delhi'}"
      ]
     },
     "execution_count": 49,
     "metadata": {},
     "output_type": "execute_result"
    }
   ],
   "source": [
    "sub_dict_3 = {\n",
    "    \"new location\":\"Delhi\"\n",
    "}\n",
    "thisdict.update(sub_dict_3)\n",
    "thisdict"
   ]
  },
  {
   "cell_type": "markdown",
   "id": "4f06845e",
   "metadata": {},
   "source": [
    "# How to remove key value pairs from the dictionary?"
   ]
  },
  {
   "cell_type": "code",
   "execution_count": 51,
   "id": "e54313d2",
   "metadata": {},
   "outputs": [
    {
     "data": {
      "text/plain": [
       "{'brand': 'Ford',\n",
       " 'model': 'Mustang',\n",
       " 'year': 1964,\n",
       " 'owner': 'Vijay Kumar',\n",
       " 'location': 'Chandigarh',\n",
       " 'Price': 'Inr 40 Lakh',\n",
       " 'old owner': 'Sujata Kumari',\n",
       " 'new car': 'BMW',\n",
       " 'new location': 'Delhi'}"
      ]
     },
     "execution_count": 51,
     "metadata": {},
     "output_type": "execute_result"
    }
   ],
   "source": [
    "# pop() method\n",
    "thisdict"
   ]
  },
  {
   "cell_type": "code",
   "execution_count": 52,
   "id": "2c642099",
   "metadata": {},
   "outputs": [
    {
     "data": {
      "text/plain": [
       "dict_keys(['brand', 'model', 'year', 'owner', 'location', 'Price', 'old owner', 'new car', 'new location'])"
      ]
     },
     "execution_count": 52,
     "metadata": {},
     "output_type": "execute_result"
    }
   ],
   "source": [
    "# The pop() method removes the item with the specified key name\n",
    "\n",
    "thisdict.keys()"
   ]
  },
  {
   "cell_type": "code",
   "execution_count": 53,
   "id": "688804a3",
   "metadata": {},
   "outputs": [
    {
     "data": {
      "text/plain": [
       "{'brand': 'Ford',\n",
       " 'model': 'Mustang',\n",
       " 'year': 1964,\n",
       " 'owner': 'Vijay Kumar',\n",
       " 'location': 'Chandigarh',\n",
       " 'Price': 'Inr 40 Lakh',\n",
       " 'old owner': 'Sujata Kumari',\n",
       " 'new car': 'BMW'}"
      ]
     },
     "execution_count": 53,
     "metadata": {},
     "output_type": "execute_result"
    }
   ],
   "source": [
    "thisdict.pop(\"new location\")\n",
    "thisdict"
   ]
  },
  {
   "cell_type": "code",
   "execution_count": 56,
   "id": "b6371228",
   "metadata": {},
   "outputs": [
    {
     "data": {
      "text/plain": [
       "{'brand': 'Ford',\n",
       " 'model': 'Mustang',\n",
       " 'year': 1964,\n",
       " 'owner': 'Vijay Kumar',\n",
       " 'location': 'Chandigarh',\n",
       " 'Price': 'Inr 40 Lakh',\n",
       " 'old owner': 'Sujata Kumari',\n",
       " 'new car': 'BMW'}"
      ]
     },
     "execution_count": 56,
     "metadata": {},
     "output_type": "execute_result"
    }
   ],
   "source": [
    "thisdict.update({\"new car\": \"BMW\"})\n",
    "thisdict"
   ]
  },
  {
   "cell_type": "code",
   "execution_count": 57,
   "id": "85a27e0a",
   "metadata": {},
   "outputs": [
    {
     "data": {
      "text/plain": [
       "{'brand': 'Ford',\n",
       " 'model': 'Mustang',\n",
       " 'year': 1964,\n",
       " 'owner': 'Vijay Kumar',\n",
       " 'location': 'Chandigarh',\n",
       " 'Price': 'Inr 40 Lakh',\n",
       " 'old owner': 'Sujata Kumari'}"
      ]
     },
     "execution_count": 57,
     "metadata": {},
     "output_type": "execute_result"
    }
   ],
   "source": [
    "thisdict.pop(\"new car\")\n",
    "thisdict"
   ]
  },
  {
   "cell_type": "code",
   "execution_count": 58,
   "id": "1d462ade",
   "metadata": {},
   "outputs": [
    {
     "data": {
      "text/plain": [
       "{'brand': 'Ford',\n",
       " 'model': 'Mustang',\n",
       " 'year': 1964,\n",
       " 'owner': 'Vijay Kumar',\n",
       " 'location': 'Chandigarh',\n",
       " 'Price': 'Inr 40 Lakh'}"
      ]
     },
     "execution_count": 58,
     "metadata": {},
     "output_type": "execute_result"
    }
   ],
   "source": [
    "# Last in - First Out\n",
    "thisdict.popitem()\n",
    "thisdict"
   ]
  },
  {
   "cell_type": "code",
   "execution_count": 59,
   "id": "2fb808b2",
   "metadata": {},
   "outputs": [
    {
     "ename": "TypeError",
     "evalue": "pop expected at least 1 argument, got 0",
     "output_type": "error",
     "traceback": [
      "\u001b[31m---------------------------------------------------------------------------\u001b[39m",
      "\u001b[31mTypeError\u001b[39m                                 Traceback (most recent call last)",
      "\u001b[36mCell\u001b[39m\u001b[36m \u001b[39m\u001b[32mIn[59]\u001b[39m\u001b[32m, line 2\u001b[39m\n\u001b[32m      1\u001b[39m \u001b[38;5;66;03m# Last in - First Out\u001b[39;00m\n\u001b[32m----> \u001b[39m\u001b[32m2\u001b[39m \u001b[43mthisdict\u001b[49m\u001b[43m.\u001b[49m\u001b[43mpop\u001b[49m\u001b[43m(\u001b[49m\u001b[43m)\u001b[49m\n\u001b[32m      3\u001b[39m thisdict\n",
      "\u001b[31mTypeError\u001b[39m: pop expected at least 1 argument, got 0"
     ]
    }
   ],
   "source": [
    "# Last in - First Out\n",
    "thisdict.pop()\n",
    "thisdict"
   ]
  },
  {
   "cell_type": "code",
   "execution_count": 60,
   "id": "6095bb78",
   "metadata": {},
   "outputs": [
    {
     "data": {
      "text/plain": [
       "{'brand': 'Ford',\n",
       " 'model': 'Mustang',\n",
       " 'year': 1964,\n",
       " 'owner': 'Vijay Kumar',\n",
       " 'location': 'Chandigarh'}"
      ]
     },
     "execution_count": 60,
     "metadata": {},
     "output_type": "execute_result"
    }
   ],
   "source": [
    "# Last in - First Out\n",
    "thisdict.popitem()\n",
    "thisdict"
   ]
  },
  {
   "cell_type": "markdown",
   "id": "9f6973cc",
   "metadata": {},
   "source": [
    "## 1. del keyword\n",
    "## 2. clear() method"
   ]
  },
  {
   "cell_type": "code",
   "execution_count": 61,
   "id": "22bf128e",
   "metadata": {},
   "outputs": [
    {
     "data": {
      "text/plain": [
       "{'brand': 'Ford',\n",
       " 'model': 'Mustang',\n",
       " 'year': 1964,\n",
       " 'owner': 'Vijay Kumar',\n",
       " 'location': 'Chandigarh'}"
      ]
     },
     "execution_count": 61,
     "metadata": {},
     "output_type": "execute_result"
    }
   ],
   "source": [
    "thisdict"
   ]
  },
  {
   "cell_type": "code",
   "execution_count": 63,
   "id": "02b58cd8",
   "metadata": {},
   "outputs": [
    {
     "data": {
      "text/plain": [
       "{'brand': 'Ford', 'model': 'Mustang', 'year': 1964, 'owner': 'Vijay Kumar'}"
      ]
     },
     "execution_count": 63,
     "metadata": {},
     "output_type": "execute_result"
    }
   ],
   "source": [
    "# del - can be used to delete a key value pair or even delete the dictionary completely\n",
    "del thisdict[\"location\"]\n",
    "thisdict"
   ]
  },
  {
   "cell_type": "code",
   "execution_count": 64,
   "id": "3c4e50e6",
   "metadata": {},
   "outputs": [
    {
     "ename": "NameError",
     "evalue": "name 'thisdict' is not defined",
     "output_type": "error",
     "traceback": [
      "\u001b[31m---------------------------------------------------------------------------\u001b[39m",
      "\u001b[31mNameError\u001b[39m                                 Traceback (most recent call last)",
      "\u001b[36mCell\u001b[39m\u001b[36m \u001b[39m\u001b[32mIn[64]\u001b[39m\u001b[32m, line 3\u001b[39m\n\u001b[32m      1\u001b[39m \u001b[38;5;66;03m# del - can be used to delete a key value pair or even delete the dictionary completely\u001b[39;00m\n\u001b[32m      2\u001b[39m \u001b[38;5;28;01mdel\u001b[39;00m thisdict\n\u001b[32m----> \u001b[39m\u001b[32m3\u001b[39m \u001b[43mthisdict\u001b[49m\n",
      "\u001b[31mNameError\u001b[39m: name 'thisdict' is not defined"
     ]
    }
   ],
   "source": [
    "# del - can be used to delete a key value pair or even delete the dictionary completely\n",
    "del thisdict\n",
    "thisdict"
   ]
  },
  {
   "cell_type": "code",
   "execution_count": 65,
   "id": "a3a4898a",
   "metadata": {},
   "outputs": [
    {
     "data": {
      "text/plain": [
       "{'name': 'Sujata Kumari',\n",
       " 'age': 25,\n",
       " 'height': '155 cm',\n",
       " 'weight': '55 Kg',\n",
       " 'gender': 'Female'}"
      ]
     },
     "execution_count": 65,
     "metadata": {},
     "output_type": "execute_result"
    }
   ],
   "source": [
    "new_dict"
   ]
  },
  {
   "cell_type": "code",
   "execution_count": 66,
   "id": "153434a7",
   "metadata": {},
   "outputs": [
    {
     "name": "stdout",
     "output_type": "stream",
     "text": [
      "{}\n"
     ]
    }
   ],
   "source": [
    "# clear() - The clear() method empties the dictionary\n",
    "new_dict.clear()\n",
    "print(new_dict)"
   ]
  },
  {
   "cell_type": "code",
   "execution_count": 68,
   "id": "2502d032",
   "metadata": {},
   "outputs": [
    {
     "data": {
      "text/plain": [
       "{'name': 'Sujata Kumari',\n",
       " 'age': 25,\n",
       " 'height': '155 cm',\n",
       " 'weight': '55 Kg',\n",
       " 'gender': 'Female'}"
      ]
     },
     "execution_count": 68,
     "metadata": {},
     "output_type": "execute_result"
    }
   ],
   "source": [
    "sub_dict_4 = {\n",
    "    'name': 'Sujata Kumari',\n",
    "    'age': 25,\n",
    "    'height': '155 cm',\n",
    "    'weight': '55 Kg',\n",
    "    'gender': 'Female'\n",
    "}\n",
    "new_dict.update(sub_dict_4)\n",
    "new_dict"
   ]
  },
  {
   "cell_type": "code",
   "execution_count": 69,
   "id": "06aec0ec",
   "metadata": {},
   "outputs": [
    {
     "data": {
      "text/plain": [
       "{'name': 'Sujata Kumari',\n",
       " 'age': 25,\n",
       " 'height': '155 cm',\n",
       " 'weight': '55 Kg',\n",
       " 'gender': 'Female'}"
      ]
     },
     "execution_count": 69,
     "metadata": {},
     "output_type": "execute_result"
    }
   ],
   "source": [
    "new_dict"
   ]
  },
  {
   "cell_type": "code",
   "execution_count": 70,
   "id": "706fbe1f",
   "metadata": {},
   "outputs": [
    {
     "name": "stdout",
     "output_type": "stream",
     "text": [
      "name\n",
      "age\n",
      "height\n",
      "weight\n",
      "gender\n"
     ]
    }
   ],
   "source": [
    "# for loop on dictionary\n",
    "for x in new_dict:\n",
    "    print(x)"
   ]
  },
  {
   "cell_type": "code",
   "execution_count": 72,
   "id": "b06cf1a5",
   "metadata": {},
   "outputs": [
    {
     "name": "stdout",
     "output_type": "stream",
     "text": [
      "Sujata Kumari\n",
      "25\n",
      "155 cm\n",
      "55 Kg\n",
      "Female\n"
     ]
    }
   ],
   "source": [
    "# for loop on dictionary\n",
    "for x in new_dict:\n",
    "    # print(type(x))\n",
    "    print(new_dict[x])"
   ]
  },
  {
   "cell_type": "code",
   "execution_count": 73,
   "id": "58ed99cc",
   "metadata": {},
   "outputs": [
    {
     "name": "stdout",
     "output_type": "stream",
     "text": [
      "name\n",
      "age\n",
      "height\n",
      "weight\n",
      "gender\n"
     ]
    }
   ],
   "source": [
    "# for loop on dictionary\n",
    "for x in new_dict.keys():\n",
    "    print(x)"
   ]
  },
  {
   "cell_type": "code",
   "execution_count": 74,
   "id": "f3129c2d",
   "metadata": {},
   "outputs": [
    {
     "name": "stdout",
     "output_type": "stream",
     "text": [
      "Sujata Kumari\n",
      "25\n",
      "155 cm\n",
      "55 Kg\n",
      "Female\n"
     ]
    }
   ],
   "source": [
    "# for loop on dictionary\n",
    "for x in new_dict.keys():\n",
    "    print(new_dict[x])"
   ]
  },
  {
   "cell_type": "code",
   "execution_count": 75,
   "id": "f7a4fcb5",
   "metadata": {},
   "outputs": [
    {
     "name": "stdout",
     "output_type": "stream",
     "text": [
      "Sujata Kumari\n",
      "25\n",
      "155 cm\n",
      "55 Kg\n",
      "Female\n"
     ]
    }
   ],
   "source": [
    "# for loop on dictionary\n",
    "for x in new_dict.values():\n",
    "    print(x)"
   ]
  },
  {
   "cell_type": "code",
   "execution_count": 77,
   "id": "b05fa2d1",
   "metadata": {},
   "outputs": [
    {
     "name": "stdout",
     "output_type": "stream",
     "text": [
      "('name', 'Sujata Kumari')\n",
      "<class 'tuple'>\n",
      "('age', 25)\n",
      "<class 'tuple'>\n",
      "('height', '155 cm')\n",
      "<class 'tuple'>\n",
      "('weight', '55 Kg')\n",
      "<class 'tuple'>\n",
      "('gender', 'Female')\n",
      "<class 'tuple'>\n"
     ]
    }
   ],
   "source": [
    "# for loop on dictionary\n",
    "for x in new_dict.items():\n",
    "    print(x)\n",
    "    print(type(x))"
   ]
  },
  {
   "cell_type": "code",
   "execution_count": 78,
   "id": "d0524b68",
   "metadata": {},
   "outputs": [
    {
     "data": {
      "text/plain": [
       "{'name': 'Sujata'}"
      ]
     },
     "execution_count": 78,
     "metadata": {},
     "output_type": "execute_result"
    }
   ],
   "source": [
    "# Copy a dictionary\n",
    "#  dict2 = dict1 Not allowed\n",
    "dict_1 = {\"name\": \"Sujata\"}\n",
    "dict_2 = {}\n",
    "\n",
    "dict_2 = dict_1\n",
    "dict_2"
   ]
  },
  {
   "cell_type": "code",
   "execution_count": 79,
   "id": "ed0fabbc",
   "metadata": {},
   "outputs": [
    {
     "data": {
      "text/plain": [
       "{'name': 'Sujata', 'age': 26}"
      ]
     },
     "execution_count": 79,
     "metadata": {},
     "output_type": "execute_result"
    }
   ],
   "source": [
    "dict_1[\"age\"] = 26\n",
    "dict_2"
   ]
  },
  {
   "cell_type": "code",
   "execution_count": 80,
   "id": "393f720d",
   "metadata": {},
   "outputs": [
    {
     "data": {
      "text/plain": [
       "{'name': 'Sujata', 'age': 26}"
      ]
     },
     "execution_count": 80,
     "metadata": {},
     "output_type": "execute_result"
    }
   ],
   "source": [
    "# Copy() method\n",
    "\n",
    "dict_3 = dict_1.copy()\n",
    "dict_3"
   ]
  },
  {
   "cell_type": "code",
   "execution_count": 81,
   "id": "90b1d896",
   "metadata": {},
   "outputs": [
    {
     "data": {
      "text/plain": [
       "{'name': 'Sujata', 'age': 26, 'gender': 'Female'}"
      ]
     },
     "execution_count": 81,
     "metadata": {},
     "output_type": "execute_result"
    }
   ],
   "source": [
    "dict_1[\"gender\"] = \"Female\"\n",
    "dict_1"
   ]
  },
  {
   "cell_type": "code",
   "execution_count": 82,
   "id": "a412c8fe",
   "metadata": {},
   "outputs": [
    {
     "data": {
      "text/plain": [
       "{'name': 'Sujata', 'age': 26}"
      ]
     },
     "execution_count": 82,
     "metadata": {},
     "output_type": "execute_result"
    }
   ],
   "source": [
    "dict_3"
   ]
  },
  {
   "cell_type": "code",
   "execution_count": 83,
   "id": "9ad41075",
   "metadata": {},
   "outputs": [
    {
     "data": {
      "text/plain": [
       "{'brand': 'Ford', 'model': 'Mustang'}"
      ]
     },
     "execution_count": 83,
     "metadata": {},
     "output_type": "execute_result"
    }
   ],
   "source": [
    "thisdict= {\n",
    "    \"brand\": \"Ford\",\n",
    "    \"model\":\"Mustang\"\n",
    "}\n",
    "\n",
    "mydict = dict(thisdict)\n",
    "mydict"
   ]
  },
  {
   "cell_type": "code",
   "execution_count": 84,
   "id": "b8eec349",
   "metadata": {},
   "outputs": [
    {
     "data": {
      "text/plain": [
       "{'brand': 'Ford', 'model': 'Mustang'}"
      ]
     },
     "execution_count": 84,
     "metadata": {},
     "output_type": "execute_result"
    }
   ],
   "source": [
    "thisdict"
   ]
  },
  {
   "cell_type": "code",
   "execution_count": 85,
   "id": "5eca8d76",
   "metadata": {},
   "outputs": [
    {
     "data": {
      "text/plain": [
       "{'brand': 'Ford',\n",
       " 'model': 'Mustang',\n",
       " 'name': 'Sujata',\n",
       " 'age': 26,\n",
       " 'gender': 'Female'}"
      ]
     },
     "execution_count": 85,
     "metadata": {},
     "output_type": "execute_result"
    }
   ],
   "source": [
    "thisdict.update(dict_1)\n",
    "thisdict"
   ]
  },
  {
   "cell_type": "code",
   "execution_count": 86,
   "id": "6788fea1",
   "metadata": {},
   "outputs": [
    {
     "data": {
      "text/plain": [
       "{'brand': 'Ford', 'model': 'Mustang'}"
      ]
     },
     "execution_count": 86,
     "metadata": {},
     "output_type": "execute_result"
    }
   ],
   "source": [
    "mydict"
   ]
  },
  {
   "cell_type": "code",
   "execution_count": null,
   "id": "03a63ad8",
   "metadata": {},
   "outputs": [],
   "source": []
  }
 ],
 "metadata": {
  "kernelspec": {
   "display_name": "python_env_3_12_9",
   "language": "python",
   "name": "python3"
  },
  "language_info": {
   "codemirror_mode": {
    "name": "ipython",
    "version": 3
   },
   "file_extension": ".py",
   "mimetype": "text/x-python",
   "name": "python",
   "nbconvert_exporter": "python",
   "pygments_lexer": "ipython3",
   "version": "3.12.9"
  }
 },
 "nbformat": 4,
 "nbformat_minor": 5
}
