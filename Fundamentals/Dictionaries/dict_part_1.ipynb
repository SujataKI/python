{
 "cells": [
  {
   "cell_type": "markdown",
   "id": "6bfc7781",
   "metadata": {},
   "source": [
    "# Python Dictionaries\n",
    "- Dictionaries are used to store data values in key; value pairs.\n",
    "- A dictionary is a collection which is ordered, changeable and do not allow duplicates.\n",
    "- Dictionaries are written with curly brackets and have keys and values."
   ]
  },
  {
   "cell_type": "code",
   "execution_count": 4,
   "id": "8495262d",
   "metadata": {},
   "outputs": [],
   "source": [
    "# {} = Curly brackets, {} - dict/ set\n",
    "thisdict = {\n",
    "    \"name_key\" : \"Sujata\", # First Key - Value pair\n",
    "    \"age_key\"  : 25 # Second Key -Value pair\n",
    "}"
   ]
  },
  {
   "cell_type": "code",
   "execution_count": 5,
   "id": "17e22bea",
   "metadata": {},
   "outputs": [
    {
     "data": {
      "text/plain": [
       "{'name_key': 'Sujata', 'age_key': 25}"
      ]
     },
     "execution_count": 5,
     "metadata": {},
     "output_type": "execute_result"
    }
   ],
   "source": [
    "thisdict"
   ]
  },
  {
   "cell_type": "code",
   "execution_count": 7,
   "id": "7fe26091",
   "metadata": {},
   "outputs": [],
   "source": [
    "empty_dict = {}"
   ]
  },
  {
   "cell_type": "code",
   "execution_count": 8,
   "id": "65af2f64",
   "metadata": {},
   "outputs": [
    {
     "data": {
      "text/plain": [
       "dict"
      ]
     },
     "execution_count": 8,
     "metadata": {},
     "output_type": "execute_result"
    }
   ],
   "source": [
    "type(empty_dict)"
   ]
  },
  {
   "cell_type": "code",
   "execution_count": 9,
   "id": "eb8563a6",
   "metadata": {},
   "outputs": [
    {
     "data": {
      "text/plain": [
       "dict"
      ]
     },
     "execution_count": 9,
     "metadata": {},
     "output_type": "execute_result"
    }
   ],
   "source": [
    "type(thisdict)"
   ]
  },
  {
   "cell_type": "code",
   "execution_count": 11,
   "id": "754a6f33",
   "metadata": {},
   "outputs": [
    {
     "data": {
      "text/plain": [
       "dict"
      ]
     },
     "execution_count": 11,
     "metadata": {},
     "output_type": "execute_result"
    }
   ],
   "source": [
    "thisdict.__class__ # Magic ethod"
   ]
  },
  {
   "cell_type": "code",
   "execution_count": null,
   "id": "e80abec1",
   "metadata": {},
   "outputs": [
    {
     "name": "stdout",
     "output_type": "stream",
     "text": [
      "{'brand': 'Ford', 'model': 'Mustang', 'year': 2025}\n"
     ]
    }
   ],
   "source": [
    "# No duplicates : Dictionaries cannot have two items with the same keys. Duplicate values will overwrite existing values.\n",
    "# Ordered\n",
    "# Changeable\n",
    "thisdict_2 = {\n",
    "    \"brand\" : \"Ford\", # Key - value pair or Key item pair\n",
    "    \"model\" : \"Mustang\",\n",
    "    \"year\"  : 1964,\n",
    "    \"year\"  : 2025\n",
    "}\n",
    "\n",
    "print(thisdict_2)"
   ]
  },
  {
   "cell_type": "markdown",
   "id": "f6459956",
   "metadata": {},
   "source": [
    "#  keys(), values(), items() Methods to get the keys and values of a dictionary"
   ]
  },
  {
   "cell_type": "code",
   "execution_count": 16,
   "id": "5dcf5e04",
   "metadata": {},
   "outputs": [
    {
     "data": {
      "text/plain": [
       "dict_keys(['brand', 'model', 'year'])"
      ]
     },
     "execution_count": 16,
     "metadata": {},
     "output_type": "execute_result"
    }
   ],
   "source": [
    "thisdict_2.keys()"
   ]
  },
  {
   "cell_type": "code",
   "execution_count": 18,
   "id": "ee1334fd",
   "metadata": {},
   "outputs": [
    {
     "data": {
      "text/plain": [
       "dict_values(['Ford', 'Mustang', 2025])"
      ]
     },
     "execution_count": 18,
     "metadata": {},
     "output_type": "execute_result"
    }
   ],
   "source": [
    "thisdict_2.values()"
   ]
  },
  {
   "cell_type": "code",
   "execution_count": 19,
   "id": "54d4e466",
   "metadata": {},
   "outputs": [
    {
     "data": {
      "text/plain": [
       "dict_items([('brand', 'Ford'), ('model', 'Mustang'), ('year', 2025)])"
      ]
     },
     "execution_count": 19,
     "metadata": {},
     "output_type": "execute_result"
    }
   ],
   "source": [
    "thisdict_2.items() # Returns a list of tuples. tuples contain key value pairs"
   ]
  },
  {
   "cell_type": "markdown",
   "id": "c87be440",
   "metadata": {},
   "source": [
    "# How to determine the length of a dictionary\n",
    "- len() Method\n",
    "- __len__() Length Magic method"
   ]
  },
  {
   "cell_type": "code",
   "execution_count": 21,
   "id": "ecd3fad8",
   "metadata": {},
   "outputs": [
    {
     "data": {
      "text/plain": [
       "3"
      ]
     },
     "execution_count": 21,
     "metadata": {},
     "output_type": "execute_result"
    }
   ],
   "source": [
    "len(thisdict_2)"
   ]
  },
  {
   "cell_type": "code",
   "execution_count": 23,
   "id": "1e31f0b2",
   "metadata": {},
   "outputs": [
    {
     "data": {
      "text/plain": [
       "3"
      ]
     },
     "execution_count": 23,
     "metadata": {},
     "output_type": "execute_result"
    }
   ],
   "source": [
    "thisdict_2.__len__()"
   ]
  },
  {
   "cell_type": "markdown",
   "id": "d96bafb9",
   "metadata": {},
   "source": [
    "# The dict() constructor\n",
    "- It is also possible to use the dict() constructor to make a dictionary."
   ]
  },
  {
   "cell_type": "code",
   "execution_count": 24,
   "id": "2643386f",
   "metadata": {},
   "outputs": [
    {
     "data": {
      "text/plain": [
       "{'name': 'Sujata', 'age': 25, 'country': 'India'}"
      ]
     },
     "execution_count": 24,
     "metadata": {},
     "output_type": "execute_result"
    }
   ],
   "source": [
    "temp_dict = {\n",
    "    \"name\" : \"Sujata\",\n",
    "    \"age\": 25,\n",
    "    \"country\" : \"India\"\n",
    "}\n",
    "temp_dict"
   ]
  },
  {
   "cell_type": "code",
   "execution_count": 26,
   "id": "647d2d0b",
   "metadata": {},
   "outputs": [
    {
     "data": {
      "text/plain": [
       "{'name': 'Sujata', 'age': 36, 'country': 'India'}"
      ]
     },
     "execution_count": 26,
     "metadata": {},
     "output_type": "execute_result"
    }
   ],
   "source": [
    "constructor_dict= dict(name = \"Sujata\", age = 36, country = \"India\") # Key value pair in the form of variable assignment\n",
    "constructor_dict"
   ]
  },
  {
   "cell_type": "markdown",
   "id": "5a11e6d2",
   "metadata": {},
   "source": []
  }
 ],
 "metadata": {
  "kernelspec": {
   "display_name": "python_env_3_12_9",
   "language": "python",
   "name": "python3"
  },
  "language_info": {
   "codemirror_mode": {
    "name": "ipython",
    "version": 3
   },
   "file_extension": ".py",
   "mimetype": "text/x-python",
   "name": "python",
   "nbconvert_exporter": "python",
   "pygments_lexer": "ipython3",
   "version": "3.12.9"
  }
 },
 "nbformat": 4,
 "nbformat_minor": 5
}
