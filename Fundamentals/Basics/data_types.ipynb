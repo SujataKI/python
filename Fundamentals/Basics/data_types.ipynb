{
 "cells": [
  {
   "cell_type": "markdown",
   "metadata": {},
   "source": [
    "# Python Data Types"
   ]
  },
  {
   "cell_type": "markdown",
   "metadata": {},
   "source": [
    "# Types of Brackets in Python and Keyboard:\n",
    "- () - Parentheses - Used for grouping expressions, function calls and defining tuples.\n",
    "- [] - square brackets - Used for indexing, slicing and defining lists.\n",
    "- {} - curly Braces - Used for defining dictionaries and sets. Also, used for f-string expressions and block delimiters in some Python related tools.\n",
    "- <> - angle brackets - Not used in Python syntax but commonly used in type annotations and external representations (XML, Typescript)"
   ]
  },
  {
   "cell_type": "markdown",
   "metadata": {},
   "source": [
    "## Built-in Data Types\n",
    "- Variables can store data of different types, and different types can do different things.\n",
    "- Python has following built in data types by default:\n",
    "- Text type : str\n",
    "- Numeric types: int, float, complex, (2, 2.4, 2+i5- iota- Imaginary number)\n",
    "- Sequence Types: list, tuple, range ( List: [\"Apple\",\"Banana\", \"Cherry\"], Tuple: (2,3,4), range(0,10,1): 0,1,2,3,4,5,6,7,8,9)\n",
    "- Mapping Type: dict (Dictionaries: { key: value, key2: value2, key3, value3} )\n",
    "- Set Types: set, frozenset (Set: {\"A\", \"B\", \"C\"} )\n",
    "- Boolean Type: bool (True, False)\n",
    "- Binary Types: bytes, bytearray, memoryview (memory - bit, 8 bits = 1byte, 1024 bytes = 1MB, 1024MB=1GB, 1024GB=1TB), Internet Speed: 100Mbits/second = 100 * (1/8) MByte/second= 12.5 MBytes/seconds\n",
    "- None Type: NoneType"
   ]
  },
  {
   "cell_type": "markdown",
   "metadata": {},
   "source": [
    "# Getting the data type\n",
    "- type()"
   ]
  },
  {
   "cell_type": "code",
   "execution_count": null,
   "metadata": {},
   "outputs": [
    {
     "data": {
      "text/plain": [
       "int"
      ]
     },
     "execution_count": 1,
     "metadata": {},
     "output_type": "execute_result"
    }
   ],
   "source": [
    "x = 10\n",
    "type(x) # We can get the datatype of any variable using built in type()."
   ]
  },
  {
   "cell_type": "code",
   "execution_count": 4,
   "metadata": {},
   "outputs": [
    {
     "name": "stdout",
     "output_type": "stream",
     "text": [
      "Hi my name is sujata\n",
      "Hi my name is: Sujata Kumari\n",
      "My name is Sujata Kumari.\n"
     ]
    }
   ],
   "source": [
    "# f string method\n",
    "print(\"Hi my name is sujata\")\n",
    "\n",
    "# f string method \n",
    "name = \"Sujata Kumari\"\n",
    "print(\"Hi my name is:\", name)\n",
    "print(f\"My name is {name}.\")"
   ]
  },
  {
   "cell_type": "code",
   "execution_count": 6,
   "metadata": {},
   "outputs": [
    {
     "name": "stdout",
     "output_type": "stream",
     "text": [
      "This is a string demonstration:Hello World.\n",
      "This is an integer value :10\n",
      "Float:2.3\n",
      "Complex Number: (2+10j)\n",
      "List:['A', 'B', 'C']\n",
      "Tuple: ('A', 'B', 'C')\n",
      "The range with step size of 1 is range(0, 6), The range with step size of 2 is range(0, 6)\n",
      "Dictionary: {'name': 'John', 'age': 30, 'gender': 'male', 'height': 170, 'weight': 70, 'ethnicity': 'European', 'nationality': 'French', 'religion': 'Christian'}\n",
      "Set: {'Banana', 'Cherry', 'Apple'}\n",
      "Frozenset: frozenset({'Banana', 'Cherry', 'Apple'})\n",
      "Boolean 0: False, Boolean 1: True\n",
      "Byte Text: b'Hello World', Byte Numeric: b'\\x00\\x00\\x00\\x00\\x00'\n",
      "Byte Array: bytearray(b'\\x00\\x00\\x00\\x00\\x00')\n",
      "Memory Location: <memory at 0x0000022557F119C0>\n"
     ]
    }
   ],
   "source": [
    "# String\n",
    "x = \"Hello World\"\n",
    "print(f\"This is a string demonstration:{x}.\")\n",
    "\n",
    "# Integer\n",
    "x = 10\n",
    "print(f\"This is an integer value :{x}\")\n",
    "\n",
    "# Float\n",
    "x = 2.3\n",
    "print(f\"Float:{x}\")\n",
    "\n",
    "# Complex\n",
    "x = 2+10j # j should be behind the numeric value\n",
    "print(f\"Complex Number: {x}\")\n",
    "\n",
    "# List\n",
    "x = [\"A\", \"B\",\"C\"]\n",
    "print(f\"List:{x}\")\n",
    "\n",
    "# Tuple\n",
    "x = (\"A\", \"B\", \"C\")\n",
    "print(f\"Tuple: {x}\")\n",
    "\n",
    "# Range\n",
    "x = range(6)\n",
    "y = range(0,6,1) # 0- starting point(included), 6- ending point(not included), 1-step size\n",
    "# 0,0+1,1+1,2+1,3+1,4+1: 0,1,2,3,4,5\n",
    "# 0,0+2,2+2 = 0,2,4\n",
    "print(f\"The range with step size of 1 is {x}, The range with step size of 2 is {y}\")\n",
    "\n",
    "# Dictionary\n",
    "x = {\"name\": \"John\", \"age\":30, \"gender\": \"male\", \"height\": 170, \"weight\": 70, \"ethnicity\": \"European\", \"nationality\": \"French\", \"religion\": \"Christian\"}\n",
    "print(f\"Dictionary: {x}\")\n",
    "\n",
    "# Set\n",
    "x = {\"Apple\", \"Banana\", \"Cherry\"}\n",
    "print(f\"Set: {x}\")\n",
    "\n",
    "# Frozen set\n",
    "x = frozenset({\"Apple\", \"Banana\", \"Cherry\"}) # Built-in function - frozenset()\n",
    "print(f\"Frozenset: {x}\")\n",
    "\n",
    "# Boolean\n",
    "x = True\n",
    "y = False\n",
    "print(f\"Boolean 0: {y}, Boolean 1: {x}\")\n",
    "\n",
    "# Bytes\n",
    "x = b\"Hello World\" # b - keyword\n",
    "y = bytes(5) # byte() - built in function.\n",
    "print(f\"Byte Text: {x}, Byte Numeric: {y}\")\n",
    "\n",
    "# Bytes Array\n",
    "x = bytearray(5)\n",
    "print(f\"Byte Array: {x}\")\n",
    "\n",
    "# Memmory View Byte\n",
    "x = memoryview(bytes(5))\n",
    "print(f\"Memory Location: {x}\")\n"
   ]
  },
  {
   "cell_type": "code",
   "execution_count": 12,
   "metadata": {},
   "outputs": [
    {
     "name": "stdout",
     "output_type": "stream",
     "text": [
      "0\n",
      "1\n",
      "2\n",
      "3\n",
      "4\n",
      "5\n"
     ]
    }
   ],
   "source": [
    "for i in range(0,6, 1):\n",
    "    print(i)"
   ]
  },
  {
   "cell_type": "code",
   "execution_count": null,
   "metadata": {},
   "outputs": [
    {
     "name": "stdout",
     "output_type": "stream",
     "text": [
      "0\n",
      "2\n",
      "4\n"
     ]
    }
   ],
   "source": [
    "for i in range(0,6,2): # (0,6] - Open Bracket and Close Bracket\n",
    "    print(i)"
   ]
  },
  {
   "cell_type": "markdown",
   "metadata": {},
   "source": [
    "# Type conversion - Numbers"
   ]
  },
  {
   "cell_type": "code",
   "execution_count": 13,
   "metadata": {},
   "outputs": [
    {
     "name": "stdout",
     "output_type": "stream",
     "text": [
      "1.0 2 (1+0j)\n"
     ]
    }
   ],
   "source": [
    "x = 1\n",
    "y = 2.8\n",
    "z = 1j\n",
    "\n",
    "a = float(x) # int to float - float() built-in function\n",
    "\n",
    "# Floating to integer conversion\n",
    "b = int(y)\n",
    "\n",
    "# Convert Integer to Complex\n",
    "c = complex(x)\n",
    "\n",
    "print(a,b,c)"
   ]
  },
  {
   "cell_type": "markdown",
   "metadata": {},
   "source": [
    "# Note: You cannot convert complex numbers into another number type."
   ]
  },
  {
   "cell_type": "code",
   "execution_count": 14,
   "metadata": {},
   "outputs": [
    {
     "ename": "TypeError",
     "evalue": "int() argument must be a string, a bytes-like object or a real number, not 'complex'",
     "output_type": "error",
     "traceback": [
      "\u001b[1;31m---------------------------------------------------------------------------\u001b[0m",
      "\u001b[1;31mTypeError\u001b[0m                                 Traceback (most recent call last)",
      "Cell \u001b[1;32mIn[14], line 1\u001b[0m\n\u001b[1;32m----> 1\u001b[0m d \u001b[38;5;241m=\u001b[39m \u001b[38;5;28;43mint\u001b[39;49m\u001b[43m(\u001b[49m\u001b[43mz\u001b[49m\u001b[43m)\u001b[49m\n\u001b[0;32m      2\u001b[0m \u001b[38;5;28mprint\u001b[39m(d)\n",
      "\u001b[1;31mTypeError\u001b[0m: int() argument must be a string, a bytes-like object or a real number, not 'complex'"
     ]
    }
   ],
   "source": [
    "d = int(z)\n",
    "print(d)"
   ]
  },
  {
   "cell_type": "code",
   "execution_count": 15,
   "metadata": {},
   "outputs": [
    {
     "ename": "TypeError",
     "evalue": "float() argument must be a string or a real number, not 'complex'",
     "output_type": "error",
     "traceback": [
      "\u001b[1;31m---------------------------------------------------------------------------\u001b[0m",
      "\u001b[1;31mTypeError\u001b[0m                                 Traceback (most recent call last)",
      "Cell \u001b[1;32mIn[15], line 1\u001b[0m\n\u001b[1;32m----> 1\u001b[0m e \u001b[38;5;241m=\u001b[39m \u001b[38;5;28;43mfloat\u001b[39;49m\u001b[43m(\u001b[49m\u001b[43mz\u001b[49m\u001b[43m)\u001b[49m\n\u001b[0;32m      2\u001b[0m \u001b[38;5;28mprint\u001b[39m(e)\n",
      "\u001b[1;31mTypeError\u001b[0m: float() argument must be a string or a real number, not 'complex'"
     ]
    }
   ],
   "source": [
    "e = float(z)\n",
    "print(e)"
   ]
  },
  {
   "cell_type": "code",
   "execution_count": 17,
   "metadata": {},
   "outputs": [
    {
     "data": {
      "text/plain": [
       "(2+0j)"
      ]
     },
     "execution_count": 17,
     "metadata": {},
     "output_type": "execute_result"
    }
   ],
   "source": [
    "f = 2.0\n",
    "n = complex(f)\n",
    "n\n"
   ]
  },
  {
   "cell_type": "code",
   "execution_count": 20,
   "metadata": {},
   "outputs": [
    {
     "data": {
      "text/plain": [
       "'My name is Sujat Kumari. I am 22 years old.\\n I am a Software Developer.'"
      ]
     },
     "execution_count": 20,
     "metadata": {},
     "output_type": "execute_result"
    }
   ],
   "source": [
    "import Fundamentals.Basics.demo_module as dm\n",
    "\n",
    "dm.introduction(\"Sujat Kumari\", 22, \"Software Developer\")"
   ]
  },
  {
   "cell_type": "markdown",
   "metadata": {},
   "source": [
    "# Random Numbers\n",
    "- Python does not have random() function to make a random number.\n",
    "- But, Python has a built-in module called random that can be used to make random numbers."
   ]
  },
  {
   "cell_type": "code",
   "execution_count": 31,
   "metadata": {},
   "outputs": [
    {
     "name": "stdout",
     "output_type": "stream",
     "text": [
      "4931\n"
     ]
    }
   ],
   "source": [
    "import random # Importingbuilt-in  random module from python \n",
    "\n",
    "print(random.randrange(100,10000)) # Display a random number between 1 and 9."
   ]
  },
  {
   "cell_type": "markdown",
   "metadata": {},
   "source": [
    "# Casting\n",
    "- Specify a variable type; There may be times when you want to specify a type on to a variable.\n",
    "- This can be done with casting.\n",
    "- Python is an object oriented programming language and as such it uses classes to define data types, including its primitive types.\n",
    "- Casting in python is therefore done using constructor functions:\n",
    "- int() : constructs an integer number from an integer literal,  a float literal , or a string literal (providing the string represents a whole number)\n",
    "\n",
    "- float(): constructs a float number from an integer literal, a float literal or a string literal(providing the string represents a float or an integer).\n",
    "- str(): constructs a string from a wide variety of data types, including strings, integer literals and float literals."
   ]
  },
  {
   "cell_type": "code",
   "execution_count": 32,
   "metadata": {},
   "outputs": [
    {
     "data": {
      "text/plain": [
       "1.0"
      ]
     },
     "execution_count": 32,
     "metadata": {},
     "output_type": "execute_result"
    }
   ],
   "source": [
    "x = float(1)\n",
    "x"
   ]
  },
  {
   "cell_type": "code",
   "execution_count": 33,
   "metadata": {},
   "outputs": [
    {
     "data": {
      "text/plain": [
       "1"
      ]
     },
     "execution_count": 33,
     "metadata": {},
     "output_type": "execute_result"
    }
   ],
   "source": [
    "x = int(1)\n",
    "x"
   ]
  },
  {
   "cell_type": "code",
   "execution_count": 36,
   "metadata": {},
   "outputs": [
    {
     "data": {
      "text/plain": [
       "'388426'"
      ]
     },
     "execution_count": 36,
     "metadata": {},
     "output_type": "execute_result"
    }
   ],
   "source": [
    "name = 388426\n",
    "x = str(name)\n",
    "x"
   ]
  },
  {
   "cell_type": "code",
   "execution_count": 37,
   "metadata": {},
   "outputs": [
    {
     "ename": "ValueError",
     "evalue": "invalid literal for int() with base 10: 'Shimla'",
     "output_type": "error",
     "traceback": [
      "\u001b[1;31m---------------------------------------------------------------------------\u001b[0m",
      "\u001b[1;31mValueError\u001b[0m                                Traceback (most recent call last)",
      "Cell \u001b[1;32mIn[37], line 2\u001b[0m\n\u001b[0;32m      1\u001b[0m place \u001b[38;5;241m=\u001b[39m \u001b[38;5;124m\"\u001b[39m\u001b[38;5;124mShimla\u001b[39m\u001b[38;5;124m\"\u001b[39m\n\u001b[1;32m----> 2\u001b[0m x\u001b[38;5;241m=\u001b[39m \u001b[38;5;28;43mint\u001b[39;49m\u001b[43m(\u001b[49m\u001b[43mplace\u001b[49m\u001b[43m)\u001b[49m\n\u001b[0;32m      3\u001b[0m x\n",
      "\u001b[1;31mValueError\u001b[0m: invalid literal for int() with base 10: 'Shimla'"
     ]
    }
   ],
   "source": [
    "place = \"Shimla\"\n",
    "x= int(place)\n",
    "x"
   ]
  },
  {
   "cell_type": "code",
   "execution_count": 38,
   "metadata": {},
   "outputs": [
    {
     "ename": "ValueError",
     "evalue": "invalid literal for int() with base 10: '2.34555'",
     "output_type": "error",
     "traceback": [
      "\u001b[1;31m---------------------------------------------------------------------------\u001b[0m",
      "\u001b[1;31mValueError\u001b[0m                                Traceback (most recent call last)",
      "Cell \u001b[1;32mIn[38], line 2\u001b[0m\n\u001b[0;32m      1\u001b[0m place \u001b[38;5;241m=\u001b[39m \u001b[38;5;124m\"\u001b[39m\u001b[38;5;124m2.34555\u001b[39m\u001b[38;5;124m\"\u001b[39m\n\u001b[1;32m----> 2\u001b[0m x \u001b[38;5;241m=\u001b[39m \u001b[38;5;28;43mint\u001b[39;49m\u001b[43m(\u001b[49m\u001b[43mplace\u001b[49m\u001b[43m)\u001b[49m\n\u001b[0;32m      3\u001b[0m x\n",
      "\u001b[1;31mValueError\u001b[0m: invalid literal for int() with base 10: '2.34555'"
     ]
    }
   ],
   "source": [
    "place = \"2.34555\"\n",
    "x = int(place)\n",
    "x"
   ]
  },
  {
   "cell_type": "code",
   "execution_count": 39,
   "metadata": {},
   "outputs": [
    {
     "data": {
      "text/plain": [
       "2.34555"
      ]
     },
     "execution_count": 39,
     "metadata": {},
     "output_type": "execute_result"
    }
   ],
   "source": [
    "place = \"2.34555\"\n",
    "x = float(place)\n",
    "x"
   ]
  },
  {
   "cell_type": "code",
   "execution_count": 40,
   "metadata": {},
   "outputs": [
    {
     "data": {
      "text/plain": [
       "2"
      ]
     },
     "execution_count": 40,
     "metadata": {},
     "output_type": "execute_result"
    }
   ],
   "source": [
    "place = \"2\"\n",
    "x = int(place)\n",
    "x"
   ]
  },
  {
   "cell_type": "code",
   "execution_count": null,
   "metadata": {},
   "outputs": [],
   "source": []
  }
 ],
 "metadata": {
  "kernelspec": {
   "display_name": "base",
   "language": "python",
   "name": "python3"
  },
  "language_info": {
   "codemirror_mode": {
    "name": "ipython",
    "version": 3
   },
   "file_extension": ".py",
   "mimetype": "text/x-python",
   "name": "python",
   "nbconvert_exporter": "python",
   "pygments_lexer": "ipython3",
   "version": "3.12.7"
  }
 },
 "nbformat": 4,
 "nbformat_minor": 2
}
