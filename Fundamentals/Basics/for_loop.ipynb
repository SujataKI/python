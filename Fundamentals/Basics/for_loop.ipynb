{
 "cells": [
  {
   "cell_type": "markdown",
   "metadata": {},
   "source": [
    "# Python For Loops\n",
    "- A `for` loop is used for iterating over a sequence (that is either a list, a tuple, a dictionary, a set, or a string.)\n",
    "- \"Sujata\" -> Iterating Over \"Sujata\" = 'S', 'u' , 'j', 'a', 't', 'a'\n",
    "- This is less like the `for` keyword in other programming languages, and works more like an iterator method as found in other OOP languages.\n",
    "- With the `for` loop we can execute a set of statements , once for each item in a list, tuple, set etc."
   ]
  },
  {
   "cell_type": "code",
   "execution_count": 1,
   "metadata": {},
   "outputs": [
    {
     "name": "stdout",
     "output_type": "stream",
     "text": [
      "apple\n",
      "banana\n",
      "cherry\n"
     ]
    }
   ],
   "source": [
    "fruits = [\"apple\", \"banana\", \"cherry\"]\n",
    "\n",
    "for i in fruits:\n",
    "    print(i)"
   ]
  },
  {
   "cell_type": "code",
   "execution_count": 2,
   "metadata": {},
   "outputs": [
    {
     "name": "stdout",
     "output_type": "stream",
     "text": [
      "apple\n",
      "banana\n",
      "cherry\n"
     ]
    }
   ],
   "source": [
    "for item in fruits:\n",
    "    print(item)"
   ]
  },
  {
   "cell_type": "markdown",
   "metadata": {},
   "source": [
    "# The `for` loop does not require an idexing variable to set beforehand"
   ]
  },
  {
   "cell_type": "code",
   "execution_count": 3,
   "metadata": {},
   "outputs": [
    {
     "name": "stdout",
     "output_type": "stream",
     "text": [
      "apple\n",
      "banana\n",
      "cherry\n"
     ]
    }
   ],
   "source": [
    "for fruit in fruits:\n",
    "    print(fruit)"
   ]
  },
  {
   "cell_type": "markdown",
   "metadata": {},
   "source": [
    "# Looping through a string"
   ]
  },
  {
   "cell_type": "markdown",
   "metadata": {},
   "source": [
    "- Strings are iterable objects, they contain a sequence of characters."
   ]
  },
  {
   "cell_type": "code",
   "execution_count": 4,
   "metadata": {},
   "outputs": [
    {
     "name": "stdout",
     "output_type": "stream",
     "text": [
      "S\n",
      "u\n",
      "j\n",
      "a\n",
      "t\n",
      "a\n",
      " \n",
      "K\n",
      "u\n",
      "m\n",
      "a\n",
      "r\n",
      "i\n"
     ]
    }
   ],
   "source": [
    "name = \"Sujata Kumari\"\n",
    "\n",
    "for alphabet in name:\n",
    "    print(alphabet)\n"
   ]
  },
  {
   "cell_type": "code",
   "execution_count": 5,
   "metadata": {},
   "outputs": [
    {
     "name": "stdout",
     "output_type": "stream",
     "text": [
      "S\n",
      "u\n",
      "j\n",
      "a\n",
      "t\n",
      "a\n"
     ]
    }
   ],
   "source": [
    "name = \"Sujata Kumari\"\n",
    "\n",
    "for alphabet in name:\n",
    "    if alphabet == \" \":\n",
    "        break\n",
    "    print(alphabet)"
   ]
  },
  {
   "cell_type": "code",
   "execution_count": 8,
   "metadata": {},
   "outputs": [
    {
     "name": "stdout",
     "output_type": "stream",
     "text": [
      "S\n",
      "u\n",
      "j\n",
      "a\n",
      "t\n",
      "a\n",
      "*\n"
     ]
    }
   ],
   "source": [
    "name = \"Sujata*Kumari\"\n",
    "\n",
    "for alphabet in name:\n",
    "    print(alphabet)\n",
    "    if alphabet == \"*\":\n",
    "        break\n",
    "    "
   ]
  },
  {
   "cell_type": "code",
   "execution_count": 10,
   "metadata": {},
   "outputs": [
    {
     "name": "stdout",
     "output_type": "stream",
     "text": [
      "apple\n",
      "banana\n",
      "cherry\n"
     ]
    }
   ],
   "source": [
    "fruits = [\"apple\", \"banana\", \"cherry\"]\n",
    "for x in fruits:\n",
    "    print(x)"
   ]
  },
  {
   "cell_type": "code",
   "execution_count": 9,
   "metadata": {},
   "outputs": [
    {
     "name": "stdout",
     "output_type": "stream",
     "text": [
      "apple\n",
      "cherry\n"
     ]
    }
   ],
   "source": [
    "fruits = [\"apple\", \"banana\", \"cherry\"]\n",
    "for x in fruits:\n",
    "    if x == \"banana\":\n",
    "        continue\n",
    "    print(x)"
   ]
  },
  {
   "cell_type": "markdown",
   "metadata": {},
   "source": [
    "# Range in Python\n",
    "- `range()` function in python returns a sequence of numbers, starting from 0 by default, and increments by 1 (by default) and ends at a specified number."
   ]
  },
  {
   "cell_type": "code",
   "execution_count": 13,
   "metadata": {},
   "outputs": [
    {
     "data": {
      "text/plain": [
       "range"
      ]
     },
     "execution_count": 13,
     "metadata": {},
     "output_type": "execute_result"
    }
   ],
   "source": [
    "type(range(6))"
   ]
  },
  {
   "cell_type": "code",
   "execution_count": 12,
   "metadata": {},
   "outputs": [
    {
     "data": {
      "text/plain": [
       "range(0, 6)"
      ]
     },
     "execution_count": 12,
     "metadata": {},
     "output_type": "execute_result"
    }
   ],
   "source": [
    "range(6)"
   ]
  },
  {
   "cell_type": "code",
   "execution_count": null,
   "metadata": {},
   "outputs": [
    {
     "name": "stdout",
     "output_type": "stream",
     "text": [
      "0\n",
      "1\n",
      "2\n",
      "3\n",
      "4\n",
      "5\n"
     ]
    }
   ],
   "source": [
    "for x in range(6): # start value = 0 , end value = 6, increment/ step value = 1\n",
    "    print(x)"
   ]
  },
  {
   "cell_type": "code",
   "execution_count": null,
   "metadata": {},
   "outputs": [
    {
     "name": "stdout",
     "output_type": "stream",
     "text": [
      "2\n",
      "5\n",
      "8\n",
      "11\n",
      "14\n",
      "17\n"
     ]
    }
   ],
   "source": [
    "for x in range(2,20,3): # start value = 2 , end value = 20, increment/ step value = 3\n",
    "    print(x)"
   ]
  },
  {
   "cell_type": "code",
   "execution_count": null,
   "metadata": {},
   "outputs": [
    {
     "name": "stdout",
     "output_type": "stream",
     "text": [
      "0\n",
      "1\n",
      "2\n",
      "3\n",
      "4\n",
      "5\n",
      "Finally Finished\n"
     ]
    }
   ],
   "source": [
    "for x in range(6): # Condition : True or False\n",
    "    print(x)\n",
    "else: # At Conition = False\n",
    "    print(\"Finally Finished\")"
   ]
  },
  {
   "cell_type": "code",
   "execution_count": null,
   "metadata": {},
   "outputs": [
    {
     "name": "stdout",
     "output_type": "stream",
     "text": [
      "0\n",
      "1\n",
      "2\n"
     ]
    }
   ],
   "source": [
    "for x in range(6):\n",
    "    if x ==3: \n",
    "        break # If break statement stops a loop then else will not be executed.\n",
    "    print(x)\n",
    "else:\n",
    "    print(\"Finally Finished\")"
   ]
  },
  {
   "cell_type": "markdown",
   "metadata": {},
   "source": [
    "# pass statement:\n",
    "- for loops cannot be empty but if you for some reason have a for loop with no content, put in the pass statement to avoid getting an erro."
   ]
  },
  {
   "cell_type": "code",
   "execution_count": 22,
   "metadata": {},
   "outputs": [
    {
     "name": "stdout",
     "output_type": "stream",
     "text": [
      "Code passed!\n"
     ]
    }
   ],
   "source": [
    "list_1 = [1,2,3,4]\n",
    "for x in list_1:\n",
    "    pass\n",
    "print(\"Code passed!\")"
   ]
  },
  {
   "cell_type": "markdown",
   "metadata": {},
   "source": [
    "# Nested Loops\n",
    "- A nested loop is a loop inside a loop.\n",
    "- The inner loop will be executed one time for each iteration of the outer loop."
   ]
  },
  {
   "cell_type": "code",
   "execution_count": 27,
   "metadata": {},
   "outputs": [
    {
     "name": "stdout",
     "output_type": "stream",
     "text": [
      "red\n",
      "red apple\n",
      "red banana\n",
      "red cherry\n",
      "yellow\n",
      "yellow apple\n",
      "yellow banana\n",
      "yellow cherry\n",
      "green\n",
      "green apple\n",
      "green banana\n",
      "green cherry\n"
     ]
    }
   ],
   "source": [
    "colour = [\"red\", \"yellow\", \"green\"]\n",
    "fruits = [\"apple\", \"banana\", \"cherry\"]\n",
    "\n",
    "for c in colour: # Outer Loop\n",
    "    print(c)\n",
    "    for item in fruits: # Inner Loop Level 1\n",
    "        print(c, item)\n"
   ]
  },
  {
   "cell_type": "code",
   "execution_count": 26,
   "metadata": {},
   "outputs": [
    {
     "name": "stdout",
     "output_type": "stream",
     "text": [
      "red\n",
      "red apple\n",
      "red apple 1\n",
      "red apple 2\n",
      "red apple 3\n",
      "red banana\n",
      "red banana 1\n",
      "red banana 2\n",
      "red banana 3\n",
      "red cherry\n",
      "red cherry 1\n",
      "red cherry 2\n",
      "red cherry 3\n",
      "yellow\n",
      "yellow apple\n",
      "yellow apple 1\n",
      "yellow apple 2\n",
      "yellow apple 3\n",
      "yellow banana\n",
      "yellow banana 1\n",
      "yellow banana 2\n",
      "yellow banana 3\n",
      "yellow cherry\n",
      "yellow cherry 1\n",
      "yellow cherry 2\n",
      "yellow cherry 3\n",
      "green\n",
      "green apple\n",
      "green apple 1\n",
      "green apple 2\n",
      "green apple 3\n",
      "green banana\n",
      "green banana 1\n",
      "green banana 2\n",
      "green banana 3\n",
      "green cherry\n",
      "green cherry 1\n",
      "green cherry 2\n",
      "green cherry 3\n"
     ]
    }
   ],
   "source": [
    "colour = [\"red\", \"yellow\", \"green\"]\n",
    "fruits = [\"apple\", \"banana\", \"cherry\"]\n",
    "list_1 = [1,2,3]\n",
    "\n",
    "for c in colour: # Outer Loop\n",
    "    print(c)\n",
    "    for item in fruits: # Inner Loop Level 1\n",
    "        print(c, item)\n",
    "        for num in list_1: # Inner Loop Level 2\n",
    "            print(c, item , num)"
   ]
  },
  {
   "cell_type": "code",
   "execution_count": 28,
   "metadata": {},
   "outputs": [
    {
     "name": "stdout",
     "output_type": "stream",
     "text": [
      "Chandigarh Infosys\n",
      "Chandigarh Apple\n",
      "Chandigarh Microsoft\n",
      "Delhi Infosys\n",
      "Delhi Apple\n",
      "Delhi Microsoft\n"
     ]
    }
   ],
   "source": [
    "cities = [\"Chandigarh\", \"Delhi\"]\n",
    "companies = [\"Infosys\", \"Apple\", \"Microsoft\"]\n",
    "\n",
    "for city in cities:\n",
    "    for company in companies:\n",
    "        print(city, company)"
   ]
  },
  {
   "cell_type": "markdown",
   "metadata": {},
   "source": [
    "# Task: Write a Python Program to print the Letter \"S\""
   ]
  },
  {
   "cell_type": "code",
   "execution_count": null,
   "metadata": {},
   "outputs": [],
   "source": []
  }
 ],
 "metadata": {
  "kernelspec": {
   "display_name": "base",
   "language": "python",
   "name": "python3"
  },
  "language_info": {
   "codemirror_mode": {
    "name": "ipython",
    "version": 3
   },
   "file_extension": ".py",
   "mimetype": "text/x-python",
   "name": "python",
   "nbconvert_exporter": "python",
   "pygments_lexer": "ipython3",
   "version": "3.12.7"
  }
 },
 "nbformat": 4,
 "nbformat_minor": 2
}
