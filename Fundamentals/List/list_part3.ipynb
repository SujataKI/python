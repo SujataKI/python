{
 "cells": [
  {
   "cell_type": "markdown",
   "metadata": {},
   "source": [
    "# Python - Add List Items"
   ]
  },
  {
   "cell_type": "code",
   "execution_count": 1,
   "metadata": {},
   "outputs": [
    {
     "data": {
      "text/plain": [
       "['Ankush', 'Vijay', 'Sujata', 'Suraj']"
      ]
     },
     "execution_count": 1,
     "metadata": {},
     "output_type": "execute_result"
    }
   ],
   "source": [
    "# Let's create a list of student names\n",
    "student_names = [\"Ankush\", \"Vijay\", \"Sujata\", \"Suraj\"]\n",
    "student_names"
   ]
  },
  {
   "cell_type": "markdown",
   "metadata": {},
   "source": [
    "# Append Items\n",
    "- Let's assume we have a new student enrolled to our program.\n",
    "- New student name is : Soniya\n",
    "- We have to add her name to the student_names list\n",
    "- We can use append() method to add an item to the end of the list."
   ]
  },
  {
   "cell_type": "code",
   "execution_count": 2,
   "metadata": {},
   "outputs": [
    {
     "data": {
      "text/plain": [
       "['Ankush', 'Vijay', 'Sujata', 'Suraj', 'Soniya']"
      ]
     },
     "execution_count": 2,
     "metadata": {},
     "output_type": "execute_result"
    }
   ],
   "source": [
    "student_names.append(\"Soniya\")\n",
    "student_names"
   ]
  },
  {
   "cell_type": "markdown",
   "metadata": {},
   "source": [
    "# But, what if we need to add \"Soniya\" after Sujata\n",
    "- We have to add her name at a specified index\n",
    "- To insert a list item at a specified index, we can use insert() method"
   ]
  },
  {
   "cell_type": "code",
   "execution_count": 3,
   "metadata": {},
   "outputs": [
    {
     "data": {
      "text/plain": [
       "['Ankush', 'Vijay', 'Sujata', 'Soniya', 'Suraj', 'Soniya']"
      ]
     },
     "execution_count": 3,
     "metadata": {},
     "output_type": "execute_result"
    }
   ],
   "source": [
    "student_names.insert(3, \"Soniya\")\n",
    "student_names"
   ]
  },
  {
   "cell_type": "markdown",
   "metadata": {},
   "source": [
    "# Let's assume we have another program called CPP program\n",
    "- We have another list of students who are studying C++\n",
    "- What if we have to create a master list which includes all the students learning C++ and Python\n",
    "- We can do one thing: We can extend our student_names list with the cpp_student_list\n",
    "- We can use extend() method to do this"
   ]
  },
  {
   "cell_type": "code",
   "execution_count": 4,
   "metadata": {},
   "outputs": [
    {
     "data": {
      "text/plain": [
       "['Ankush',\n",
       " 'Vijay',\n",
       " 'Sujata',\n",
       " 'Soniya',\n",
       " 'Suraj',\n",
       " 'Soniya',\n",
       " 'Kartik',\n",
       " 'James',\n",
       " 'Kaithy']"
      ]
     },
     "execution_count": 4,
     "metadata": {},
     "output_type": "execute_result"
    }
   ],
   "source": [
    "cpp_student_list = [\"Kartik\", \"James\", \"Kaithy\"]\n",
    "\n",
    "student_names.extend(cpp_student_list)\n",
    "student_names"
   ]
  },
  {
   "cell_type": "markdown",
   "metadata": {},
   "source": [
    "# Add Any Iterable\n",
    "- We can use extend() method to add any iterable object (tuple, sets, dictionary etc)"
   ]
  },
  {
   "cell_type": "code",
   "execution_count": 5,
   "metadata": {},
   "outputs": [
    {
     "data": {
      "text/plain": [
       "['Ankush',\n",
       " 'Vijay',\n",
       " 'Sujata',\n",
       " 'Soniya',\n",
       " 'Suraj',\n",
       " 'Soniya',\n",
       " 'Kartik',\n",
       " 'James',\n",
       " 'Kaithy',\n",
       " 'Kartik_2',\n",
       " 'James_2',\n",
       " 'Kaithy_2']"
      ]
     },
     "execution_count": 5,
     "metadata": {},
     "output_type": "execute_result"
    }
   ],
   "source": [
    "cpp_student_tuple = (\"Kartik_2\", \"James_2\", \"Kaithy_2\")\n",
    "student_names.extend(cpp_student_tuple)\n",
    "student_names"
   ]
  },
  {
   "cell_type": "code",
   "execution_count": 36,
   "metadata": {},
   "outputs": [
    {
     "data": {
      "text/plain": [
       "['Ankush', 'Suraj', 'Alina', 'Rita', 'Kati']"
      ]
     },
     "execution_count": 36,
     "metadata": {},
     "output_type": "execute_result"
    }
   ],
   "source": [
    "other_stud_names = {\n",
    "    \"html_name\":\"Alina\",\n",
    "    \"css_name\" : \"Rita\", # Key : Value\n",
    "    \"java_name\": \"Kati\",\n",
    "}\n",
    "\n",
    "new_list = [\"Ankush\", \"Suraj\"]\n",
    "\n",
    "new_list.extend(other_stud_names.values())\n",
    "new_list"
   ]
  },
  {
   "cell_type": "code",
   "execution_count": 39,
   "metadata": {},
   "outputs": [
    {
     "name": "stdout",
     "output_type": "stream",
     "text": [
      "html_name\n",
      "css_name\n",
      "java_name\n"
     ]
    }
   ],
   "source": [
    "other_stud_names = {\n",
    "    \"html_name\":[\"Alina\", \"Bob\", \"Dominic\"],\n",
    "    \"css_name\" : [\"Rita\", \"Retu\", \"Aman\"], # Key : Value\n",
    "    \"java_name\": [\"Kati\",\"Sati\", \"Chatty\"]\n",
    "}\n",
    "\n",
    "for item in other_stud_names: # iteration is happening on the key of the dictionary by default\n",
    "    print(item)"
   ]
  },
  {
   "cell_type": "code",
   "execution_count": 40,
   "metadata": {},
   "outputs": [
    {
     "name": "stdout",
     "output_type": "stream",
     "text": [
      "['Alina', 'Bob', 'Dominic']\n",
      "['Rita', 'Retu', 'Aman']\n",
      "['Kati', 'Sati', 'Chatty']\n"
     ]
    }
   ],
   "source": [
    "other_stud_names = {\n",
    "    \"html_name\":[\"Alina\", \"Bob\", \"Dominic\"],\n",
    "    \"css_name\" : [\"Rita\", \"Retu\", \"Aman\"], # Key : Value\n",
    "    \"java_name\": [\"Kati\",\"Sati\", \"Chatty\"]\n",
    "}\n",
    "\n",
    "for item in other_stud_names.values(): # iteration is happening on the key of the dictionary by default\n",
    "    print(item)"
   ]
  },
  {
   "cell_type": "code",
   "execution_count": 42,
   "metadata": {},
   "outputs": [
    {
     "name": "stdout",
     "output_type": "stream",
     "text": [
      "Alina\n",
      "Bob\n",
      "Dominic\n",
      "Rita\n",
      "Retu\n",
      "Aman\n",
      "Kati\n",
      "Sati\n",
      "Chatty\n"
     ]
    }
   ],
   "source": [
    "other_stud_names = {\n",
    "    \"html_name\":[\"Alina\", \"Bob\", \"Dominic\"],\n",
    "    \"css_name\" : [\"Rita\", \"Retu\", \"Aman\"], # Key : Value\n",
    "    \"java_name\": [\"Kati\",\"Sati\", \"Chatty\"]\n",
    "}\n",
    "\n",
    "for item in other_stud_names.values(): # iteration is happening on the key of the dictionary by default\n",
    "    # print(item)\n",
    "    for sub_item in item:\n",
    "        print(sub_item)\n",
    "\n"
   ]
  },
  {
   "cell_type": "code",
   "execution_count": 43,
   "metadata": {},
   "outputs": [
    {
     "name": "stdout",
     "output_type": "stream",
     "text": [
      "['Alina']\n",
      "['Alina', 'Bob']\n",
      "['Alina', 'Bob', 'Dominic']\n",
      "['Alina', 'Bob', 'Dominic', 'Rita']\n",
      "['Alina', 'Bob', 'Dominic', 'Rita', 'Retu']\n",
      "['Alina', 'Bob', 'Dominic', 'Rita', 'Retu', 'Aman']\n",
      "['Alina', 'Bob', 'Dominic', 'Rita', 'Retu', 'Aman', 'Kati']\n",
      "['Alina', 'Bob', 'Dominic', 'Rita', 'Retu', 'Aman', 'Kati', 'Sati']\n",
      "['Alina', 'Bob', 'Dominic', 'Rita', 'Retu', 'Aman', 'Kati', 'Sati', 'Chatty']\n"
     ]
    }
   ],
   "source": [
    "other_stud_names = {\n",
    "    \"html_name\":[\"Alina\", \"Bob\", \"Dominic\"],\n",
    "    \"css_name\" : [\"Rita\", \"Retu\", \"Aman\"], # Key : Value\n",
    "    \"java_name\": [\"Kati\",\"Sati\", \"Chatty\"]\n",
    "}\n",
    "\n",
    "empty_list = []\n",
    "for item in other_stud_names.values(): # iteration is happening on the key of the dictionary by default\n",
    "    # print(item)\n",
    "    for sub_item in item:\n",
    "        # print(sub_item)\n",
    "        empty_list.append(sub_item)\n",
    "        print(empty_list)\n",
    "\n",
    "\n"
   ]
  },
  {
   "cell_type": "code",
   "execution_count": 45,
   "metadata": {},
   "outputs": [
    {
     "name": "stdout",
     "output_type": "stream",
     "text": [
      "['Sujata', 'Suraj', 'Alina']\n",
      "['Sujata', 'Suraj', 'Alina', 'Bob']\n",
      "['Sujata', 'Suraj', 'Alina', 'Bob', 'Dominic']\n",
      "['Sujata', 'Suraj', 'Alina', 'Bob', 'Dominic', 'Rita']\n",
      "['Sujata', 'Suraj', 'Alina', 'Bob', 'Dominic', 'Rita', 'Retu']\n",
      "['Sujata', 'Suraj', 'Alina', 'Bob', 'Dominic', 'Rita', 'Retu', 'Aman']\n",
      "['Sujata', 'Suraj', 'Alina', 'Bob', 'Dominic', 'Rita', 'Retu', 'Aman', 'Kati']\n",
      "['Sujata', 'Suraj', 'Alina', 'Bob', 'Dominic', 'Rita', 'Retu', 'Aman', 'Kati', 'Sati']\n",
      "['Sujata', 'Suraj', 'Alina', 'Bob', 'Dominic', 'Rita', 'Retu', 'Aman', 'Kati', 'Sati', 'Chatty']\n"
     ]
    }
   ],
   "source": [
    "other_stud_names = {\n",
    "    \"html_name\":[\"Alina\", \"Bob\", \"Dominic\"],\n",
    "    \"css_name\" : [\"Rita\", \"Retu\", \"Aman\"], # Key : Value\n",
    "    \"java_name\": [\"Kati\",\"Sati\", \"Chatty\"]\n",
    "}\n",
    "\n",
    "non_empty_list = [\"Sujata\", \"Suraj\"]\n",
    "for item in other_stud_names.values(): # iteration is happening on the key of the dictionary by default\n",
    "    # print(item)\n",
    "    for sub_item in item:\n",
    "        # print(sub_item)\n",
    "        non_empty_list.append(sub_item)\n",
    "        print(non_empty_list)\n",
    "\n",
    "\n"
   ]
  },
  {
   "cell_type": "code",
   "execution_count": 47,
   "metadata": {},
   "outputs": [
    {
     "name": "stdout",
     "output_type": "stream",
     "text": [
      "['Alina', 'Bob', 'Dominic']\n",
      "['Sujata', 'Suraj', 'A', 'l', 'i', 'n', 'a']\n",
      "['Sujata', 'Suraj', 'A', 'l', 'i', 'n', 'a', 'B', 'o', 'b']\n",
      "['Sujata', 'Suraj', 'A', 'l', 'i', 'n', 'a', 'B', 'o', 'b', 'D', 'o', 'm', 'i', 'n', 'i', 'c']\n",
      "['Rita', 'Retu', 'Aman']\n",
      "['Sujata', 'Suraj', 'A', 'l', 'i', 'n', 'a', 'B', 'o', 'b', 'D', 'o', 'm', 'i', 'n', 'i', 'c', 'R', 'i', 't', 'a']\n",
      "['Sujata', 'Suraj', 'A', 'l', 'i', 'n', 'a', 'B', 'o', 'b', 'D', 'o', 'm', 'i', 'n', 'i', 'c', 'R', 'i', 't', 'a', 'R', 'e', 't', 'u']\n",
      "['Sujata', 'Suraj', 'A', 'l', 'i', 'n', 'a', 'B', 'o', 'b', 'D', 'o', 'm', 'i', 'n', 'i', 'c', 'R', 'i', 't', 'a', 'R', 'e', 't', 'u', 'A', 'm', 'a', 'n']\n",
      "['Kati', 'Sati', 'Chatty']\n",
      "['Sujata', 'Suraj', 'A', 'l', 'i', 'n', 'a', 'B', 'o', 'b', 'D', 'o', 'm', 'i', 'n', 'i', 'c', 'R', 'i', 't', 'a', 'R', 'e', 't', 'u', 'A', 'm', 'a', 'n', 'K', 'a', 't', 'i']\n",
      "['Sujata', 'Suraj', 'A', 'l', 'i', 'n', 'a', 'B', 'o', 'b', 'D', 'o', 'm', 'i', 'n', 'i', 'c', 'R', 'i', 't', 'a', 'R', 'e', 't', 'u', 'A', 'm', 'a', 'n', 'K', 'a', 't', 'i', 'S', 'a', 't', 'i']\n",
      "['Sujata', 'Suraj', 'A', 'l', 'i', 'n', 'a', 'B', 'o', 'b', 'D', 'o', 'm', 'i', 'n', 'i', 'c', 'R', 'i', 't', 'a', 'R', 'e', 't', 'u', 'A', 'm', 'a', 'n', 'K', 'a', 't', 'i', 'S', 'a', 't', 'i', 'C', 'h', 'a', 't', 't', 'y']\n"
     ]
    }
   ],
   "source": [
    "other_stud_names = {\n",
    "    \"html_name\":[\"Alina\", \"Bob\", \"Dominic\"],\n",
    "    \"css_name\" : [\"Rita\", \"Retu\", \"Aman\"], # Key : Value\n",
    "    \"java_name\": [\"Kati\",\"Sati\", \"Chatty\"]\n",
    "}\n",
    "\n",
    "non_empty_list_2 = [\"Sujata\", \"Suraj\"]\n",
    "for item in other_stud_names.values(): # iteration is happening on the key of the dictionary by default\n",
    "    print(item)\n",
    "    for sub_item in item:\n",
    "        # print(sub_item)\n",
    "        non_empty_list_2.extend(sub_item)\n",
    "        print(non_empty_list_2)"
   ]
  },
  {
   "cell_type": "code",
   "execution_count": 51,
   "metadata": {},
   "outputs": [
    {
     "name": "stdout",
     "output_type": "stream",
     "text": [
      "['Alina', 'Bob', 'Dominic']\n",
      "['Sujata', 'Suraj', 'Alina', 'Bob', 'Dominic']\n",
      "['Rita', 'Retu', 'Aman']\n",
      "['Sujata', 'Suraj', 'Alina', 'Bob', 'Dominic', 'Rita', 'Retu', 'Aman']\n",
      "['Kati', 'Sati', 'Chatty']\n",
      "['Sujata', 'Suraj', 'Alina', 'Bob', 'Dominic', 'Rita', 'Retu', 'Aman', 'Kati', 'Sati', 'Chatty']\n"
     ]
    }
   ],
   "source": [
    "other_stud_names = {\n",
    "    \"html_name\":[\"Alina\", \"Bob\", \"Dominic\"],\n",
    "    \"css_name\" : [\"Rita\", \"Retu\", \"Aman\"], # Key : Value\n",
    "    \"java_name\": [\"Kati\",\"Sati\", \"Chatty\"]\n",
    "}\n",
    "\n",
    "non_empty_list_3 = [\"Sujata\", \"Suraj\"]\n",
    "for item in other_stud_names.values(): # iteration is happening on the key of the dictionary by default\n",
    "    print(item)\n",
    "    non_empty_list_3.extend(item)\n",
    "    print(non_empty_list_3)"
   ]
  },
  {
   "cell_type": "code",
   "execution_count": null,
   "metadata": {},
   "outputs": [],
   "source": []
  },
  {
   "cell_type": "code",
   "execution_count": 7,
   "metadata": {},
   "outputs": [
    {
     "data": {
      "text/plain": [
       "{'html_name': ['Alina', 'Bob', 'Dominic'],\n",
       " 'css_name': ['Rita', 'Retu', 'Aman'],\n",
       " 'java_name': ['Kati', 'Sati', 'Chatty']}"
      ]
     },
     "execution_count": 7,
     "metadata": {},
     "output_type": "execute_result"
    }
   ],
   "source": [
    "other_stud_names = {\n",
    "    \"html_name\":[\"Alina\", \"Bob\", \"Dominic\"],\n",
    "    \"css_name\" : [\"Rita\", \"Retu\", \"Aman\"], # Key : Value\n",
    "    \"java_name\": [\"Kati\",\"Sati\", \"Chatty\"]\n",
    "}\n",
    "\n",
    "other_stud_names"
   ]
  },
  {
   "cell_type": "code",
   "execution_count": 33,
   "metadata": {},
   "outputs": [
    {
     "data": {
      "text/plain": [
       "['Alina', 'Bob', 'Dominic']"
      ]
     },
     "execution_count": 33,
     "metadata": {},
     "output_type": "execute_result"
    }
   ],
   "source": [
    "other_stud_names[\"html_name\"]"
   ]
  },
  {
   "cell_type": "code",
   "execution_count": 34,
   "metadata": {},
   "outputs": [
    {
     "data": {
      "text/plain": [
       "'Alina'"
      ]
     },
     "execution_count": 34,
     "metadata": {},
     "output_type": "execute_result"
    }
   ],
   "source": [
    "other_stud_names[\"html_name\"][0]"
   ]
  },
  {
   "cell_type": "code",
   "execution_count": 35,
   "metadata": {},
   "outputs": [
    {
     "data": {
      "text/plain": [
       "'Dominic'"
      ]
     },
     "execution_count": 35,
     "metadata": {},
     "output_type": "execute_result"
    }
   ],
   "source": [
    "other_stud_names[\"html_name\"][2]"
   ]
  },
  {
   "cell_type": "code",
   "execution_count": 10,
   "metadata": {},
   "outputs": [
    {
     "data": {
      "text/plain": [
       "dict_items([('html_name', ['Alina', 'Bob', 'Dominic']), ('css_name', ['Rita', 'Retu', 'Aman']), ('java_name', ['Kati', 'Sati', 'Chatty'])])"
      ]
     },
     "execution_count": 10,
     "metadata": {},
     "output_type": "execute_result"
    }
   ],
   "source": [
    "other_stud_names.items()"
   ]
  },
  {
   "cell_type": "code",
   "execution_count": 11,
   "metadata": {},
   "outputs": [
    {
     "data": {
      "text/plain": [
       "dict_keys(['html_name', 'css_name', 'java_name'])"
      ]
     },
     "execution_count": 11,
     "metadata": {},
     "output_type": "execute_result"
    }
   ],
   "source": [
    "other_stud_names.keys()"
   ]
  },
  {
   "cell_type": "code",
   "execution_count": 12,
   "metadata": {},
   "outputs": [
    {
     "data": {
      "text/plain": [
       "dict_values([['Alina', 'Bob', 'Dominic'], ['Rita', 'Retu', 'Aman'], ['Kati', 'Sati', 'Chatty']])"
      ]
     },
     "execution_count": 12,
     "metadata": {},
     "output_type": "execute_result"
    }
   ],
   "source": [
    "other_stud_names.values()"
   ]
  },
  {
   "cell_type": "code",
   "execution_count": 16,
   "metadata": {},
   "outputs": [
    {
     "data": {
      "text/plain": [
       "dict_values"
      ]
     },
     "execution_count": 16,
     "metadata": {},
     "output_type": "execute_result"
    }
   ],
   "source": [
    "var_1 = other_stud_names.values()\n",
    "type(var_1)"
   ]
  },
  {
   "cell_type": "code",
   "execution_count": 8,
   "metadata": {},
   "outputs": [
    {
     "data": {
      "text/plain": [
       "['Ankush',\n",
       " 'Vijay',\n",
       " 'Sujata',\n",
       " 'Soniya',\n",
       " 'Suraj',\n",
       " 'Soniya',\n",
       " 'Kartik',\n",
       " 'James',\n",
       " 'Kaithy',\n",
       " 'Kartik_2',\n",
       " 'James_2',\n",
       " 'Kaithy_2']"
      ]
     },
     "execution_count": 8,
     "metadata": {},
     "output_type": "execute_result"
    }
   ],
   "source": [
    "student_names"
   ]
  },
  {
   "cell_type": "code",
   "execution_count": 9,
   "metadata": {},
   "outputs": [
    {
     "data": {
      "text/plain": [
       "['Ankush',\n",
       " 'Vijay',\n",
       " 'Sujata',\n",
       " 'Soniya',\n",
       " 'Suraj',\n",
       " 'Soniya',\n",
       " 'Kartik',\n",
       " 'James',\n",
       " 'Kaithy',\n",
       " 'Kartik_2',\n",
       " 'James_2',\n",
       " 'Kaithy_2',\n",
       " 'html_name',\n",
       " 'css_name',\n",
       " 'java_name']"
      ]
     },
     "execution_count": 9,
     "metadata": {},
     "output_type": "execute_result"
    }
   ],
   "source": [
    "student_names.extend(other_stud_names)\n",
    "student_names # Note: Will add Dictionaries Keys to the end of the list"
   ]
  },
  {
   "cell_type": "code",
   "execution_count": 13,
   "metadata": {},
   "outputs": [
    {
     "data": {
      "text/plain": [
       "['Ankush',\n",
       " 'Vijay',\n",
       " 'Sujata',\n",
       " 'Soniya',\n",
       " 'Suraj',\n",
       " 'Soniya',\n",
       " 'Kartik',\n",
       " 'James',\n",
       " 'Kaithy',\n",
       " 'Kartik_2',\n",
       " 'James_2',\n",
       " 'Kaithy_2',\n",
       " 'html_name',\n",
       " 'css_name',\n",
       " 'java_name',\n",
       " ['Alina', 'Bob', 'Dominic'],\n",
       " ['Rita', 'Retu', 'Aman'],\n",
       " ['Kati', 'Sati', 'Chatty']]"
      ]
     },
     "execution_count": 13,
     "metadata": {},
     "output_type": "execute_result"
    }
   ],
   "source": [
    "student_names.extend(other_stud_names.values())\n",
    "student_names"
   ]
  },
  {
   "cell_type": "code",
   "execution_count": 17,
   "metadata": {},
   "outputs": [
    {
     "data": {
      "text/plain": [
       "dict_values([['Alina', 'Bob', 'Dominic'], ['Rita', 'Retu', 'Aman'], ['Kati', 'Sati', 'Chatty']])"
      ]
     },
     "execution_count": 17,
     "metadata": {},
     "output_type": "execute_result"
    }
   ],
   "source": [
    "var_1"
   ]
  },
  {
   "cell_type": "code",
   "execution_count": 30,
   "metadata": {},
   "outputs": [
    {
     "ename": "TypeError",
     "evalue": "'dict_values' object is not subscriptable",
     "output_type": "error",
     "traceback": [
      "\u001b[1;31m---------------------------------------------------------------------------\u001b[0m",
      "\u001b[1;31mTypeError\u001b[0m                                 Traceback (most recent call last)",
      "Cell \u001b[1;32mIn[30], line 1\u001b[0m\n\u001b[1;32m----> 1\u001b[0m \u001b[43mvar_1\u001b[49m\u001b[43m[\u001b[49m\u001b[38;5;241;43m0\u001b[39;49m\u001b[43m]\u001b[49m \u001b[38;5;66;03m# Indexing is not possible here\u001b[39;00m\n",
      "\u001b[1;31mTypeError\u001b[0m: 'dict_values' object is not subscriptable"
     ]
    }
   ],
   "source": [
    "var_1[0] # Indexing is not possible here"
   ]
  },
  {
   "cell_type": "code",
   "execution_count": null,
   "metadata": {},
   "outputs": [],
   "source": []
  },
  {
   "cell_type": "markdown",
   "metadata": {},
   "source": [
    "# for loop on names inside the 3 lists"
   ]
  },
  {
   "cell_type": "code",
   "execution_count": 18,
   "metadata": {},
   "outputs": [
    {
     "data": {
      "text/plain": [
       "['Suraj',\n",
       " 'Sujata',\n",
       " 'Alina',\n",
       " 'Bob',\n",
       " 'Dominic',\n",
       " 'Rita',\n",
       " 'Retu',\n",
       " 'Aman',\n",
       " 'Kati',\n",
       " 'Sati',\n",
       " 'Chatty']"
      ]
     },
     "execution_count": 18,
     "metadata": {},
     "output_type": "execute_result"
    }
   ],
   "source": [
    "student_name_2 = [\"Suraj\", \"Sujata\"]\n",
    "\n",
    "for name in var_1:\n",
    "    student_name_2.extend(name)\n",
    "\n",
    "student_name_2"
   ]
  },
  {
   "cell_type": "code",
   "execution_count": 19,
   "metadata": {},
   "outputs": [
    {
     "data": {
      "text/plain": [
       "['Suraj',\n",
       " 'Sujata',\n",
       " 'Alina',\n",
       " 'Bob',\n",
       " 'Dominic',\n",
       " 'Rita',\n",
       " 'Retu',\n",
       " 'Aman',\n",
       " 'Kati',\n",
       " 'Sati',\n",
       " 'Chatty']"
      ]
     },
     "execution_count": 19,
     "metadata": {},
     "output_type": "execute_result"
    }
   ],
   "source": [
    "from itertools import chain\n",
    "student_name_3 = [\"Suraj\", \"Sujata\"]\n",
    "\n",
    "student_name_3.extend(chain(*var_1))\n",
    "student_name_3\n"
   ]
  },
  {
   "cell_type": "code",
   "execution_count": 20,
   "metadata": {},
   "outputs": [
    {
     "data": {
      "text/plain": [
       "['Suraj',\n",
       " 'Sujata',\n",
       " 'Alina',\n",
       " 'Bob',\n",
       " 'Dominic',\n",
       " 'Rita',\n",
       " 'Retu',\n",
       " 'Aman',\n",
       " 'Kati',\n",
       " 'Sati',\n",
       " 'Chatty']"
      ]
     },
     "execution_count": 20,
     "metadata": {},
     "output_type": "execute_result"
    }
   ],
   "source": [
    "# sum()\n",
    "student_name_4 = [\"Suraj\", \"Sujata\"]\n",
    "\n",
    "student_name_4.extend(sum(var_1, []))\n",
    "student_name_4"
   ]
  },
  {
   "cell_type": "code",
   "execution_count": 21,
   "metadata": {},
   "outputs": [
    {
     "data": {
      "text/plain": [
       "dict_values([['Alina', 'Bob', 'Dominic'], ['Rita', 'Retu', 'Aman'], ['Kati', 'Sati', 'Chatty']])"
      ]
     },
     "execution_count": 21,
     "metadata": {},
     "output_type": "execute_result"
    }
   ],
   "source": [
    "var_1"
   ]
  },
  {
   "cell_type": "code",
   "execution_count": 23,
   "metadata": {},
   "outputs": [
    {
     "data": {
      "text/plain": [
       "680"
      ]
     },
     "execution_count": 23,
     "metadata": {},
     "output_type": "execute_result"
    }
   ],
   "source": [
    "num_list = [100,20,10,50,500]\n",
    "sum(num_list)"
   ]
  },
  {
   "cell_type": "code",
   "execution_count": 24,
   "metadata": {},
   "outputs": [
    {
     "ename": "TypeError",
     "evalue": "unsupported operand type(s) for +: 'int' and 'str'",
     "output_type": "error",
     "traceback": [
      "\u001b[1;31m---------------------------------------------------------------------------\u001b[0m",
      "\u001b[1;31mTypeError\u001b[0m                                 Traceback (most recent call last)",
      "Cell \u001b[1;32mIn[24], line 2\u001b[0m\n\u001b[0;32m      1\u001b[0m name_list \u001b[38;5;241m=\u001b[39m [\u001b[38;5;124m\"\u001b[39m\u001b[38;5;124mSuraj\u001b[39m\u001b[38;5;124m\"\u001b[39m, \u001b[38;5;124m\"\u001b[39m\u001b[38;5;124mSujata\u001b[39m\u001b[38;5;124m\"\u001b[39m, \u001b[38;5;124m\"\u001b[39m\u001b[38;5;124mRita\u001b[39m\u001b[38;5;124m\"\u001b[39m]\n\u001b[1;32m----> 2\u001b[0m \u001b[38;5;28;43msum\u001b[39;49m\u001b[43m(\u001b[49m\u001b[43mname_list\u001b[49m\u001b[43m)\u001b[49m\n",
      "\u001b[1;31mTypeError\u001b[0m: unsupported operand type(s) for +: 'int' and 'str'"
     ]
    }
   ],
   "source": [
    "name_list = [\"Suraj\", \"Sujata\", \"Rita\"]\n",
    "sum(name_list)"
   ]
  },
  {
   "cell_type": "code",
   "execution_count": 25,
   "metadata": {},
   "outputs": [
    {
     "data": {
      "text/plain": [
       "dict_values"
      ]
     },
     "execution_count": 25,
     "metadata": {},
     "output_type": "execute_result"
    }
   ],
   "source": [
    "type(var_1)"
   ]
  },
  {
   "cell_type": "code",
   "execution_count": 26,
   "metadata": {},
   "outputs": [
    {
     "data": {
      "text/plain": [
       "dict_values([['Alina', 'Bob', 'Dominic'], ['Rita', 'Retu', 'Aman'], ['Kati', 'Sati', 'Chatty']])"
      ]
     },
     "execution_count": 26,
     "metadata": {},
     "output_type": "execute_result"
    }
   ],
   "source": [
    "var_1"
   ]
  },
  {
   "cell_type": "code",
   "execution_count": 27,
   "metadata": {},
   "outputs": [
    {
     "data": {
      "text/plain": [
       "['Alina', 'Bob', 'Dominic', 'Rita', 'Retu', 'Aman', 'Kati', 'Sati', 'Chatty']"
      ]
     },
     "execution_count": 27,
     "metadata": {},
     "output_type": "execute_result"
    }
   ],
   "source": [
    "sum(var_1, [])"
   ]
  },
  {
   "cell_type": "code",
   "execution_count": null,
   "metadata": {},
   "outputs": [],
   "source": []
  }
 ],
 "metadata": {
  "kernelspec": {
   "display_name": "base",
   "language": "python",
   "name": "python3"
  },
  "language_info": {
   "codemirror_mode": {
    "name": "ipython",
    "version": 3
   },
   "file_extension": ".py",
   "mimetype": "text/x-python",
   "name": "python",
   "nbconvert_exporter": "python",
   "pygments_lexer": "ipython3",
   "version": "3.12.7"
  }
 },
 "nbformat": 4,
 "nbformat_minor": 2
}
