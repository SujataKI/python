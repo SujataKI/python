{
 "cells": [
  {
   "cell_type": "code",
   "execution_count": null,
   "id": "0d4fa23e-cbf0-4c5b-9629-b73d0d99a92d",
   "metadata": {
    "editable": true,
    "slideshow": {
     "slide_type": ""
    },
    "tags": []
   },
   "outputs": [],
   "source": [
    "list_1 = [1,2,3,4,5]\n",
    "print(list_1)"
   ]
  },
  {
   "cell_type": "markdown",
   "id": "450f6022-513f-4ecf-91d1-7012fc195380",
   "metadata": {},
   "source": [
    "# Random Markdown File"
   ]
  },
  {
   "cell_type": "code",
   "execution_count": null,
   "id": "5ee0ed36-aee7-4959-aa6d-41d06acf4625",
   "metadata": {},
   "outputs": [],
   "source": []
  }
 ],
 "metadata": {
  "kernelspec": {
   "display_name": "Python 3 (ipykernel)",
   "language": "python",
   "name": "python3"
  },
  "language_info": {
   "codemirror_mode": {
    "name": "ipython",
    "version": 3
   },
   "file_extension": ".py",
   "mimetype": "text/x-python",
   "name": "python",
   "nbconvert_exporter": "python",
   "pygments_lexer": "ipython3",
   "version": "3.12.7"
  }
 },
 "nbformat": 4,
 "nbformat_minor": 5
}
