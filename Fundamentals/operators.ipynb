{
 "cells": [
  {
   "cell_type": "markdown",
   "metadata": {},
   "source": [
    "# Python Operators\n",
    "- Operators are used to perform operations on variables and values."
   ]
  },
  {
   "cell_type": "code",
   "execution_count": 1,
   "metadata": {},
   "outputs": [
    {
     "name": "stdout",
     "output_type": "stream",
     "text": [
      "20\n"
     ]
    }
   ],
   "source": [
    "print(10+10)"
   ]
  },
  {
   "cell_type": "code",
   "execution_count": 3,
   "metadata": {},
   "outputs": [
    {
     "name": "stdout",
     "output_type": "stream",
     "text": [
      "20\n",
      "5\n",
      "5.0\n",
      "0\n"
     ]
    }
   ],
   "source": [
    "print(10 * 2) # Multiplicative Operator\n",
    "print(10-5) # Substraction\n",
    "print(10/2) # Division\n",
    "print(10%2) # Modulo Operator"
   ]
  },
  {
   "cell_type": "markdown",
   "metadata": {},
   "source": [
    "# Python divides operators in the following groups:\n",
    "- Arithmetic Operators\n",
    "- Assignment Operators\n",
    "- Comparison Operators\n",
    "- Logical Operators\n",
    "- Identity operators\n",
    "- Membership Operators\n",
    "- Bitwise Operators"
   ]
  },
  {
   "cell_type": "markdown",
   "metadata": {},
   "source": [
    "# 1. Arithmetic Operators\n",
    "- Addition : +\n",
    "- Subtraction : -\n",
    "- Multiplication : *\n",
    "- Division : /\n",
    "- Modulus: % Remainder\n",
    "- Exponentiation: ** (10**2)= 100 ,  e^x\n",
    "- Floor division: //"
   ]
  },
  {
   "cell_type": "code",
   "execution_count": 4,
   "metadata": {},
   "outputs": [
    {
     "name": "stdout",
     "output_type": "stream",
     "text": [
      "Addition operation on variable x & y: 104\n",
      "Subtraction operation on variable x & y: 96\n",
      "Multiplication operation on variable x & y: 400\n",
      "Division operation on variable x & y: 25.0\n",
      "Remainder operation on variable x & y: 0\n",
      "Power or Exponentiation operation on variable x & y: 100000000\n",
      "Floor Division operation on variable x & y: 25\n"
     ]
    }
   ],
   "source": [
    "x = 100\n",
    "y = 4\n",
    "print(f\"Addition operation on variable x & y: {x+y}\")\n",
    "print(f\"Subtraction operation on variable x & y: {x-y}\")\n",
    "print(f\"Multiplication operation on variable x & y: {x*y}\")\n",
    "print(f\"Division operation on variable x & y: {x/y}\")\n",
    "print(f\"Remainder operation on variable x & y: {x%y}\")\n",
    "print(f\"Power or Exponentiation operation on variable x & y: {x**y}\")\n",
    "print(f\"Floor Division operation on variable x & y: {x//y}\")\n"
   ]
  },
  {
   "cell_type": "markdown",
   "metadata": {},
   "source": [
    "# Odd Number Example"
   ]
  },
  {
   "cell_type": "code",
   "execution_count": 5,
   "metadata": {},
   "outputs": [
    {
     "name": "stdout",
     "output_type": "stream",
     "text": [
      "Addition operation on variable x & y: 16\n",
      "Subtraction operation on variable x & y: 10\n",
      "Multiplication operation on variable x & y: 39\n",
      "Division operation on variable x & y: 4.333333333333333\n",
      "Remainder operation on variable x & y: 1\n",
      "Power or Exponentiation operation on variable x & y: 2197\n",
      "Floor Division operation on variable x & y: 4\n"
     ]
    }
   ],
   "source": [
    "x = 13\n",
    "y = 3\n",
    "print(f\"Addition operation on variable x & y: {x+y}\")\n",
    "print(f\"Subtraction operation on variable x & y: {x-y}\")\n",
    "print(f\"Multiplication operation on variable x & y: {x*y}\")\n",
    "print(f\"Division operation on variable x & y: {x/y}\")\n",
    "print(f\"Remainder operation on variable x & y: {x%y}\")\n",
    "print(f\"Power or Exponentiation operation on variable x & y: {x**y}\")\n",
    "print(f\"Floor Division operation on variable x & y: {x//y}\")\n"
   ]
  },
  {
   "cell_type": "markdown",
   "metadata": {},
   "source": [
    "# Assignment Operators\n",
    "- = : Assign a value ( x = 3)\n",
    "- += : Add a value to a variable ( x += 3, x = x + 3, If x = 0, x += 3 means x = 0 + 3 = 3)\n",
    "- -= : Subtract a value from a variable and assign the new value to the same variable.\n",
    "- *=\n",
    "- /=\n",
    "- %=\n",
    "- //=\n",
    "- **=\n",
    "- &=\n",
    "- |=\n",
    "- ^=\n",
    "- ``>>=``\n",
    "- <<=\n",
    "- :="
   ]
  },
  {
   "cell_type": "code",
   "execution_count": 15,
   "metadata": {},
   "outputs": [
    {
     "data": {
      "text/plain": [
       "8"
      ]
     },
     "execution_count": 15,
     "metadata": {},
     "output_type": "execute_result"
    }
   ],
   "source": [
    "x = 5\n",
    "x += 3\n",
    "x"
   ]
  },
  {
   "cell_type": "code",
   "execution_count": 16,
   "metadata": {},
   "outputs": [
    {
     "data": {
      "text/plain": [
       "5"
      ]
     },
     "execution_count": 16,
     "metadata": {},
     "output_type": "execute_result"
    }
   ],
   "source": [
    "x -= 3\n",
    "x"
   ]
  },
  {
   "cell_type": "code",
   "execution_count": 17,
   "metadata": {},
   "outputs": [
    {
     "data": {
      "text/plain": [
       "15"
      ]
     },
     "execution_count": 17,
     "metadata": {},
     "output_type": "execute_result"
    }
   ],
   "source": [
    "x *= 3 # x = x * 3\n",
    "x"
   ]
  },
  {
   "cell_type": "code",
   "execution_count": 18,
   "metadata": {},
   "outputs": [
    {
     "data": {
      "text/plain": [
       "5.0"
      ]
     },
     "execution_count": 18,
     "metadata": {},
     "output_type": "execute_result"
    }
   ],
   "source": [
    "x /= 3\n",
    "x"
   ]
  },
  {
   "cell_type": "code",
   "execution_count": 19,
   "metadata": {},
   "outputs": [
    {
     "data": {
      "text/plain": [
       "1.0"
      ]
     },
     "execution_count": 19,
     "metadata": {},
     "output_type": "execute_result"
    }
   ],
   "source": [
    "x //= 3\n",
    "x"
   ]
  },
  {
   "cell_type": "code",
   "execution_count": 20,
   "metadata": {},
   "outputs": [
    {
     "name": "stdout",
     "output_type": "stream",
     "text": [
      "5\n",
      "5\n"
     ]
    }
   ],
   "source": [
    "# 15= 1 x 15, 1x 3 x 5 => 15/3: (0+3+3+3+3+3=15, assumption = 0), 16//3 : 1- Remainder, 5: Multiplicative Factor : 5x3+1 = 16\n",
    "x = 16\n",
    "print(x//3)\n",
    "x //= 3\n",
    "# x = x // 3, \n",
    "print(x)"
   ]
  },
  {
   "cell_type": "code",
   "execution_count": null,
   "metadata": {},
   "outputs": [
    {
     "data": {
      "text/plain": [
       "3125"
      ]
     },
     "execution_count": 21,
     "metadata": {},
     "output_type": "execute_result"
    }
   ],
   "source": [
    "x **= 5\n",
    "x # 5^5 = 5x5x5x5x5"
   ]
  },
  {
   "cell_type": "markdown",
   "metadata": {},
   "source": [
    "# &= : Bitwise AND assignment operator\n",
    "- It performs a bitwise AND operation between the variable and the given value, then assigns the result back to the variable."
   ]
  },
  {
   "cell_type": "code",
   "execution_count": null,
   "metadata": {},
   "outputs": [
    {
     "data": {
      "text/plain": [
       "1"
      ]
     },
     "execution_count": 24,
     "metadata": {},
     "output_type": "execute_result"
    }
   ],
   "source": [
    "# Binary value for 5 : 0101 : 5/2 = 2 reaminder 1=> 2x 2+ 1, 2/2 : 1 reaminder 0 ,  1/2=> 0x2+1= 1:   101\n",
    "# Binary value for 3 : 0011\n",
    "# Result :0001 ( Binary value for 1)\n",
    "x = 3 # 3/ 2, 1: Remainder, 1/2 =0.5 reaminder 1 :   0011\n",
    "x &= 5 #AND, OR , NOR - GATE , AND Gate, Or Gate, NOR Gate, XOR Gate \n",
    "x\n",
    "############\n",
    "# Bits of 3   # Bits of 5 ### Result of &\n",
    "# 0                0              0\n",
    "# 0                1              0\n",
    "# 1                0              0\n",
    "# 1                1              1\n",
    "\n",
    "# Result : 0001"
   ]
  },
  {
   "cell_type": "markdown",
   "metadata": {},
   "source": [
    "# Bitwise Or Assignment Operator\n",
    "- |="
   ]
  },
  {
   "cell_type": "code",
   "execution_count": null,
   "metadata": {},
   "outputs": [
    {
     "data": {
      "text/plain": [
       "7"
      ]
     },
     "execution_count": 25,
     "metadata": {},
     "output_type": "execute_result"
    }
   ],
   "source": [
    "# Binary value for 5 : 0101 : 5/2 = 2 reaminder 1=> 2x 2+ 1, 2/2 : 1 reaminder 0 ,  1/2=> 0x2+1= 1:   101\n",
    "# Binary value for 3 : 0011\n",
    "# Result :0001 ( Binary value for 1)\n",
    "x = 3 # 3/ 2, 1: Remainder, 1/2 =0.5 reaminder 1 :   0011\n",
    "x |= 5 #AND, OR , NOR - GATE , AND Gate, Or Gate, NOR Gate, XOR Gate \n",
    "x\n",
    "############\n",
    "# Bits of 3   # Bits of 5 ### Result of &\n",
    "# 0                0              0\n",
    "# 0                1              1\n",
    "# 1                0              1\n",
    "# 1                1              1\n",
    "\n",
    "# Result : 0111 = 0 x 2^3 + 1 x  2^2 + 1 x 2^1 + 1 x 2^0 = 0+4+2+1= 7"
   ]
  },
  {
   "cell_type": "markdown",
   "metadata": {},
   "source": [
    "# Bitwise XOR assignment Operator ^="
   ]
  },
  {
   "cell_type": "code",
   "execution_count": null,
   "metadata": {},
   "outputs": [
    {
     "data": {
      "text/plain": [
       "6"
      ]
     },
     "execution_count": 26,
     "metadata": {},
     "output_type": "execute_result"
    }
   ],
   "source": [
    "# Binary value for 5 : 0101 : 5/2 = 2 reaminder 1=> 2x 2+ 1, 2/2 : 1 reaminder 0 ,  1/2=> 0x2+1= 1:   101\n",
    "# Binary value for 3 : 0011\n",
    "# Result :0001 ( Binary value for 1)\n",
    "x = 3 # 3/ 2, 1: Remainder, 1/2 =0.5 reaminder 1 :   0011\n",
    "x ^= 5 #AND, OR , NOR - GATE , AND Gate, Or Gate, NOR Gate, XOR Gate \n",
    "x\n",
    "############\n",
    "# Bits of 3   # Bits of 5 ### Result of &\n",
    "# 0                0              0\n",
    "# 0                1              1\n",
    "# 1                0              1\n",
    "# 1                1              0\n",
    "\n",
    "# Result : 0110 = 0 x 2^3 + 1 x  2^2 + 1 x 2^1 + 0 x 2^0 = 0+4+2+0= 6"
   ]
  },
  {
   "cell_type": "markdown",
   "metadata": {},
   "source": [
    "# Bitwise Right Shift Assignment Operator >>="
   ]
  },
  {
   "cell_type": "code",
   "execution_count": 28,
   "metadata": {},
   "outputs": [
    {
     "name": "stdout",
     "output_type": "stream",
     "text": [
      "2\n"
     ]
    }
   ],
   "source": [
    "binary = \"00010\"\n",
    "decimal = int(binary, 2)\n",
    "print(decimal)"
   ]
  },
  {
   "cell_type": "code",
   "execution_count": null,
   "metadata": {},
   "outputs": [
    {
     "name": "stdout",
     "output_type": "stream",
     "text": [
      "2\n"
     ]
    }
   ],
   "source": [
    "x = 16 # 10000\n",
    "x >>=3 # >> Perform the right shift: Right shifting by 3 means shifting the bits of x to the right by 3 positions: 10000 >> 3 = 00010: 2\n",
    "print(x)"
   ]
  },
  {
   "cell_type": "markdown",
   "metadata": {},
   "source": [
    "# # Bitwise Left Shift Assignment Operator <<="
   ]
  },
  {
   "cell_type": "code",
   "execution_count": null,
   "metadata": {},
   "outputs": [
    {
     "data": {
      "text/plain": [
       "128"
      ]
     },
     "execution_count": 29,
     "metadata": {},
     "output_type": "execute_result"
    }
   ],
   "source": [
    "x = 16 # 10000\n",
    "x <<=3 # 10000000 :> 128\n",
    "x"
   ]
  },
  {
   "cell_type": "markdown",
   "metadata": {},
   "source": [
    "# Walrus Operator\n",
    "- x = 3  is a simple assignment\n",
    "- x := 3 assigns and uses x as part of the expression"
   ]
  },
  {
   "cell_type": "code",
   "execution_count": null,
   "metadata": {},
   "outputs": [
    {
     "name": "stdout",
     "output_type": "stream",
     "text": [
      "21\n"
     ]
    }
   ],
   "source": [
    "nums = [1,2,3,4,5,6]\n",
    "print(total := sum(nums)) # "
   ]
  },
  {
   "cell_type": "code",
   "execution_count": 34,
   "metadata": {},
   "outputs": [
    {
     "name": "stdout",
     "output_type": "stream",
     "text": [
      "3\n"
     ]
    }
   ],
   "source": [
    "x = 1\n",
    "print(x := 3)"
   ]
  },
  {
   "cell_type": "code",
   "execution_count": 33,
   "metadata": {},
   "outputs": [
    {
     "ename": "TypeError",
     "evalue": "'x' is an invalid keyword argument for print()",
     "output_type": "error",
     "traceback": [
      "\u001b[1;31m---------------------------------------------------------------------------\u001b[0m",
      "\u001b[1;31mTypeError\u001b[0m                                 Traceback (most recent call last)",
      "Cell \u001b[1;32mIn[33], line 2\u001b[0m\n\u001b[0;32m      1\u001b[0m x \u001b[38;5;241m=\u001b[39m \u001b[38;5;241m0\u001b[39m\n\u001b[1;32m----> 2\u001b[0m \u001b[38;5;28mprint\u001b[39m(x \u001b[38;5;241m=\u001b[39m \u001b[38;5;241m3\u001b[39m)\n",
      "\u001b[1;31mTypeError\u001b[0m: 'x' is an invalid keyword argument for print()"
     ]
    }
   ],
   "source": [
    "x = 0\n",
    "print(x = 3)"
   ]
  },
  {
   "cell_type": "code",
   "execution_count": null,
   "metadata": {},
   "outputs": [],
   "source": []
  }
 ],
 "metadata": {
  "kernelspec": {
   "display_name": "base",
   "language": "python",
   "name": "python3"
  },
  "language_info": {
   "codemirror_mode": {
    "name": "ipython",
    "version": 3
   },
   "file_extension": ".py",
   "mimetype": "text/x-python",
   "name": "python",
   "nbconvert_exporter": "python",
   "pygments_lexer": "ipython3",
   "version": "3.12.7"
  }
 },
 "nbformat": 4,
 "nbformat_minor": 2
}
