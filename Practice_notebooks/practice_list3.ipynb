{
 "cells": [
  {
   "cell_type": "markdown",
   "metadata": {},
   "source": [
    "# Python-Add item List"
   ]
  },
  {
   "cell_type": "code",
   "execution_count": 1,
   "metadata": {},
   "outputs": [
    {
     "data": {
      "text/plain": [
       "['java', 'english', 'operating']"
      ]
     },
     "execution_count": 1,
     "metadata": {},
     "output_type": "execute_result"
    }
   ],
   "source": [
    "books_name = [\"java\", \"english\", \"operating\"]\n",
    "books_name"
   ]
  },
  {
   "cell_type": "markdown",
   "metadata": {},
   "source": [
    "# Append item"
   ]
  },
  {
   "cell_type": "code",
   "execution_count": 2,
   "metadata": {},
   "outputs": [
    {
     "data": {
      "text/plain": [
       "['java', 'english', 'operating', 'science']"
      ]
     },
     "execution_count": 2,
     "metadata": {},
     "output_type": "execute_result"
    }
   ],
   "source": [
    "books_name.append(\"science\")\n",
    "books_name"
   ]
  },
  {
   "cell_type": "markdown",
   "metadata": {},
   "source": [
    "# But, what if we need to add \"math\" after english"
   ]
  },
  {
   "cell_type": "code",
   "execution_count": 3,
   "metadata": {},
   "outputs": [
    {
     "data": {
      "text/plain": [
       "['java', 'english', 'math', 'operating', 'science']"
      ]
     },
     "execution_count": 3,
     "metadata": {},
     "output_type": "execute_result"
    }
   ],
   "source": [
    "books_name.insert(2, \"math\")\n",
    "books_name"
   ]
  },
  {
   "cell_type": "markdown",
   "metadata": {},
   "source": [
    "# Lets assume we have another book list for arts students"
   ]
  },
  {
   "cell_type": "code",
   "execution_count": 4,
   "metadata": {},
   "outputs": [
    {
     "data": {
      "text/plain": [
       "['java',\n",
       " 'english',\n",
       " 'math',\n",
       " 'operating',\n",
       " 'science',\n",
       " 'hindi',\n",
       " 'sanskrit',\n",
       " 'account']"
      ]
     },
     "execution_count": 4,
     "metadata": {},
     "output_type": "execute_result"
    }
   ],
   "source": [
    "arts_books = [\"hindi\", \"sanskrit\", \"account\"]\n",
    "books_name.extend(arts_books)\n",
    "books_name"
   ]
  },
  {
   "cell_type": "markdown",
   "metadata": {},
   "source": [
    "# Add Any Iterable"
   ]
  },
  {
   "cell_type": "code",
   "execution_count": 5,
   "metadata": {},
   "outputs": [
    {
     "data": {
      "text/plain": [
       "['java',\n",
       " 'english',\n",
       " 'math',\n",
       " 'operating',\n",
       " 'science',\n",
       " 'hindi',\n",
       " 'sanskrit',\n",
       " 'account',\n",
       " 'hindi2',\n",
       " 'sanskrit2',\n",
       " 'account2']"
      ]
     },
     "execution_count": 5,
     "metadata": {},
     "output_type": "execute_result"
    }
   ],
   "source": [
    "arts_books_tuple = (\"hindi2\", \"sanskrit2\", \"account2\")\n",
    "books_name.extend(arts_books_tuple)\n",
    "books_name"
   ]
  },
  {
   "cell_type": "code",
   "execution_count": 10,
   "metadata": {},
   "outputs": [
    {
     "data": {
      "text/plain": [
       "{'computer_books': ['computerfundamental', 'opssystem'],\n",
       " 'science_books': ['bio', 'physics']}"
      ]
     },
     "execution_count": 10,
     "metadata": {},
     "output_type": "execute_result"
    }
   ],
   "source": [
    "other_books_name = {\n",
    "    \"computer_books\":[\"computerfundamental\", \"opssystem\"],\n",
    "    \"science_books\" : [\"bio\", \"physics\"]  #keys\n",
    "}\n",
    "\n",
    "other_books_name"
   ]
  },
  {
   "cell_type": "code",
   "execution_count": 11,
   "metadata": {},
   "outputs": [
    {
     "data": {
      "text/plain": [
       "['java',\n",
       " 'english',\n",
       " 'math',\n",
       " 'operating',\n",
       " 'science',\n",
       " 'hindi',\n",
       " 'sanskrit',\n",
       " 'account',\n",
       " 'hindi2',\n",
       " 'sanskrit2',\n",
       " 'account2']"
      ]
     },
     "execution_count": 11,
     "metadata": {},
     "output_type": "execute_result"
    }
   ],
   "source": [
    "books_name"
   ]
  },
  {
   "cell_type": "code",
   "execution_count": 12,
   "metadata": {},
   "outputs": [
    {
     "data": {
      "text/plain": [
       "['java',\n",
       " 'english',\n",
       " 'math',\n",
       " 'operating',\n",
       " 'science',\n",
       " 'hindi',\n",
       " 'sanskrit',\n",
       " 'account',\n",
       " 'hindi2',\n",
       " 'sanskrit2',\n",
       " 'account2',\n",
       " 'computer_books',\n",
       " 'science_books']"
      ]
     },
     "execution_count": 12,
     "metadata": {},
     "output_type": "execute_result"
    }
   ],
   "source": [
    "books_name.extend(other_books_name)\n",
    "books_name"
   ]
  },
  {
   "cell_type": "code",
   "execution_count": 13,
   "metadata": {},
   "outputs": [
    {
     "data": {
      "text/plain": [
       "dict_items([('computer_books', ['computerfundamental', 'opssystem']), ('science_books', ['bio', 'physics'])])"
      ]
     },
     "execution_count": 13,
     "metadata": {},
     "output_type": "execute_result"
    }
   ],
   "source": [
    "other_books_name.items()"
   ]
  },
  {
   "cell_type": "code",
   "execution_count": 14,
   "metadata": {},
   "outputs": [
    {
     "data": {
      "text/plain": [
       "dict_keys(['computer_books', 'science_books'])"
      ]
     },
     "execution_count": 14,
     "metadata": {},
     "output_type": "execute_result"
    }
   ],
   "source": [
    "other_books_name.keys()"
   ]
  },
  {
   "cell_type": "code",
   "execution_count": 15,
   "metadata": {},
   "outputs": [
    {
     "data": {
      "text/plain": [
       "dict_values([['computerfundamental', 'opssystem'], ['bio', 'physics']])"
      ]
     },
     "execution_count": 15,
     "metadata": {},
     "output_type": "execute_result"
    }
   ],
   "source": [
    "other_books_name.values()"
   ]
  },
  {
   "cell_type": "code",
   "execution_count": 16,
   "metadata": {},
   "outputs": [
    {
     "data": {
      "text/plain": [
       "['java',\n",
       " 'english',\n",
       " 'math',\n",
       " 'operating',\n",
       " 'science',\n",
       " 'hindi',\n",
       " 'sanskrit',\n",
       " 'account',\n",
       " 'hindi2',\n",
       " 'sanskrit2',\n",
       " 'account2',\n",
       " 'computer_books',\n",
       " 'science_books',\n",
       " ['computerfundamental', 'opssystem'],\n",
       " ['bio', 'physics']]"
      ]
     },
     "execution_count": 16,
     "metadata": {},
     "output_type": "execute_result"
    }
   ],
   "source": [
    "books_name.extend(other_books_name.values())\n",
    "books_name"
   ]
  },
  {
   "cell_type": "code",
   "execution_count": 17,
   "metadata": {},
   "outputs": [
    {
     "data": {
      "text/plain": [
       "dict_values"
      ]
     },
     "execution_count": 17,
     "metadata": {},
     "output_type": "execute_result"
    }
   ],
   "source": [
    "var_1 = other_books_name.values()\n",
    "type(var_1)"
   ]
  },
  {
   "cell_type": "code",
   "execution_count": 18,
   "metadata": {},
   "outputs": [
    {
     "data": {
      "text/plain": [
       "dict_values([['computerfundamental', 'opssystem'], ['bio', 'physics']])"
      ]
     },
     "execution_count": 18,
     "metadata": {},
     "output_type": "execute_result"
    }
   ],
   "source": [
    "var_1"
   ]
  },
  {
   "cell_type": "code",
   "execution_count": 19,
   "metadata": {},
   "outputs": [
    {
     "ename": "TypeError",
     "evalue": "'dict_values' object is not subscriptable",
     "output_type": "error",
     "traceback": [
      "\u001b[1;31m---------------------------------------------------------------------------\u001b[0m",
      "\u001b[1;31mTypeError\u001b[0m                                 Traceback (most recent call last)",
      "Cell \u001b[1;32mIn[19], line 1\u001b[0m\n\u001b[1;32m----> 1\u001b[0m var_1[\u001b[38;5;241m0\u001b[39m]\n",
      "\u001b[1;31mTypeError\u001b[0m: 'dict_values' object is not subscriptable"
     ]
    }
   ],
   "source": [
    "var_1[0]    #indexing is not possible here"
   ]
  },
  {
   "cell_type": "markdown",
   "metadata": {},
   "source": [
    "# for loop on names inside the list"
   ]
  },
  {
   "cell_type": "code",
   "execution_count": 20,
   "metadata": {},
   "outputs": [
    {
     "data": {
      "text/plain": [
       "['chemistry', 'math', 'computerfundamental', 'opssystem', 'bio', 'physics']"
      ]
     },
     "execution_count": 20,
     "metadata": {},
     "output_type": "execute_result"
    }
   ],
   "source": [
    "books_name2 = [\"chemistry\", \"math\"]\n",
    "for name in var_1:\n",
    "    books_name2.extend(name)\n",
    "books_name2"
   ]
  },
  {
   "cell_type": "code",
   "execution_count": 21,
   "metadata": {},
   "outputs": [
    {
     "data": {
      "text/plain": [
       "['Ip', 'drawing', 'computerfundamental', 'opssystem', 'bio', 'physics']"
      ]
     },
     "execution_count": 21,
     "metadata": {},
     "output_type": "execute_result"
    }
   ],
   "source": [
    "from itertools import chain\n",
    "books_name3 = [\"Ip\", \"drawing\"]\n",
    "books_name3.extend(chain(*var_1))\n",
    "books_name3"
   ]
  },
  {
   "cell_type": "code",
   "execution_count": 22,
   "metadata": {},
   "outputs": [
    {
     "data": {
      "text/plain": [
       "['socialscience', 'c++', 'computerfundamental', 'opssystem', 'bio', 'physics']"
      ]
     },
     "execution_count": 22,
     "metadata": {},
     "output_type": "execute_result"
    }
   ],
   "source": [
    "#Sum()\n",
    "books_name4 = [\"socialscience\", \"c++\"]\n",
    "books_name4.extend(sum(var_1, []))\n",
    "books_name4"
   ]
  },
  {
   "cell_type": "code",
   "execution_count": 23,
   "metadata": {},
   "outputs": [
    {
     "data": {
      "text/plain": [
       "dict_values([['computerfundamental', 'opssystem'], ['bio', 'physics']])"
      ]
     },
     "execution_count": 23,
     "metadata": {},
     "output_type": "execute_result"
    }
   ],
   "source": [
    "var_1"
   ]
  },
  {
   "cell_type": "code",
   "execution_count": 24,
   "metadata": {},
   "outputs": [
    {
     "data": {
      "text/plain": [
       "309"
      ]
     },
     "execution_count": 24,
     "metadata": {},
     "output_type": "execute_result"
    }
   ],
   "source": [
    "list1 = [45,67,49,78,70]\n",
    "sum(list1)"
   ]
  },
  {
   "cell_type": "code",
   "execution_count": 25,
   "metadata": {},
   "outputs": [
    {
     "ename": "TypeError",
     "evalue": "unsupported operand type(s) for +: 'int' and 'str'",
     "output_type": "error",
     "traceback": [
      "\u001b[1;31m---------------------------------------------------------------------------\u001b[0m",
      "\u001b[1;31mTypeError\u001b[0m                                 Traceback (most recent call last)",
      "Cell \u001b[1;32mIn[25], line 2\u001b[0m\n\u001b[0;32m      1\u001b[0m name_list \u001b[38;5;241m=\u001b[39m [\u001b[38;5;124m\"\u001b[39m\u001b[38;5;124mriya\u001b[39m\u001b[38;5;124m\"\u001b[39m, \u001b[38;5;124m\"\u001b[39m\u001b[38;5;124mrohan\u001b[39m\u001b[38;5;124m\"\u001b[39m]\n\u001b[1;32m----> 2\u001b[0m \u001b[38;5;28msum\u001b[39m(name_list)\n",
      "\u001b[1;31mTypeError\u001b[0m: unsupported operand type(s) for +: 'int' and 'str'"
     ]
    }
   ],
   "source": [
    "name_list = [\"riya\", \"rohan\"]\n",
    "sum(name_list)"
   ]
  },
  {
   "cell_type": "code",
   "execution_count": 26,
   "metadata": {},
   "outputs": [
    {
     "data": {
      "text/plain": [
       "dict_values"
      ]
     },
     "execution_count": 26,
     "metadata": {},
     "output_type": "execute_result"
    }
   ],
   "source": [
    "type(var_1)"
   ]
  },
  {
   "cell_type": "code",
   "execution_count": 27,
   "metadata": {},
   "outputs": [
    {
     "data": {
      "text/plain": [
       "dict_values([['computerfundamental', 'opssystem'], ['bio', 'physics']])"
      ]
     },
     "execution_count": 27,
     "metadata": {},
     "output_type": "execute_result"
    }
   ],
   "source": [
    "var_1"
   ]
  },
  {
   "cell_type": "code",
   "execution_count": 28,
   "metadata": {},
   "outputs": [
    {
     "data": {
      "text/plain": [
       "['computerfundamental', 'opssystem', 'bio', 'physics']"
      ]
     },
     "execution_count": 28,
     "metadata": {},
     "output_type": "execute_result"
    }
   ],
   "source": [
    "sum(var_1, [])"
   ]
  },
  {
   "cell_type": "code",
   "execution_count": 29,
   "metadata": {},
   "outputs": [
    {
     "data": {
      "text/plain": [
       "['computerfundamental', 'opssystem']"
      ]
     },
     "execution_count": 29,
     "metadata": {},
     "output_type": "execute_result"
    }
   ],
   "source": [
    "other_books_name[\"computer_books\"]"
   ]
  },
  {
   "cell_type": "code",
   "execution_count": 30,
   "metadata": {},
   "outputs": [
    {
     "data": {
      "text/plain": [
       "'computerfundamental'"
      ]
     },
     "execution_count": 30,
     "metadata": {},
     "output_type": "execute_result"
    }
   ],
   "source": [
    "other_books_name[\"computer_books\"][0]"
   ]
  },
  {
   "cell_type": "code",
   "execution_count": 31,
   "metadata": {},
   "outputs": [
    {
     "data": {
      "text/plain": [
       "'opssystem'"
      ]
     },
     "execution_count": 31,
     "metadata": {},
     "output_type": "execute_result"
    }
   ],
   "source": [
    "other_books_name[\"computer_books\"][1]"
   ]
  },
  {
   "cell_type": "code",
   "execution_count": 32,
   "metadata": {},
   "outputs": [
    {
     "data": {
      "text/plain": [
       "['management', 'business', 'computerfundamental', 'bio']"
      ]
     },
     "execution_count": 32,
     "metadata": {},
     "output_type": "execute_result"
    }
   ],
   "source": [
    "other_books_name = {\n",
    "    \"computer_books\":\"computerfundamental\",\n",
    "    \"science_books\" : \"bio\",  #keys\n",
    "}\n",
    "new_booklist = [\"management\", \"business\"]\n",
    "new_booklist.extend(other_books_name.values())\n",
    "new_booklist"
   ]
  },
  {
   "cell_type": "code",
   "execution_count": 33,
   "metadata": {},
   "outputs": [
    {
     "name": "stdout",
     "output_type": "stream",
     "text": [
      "computer_books\n",
      "science_books\n"
     ]
    }
   ],
   "source": [
    "other_books_name = {\n",
    "    \"computer_books\":[\"computerfundamental\", \"opssystem\"],\n",
    "    \"science_books\" : [\"bio\", \"physics\"]  #keys\n",
    "}\n",
    "\n",
    "for item in other_books_name:\n",
    "    print(item)"
   ]
  },
  {
   "cell_type": "code",
   "execution_count": 34,
   "metadata": {},
   "outputs": [
    {
     "name": "stdout",
     "output_type": "stream",
     "text": [
      "['computerfundamental', 'opssystem']\n",
      "['bio', 'physics']\n"
     ]
    }
   ],
   "source": [
    "other_books_name = {\n",
    "    \"computer_books\":[\"computerfundamental\", \"opssystem\"],\n",
    "    \"science_books\" : [\"bio\", \"physics\"]  #keys\n",
    "}\n",
    "\n",
    "for item in other_books_name.values():\n",
    "    print(item)"
   ]
  },
  {
   "cell_type": "code",
   "execution_count": 35,
   "metadata": {},
   "outputs": [
    {
     "name": "stdout",
     "output_type": "stream",
     "text": [
      "computerfundamental\n",
      "opssystem\n",
      "bio\n",
      "physics\n"
     ]
    }
   ],
   "source": [
    "other_books_name = {\n",
    "    \"computer_books\":[\"computerfundamental\", \"opssystem\"],\n",
    "    \"science_books\" : [\"bio\", \"physics\"]  #keys\n",
    "}\n",
    "\n",
    "for item in other_books_name.values():\n",
    "    for sub_item in item:\n",
    "      print(sub_item)"
   ]
  },
  {
   "cell_type": "code",
   "execution_count": 36,
   "metadata": {},
   "outputs": [
    {
     "name": "stdout",
     "output_type": "stream",
     "text": [
      "['computerfundamental']\n",
      "['computerfundamental', 'opssystem']\n",
      "['computerfundamental', 'opssystem', 'bio']\n",
      "['computerfundamental', 'opssystem', 'bio', 'physics']\n"
     ]
    }
   ],
   "source": [
    "other_books_name = {\n",
    "    \"computer_books\":[\"computerfundamental\", \"opssystem\"],\n",
    "    \"science_books\" : [\"bio\", \"physics\"]  #keys\n",
    "}\n",
    "empty_list = []\n",
    "for item in other_books_name.values():\n",
    "    for sub_item in item:\n",
    "      empty_list.append(sub_item)\n",
    "      print(empty_list)"
   ]
  },
  {
   "cell_type": "code",
   "execution_count": 37,
   "metadata": {},
   "outputs": [
    {
     "name": "stdout",
     "output_type": "stream",
     "text": [
      "['sst', 'visulbasic', 'computerfundamental']\n",
      "['sst', 'visulbasic', 'computerfundamental', 'opssystem']\n",
      "['sst', 'visulbasic', 'computerfundamental', 'opssystem', 'bio']\n",
      "['sst', 'visulbasic', 'computerfundamental', 'opssystem', 'bio', 'physics']\n"
     ]
    }
   ],
   "source": [
    "other_books_name = {\n",
    "    \"computer_books\":[\"computerfundamental\", \"opssystem\"],\n",
    "    \"science_books\" : [\"bio\", \"physics\"]  #keys\n",
    "}\n",
    "non_empty_list = [\"sst\", \"visulbasic\"]\n",
    "for item in other_books_name.values():\n",
    "    for sub_item in item:\n",
    "      non_empty_list.append(sub_item)\n",
    "      print(non_empty_list)"
   ]
  },
  {
   "cell_type": "code",
   "execution_count": 39,
   "metadata": {},
   "outputs": [
    {
     "name": "stdout",
     "output_type": "stream",
     "text": [
      "['computerfundamental', 'opssystem']\n",
      "['accountmath', 'clanguage', 'c', 'o', 'm', 'p', 'u', 't', 'e', 'r', 'f', 'u', 'n', 'd', 'a', 'm', 'e', 'n', 't', 'a', 'l']\n",
      "['accountmath', 'clanguage', 'c', 'o', 'm', 'p', 'u', 't', 'e', 'r', 'f', 'u', 'n', 'd', 'a', 'm', 'e', 'n', 't', 'a', 'l', 'o', 'p', 's', 's', 'y', 's', 't', 'e', 'm']\n",
      "['bio', 'physics']\n",
      "['accountmath', 'clanguage', 'c', 'o', 'm', 'p', 'u', 't', 'e', 'r', 'f', 'u', 'n', 'd', 'a', 'm', 'e', 'n', 't', 'a', 'l', 'o', 'p', 's', 's', 'y', 's', 't', 'e', 'm', 'b', 'i', 'o']\n",
      "['accountmath', 'clanguage', 'c', 'o', 'm', 'p', 'u', 't', 'e', 'r', 'f', 'u', 'n', 'd', 'a', 'm', 'e', 'n', 't', 'a', 'l', 'o', 'p', 's', 's', 'y', 's', 't', 'e', 'm', 'b', 'i', 'o', 'p', 'h', 'y', 's', 'i', 'c', 's']\n"
     ]
    }
   ],
   "source": [
    "other_books_name = {\n",
    "    \"computer_books\":[\"computerfundamental\", \"opssystem\"],\n",
    "    \"science_books\" : [\"bio\", \"physics\"]  #keys\n",
    "}\n",
    "non_empty_list_2 = [\"accountmath\", \"clanguage\"]\n",
    "for item in other_books_name.values():\n",
    "    print(item)\n",
    "    for sub_item in item:\n",
    "      non_empty_list_2.extend(sub_item)\n",
    "      print(non_empty_list_2)"
   ]
  },
  {
   "cell_type": "code",
   "execution_count": 40,
   "metadata": {},
   "outputs": [
    {
     "name": "stdout",
     "output_type": "stream",
     "text": [
      "['computerfundamental', 'opssystem']\n",
      "['basicchemistry', 'numerical', 'computerfundamental', 'opssystem']\n",
      "['bio', 'physics']\n",
      "['basicchemistry', 'numerical', 'computerfundamental', 'opssystem', 'bio', 'physics']\n"
     ]
    }
   ],
   "source": [
    "other_books_name = {\n",
    "    \"computer_books\":[\"computerfundamental\", \"opssystem\"],\n",
    "    \"science_books\" : [\"bio\", \"physics\"]  #keys\n",
    "}\n",
    "non_empty_list_3 = [\"basicchemistry\", \"numerical\"]\n",
    "for item in other_books_name.values():\n",
    "    print(item)\n",
    "    non_empty_list_3.extend(item)\n",
    "    print(non_empty_list_3)"
   ]
  }
 ],
 "metadata": {
  "kernelspec": {
   "display_name": "base",
   "language": "python",
   "name": "python3"
  },
  "language_info": {
   "codemirror_mode": {
    "name": "ipython",
    "version": 3
   },
   "file_extension": ".py",
   "mimetype": "text/x-python",
   "name": "python",
   "nbconvert_exporter": "python",
   "pygments_lexer": "ipython3",
   "version": "3.12.7"
  }
 },
 "nbformat": 4,
 "nbformat_minor": 2
}
