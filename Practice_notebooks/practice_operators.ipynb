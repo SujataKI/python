{
 "cells": [
  {
   "cell_type": "markdown",
   "metadata": {},
   "source": [
    "# operators"
   ]
  },
  {
   "cell_type": "code",
   "execution_count": 5,
   "metadata": {},
   "outputs": [
    {
     "name": "stdout",
     "output_type": "stream",
     "text": [
      "50\n",
      "-10\n",
      "600\n",
      "0.6666666666666666\n",
      "20\n"
     ]
    }
   ],
   "source": [
    "print(20 + 30)\n",
    "print(20 - 30)\n",
    "print(20*30)\n",
    "print(20 / 30)\n",
    "print(20%30)"
   ]
  },
  {
   "cell_type": "markdown",
   "metadata": {},
   "source": [
    "# Arithmetic operator"
   ]
  },
  {
   "cell_type": "code",
   "execution_count": 7,
   "metadata": {},
   "outputs": [
    {
     "name": "stdout",
     "output_type": "stream",
     "text": [
      "Addition operation on variable x & y: 100\n",
      "Subtraction operation on variable x & y: 20\n",
      "Multiplication operation on variable x & y: 2400\n",
      "Division operation on variable x & y: 1.5\n",
      "Remainder operation on variable x & y: 20\n",
      "Power or Exponentiation operation on variable x & y: 133674945388437340678388459765760000000000000000000000000000000000000000\n",
      "Floor Division operation on variable x & y: 1\n"
     ]
    }
   ],
   "source": [
    "A = 60\n",
    "B = 40\n",
    "print(f\"Addition operation on variable x & y: {A+B}\")\n",
    "print(f\"Subtraction operation on variable x & y: {A-B}\")\n",
    "print(f\"Multiplication operation on variable x & y: {A*B}\")\n",
    "print(f\"Division operation on variable x & y: {A/B}\")\n",
    "print(f\"Remainder operation on variable x & y: {A%B}\")\n",
    "print(f\"Power or Exponentiation operation on variable x & y: {A**B}\")\n",
    "print(f\"Floor Division operation on variable x & y: {A//B}\")\n"
   ]
  }
 ],
 "metadata": {
  "kernelspec": {
   "display_name": "base",
   "language": "python",
   "name": "python3"
  },
  "language_info": {
   "codemirror_mode": {
    "name": "ipython",
    "version": 3
   },
   "file_extension": ".py",
   "mimetype": "text/x-python",
   "name": "python",
   "nbconvert_exporter": "python",
   "pygments_lexer": "ipython3",
   "version": "3.12.7"
  }
 },
 "nbformat": 4,
 "nbformat_minor": 2
}
