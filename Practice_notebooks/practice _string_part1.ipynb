{
 "cells": [
  {
   "cell_type": "markdown",
   "metadata": {},
   "source": [
    "# String methods in Python"
   ]
  },
  {
   "cell_type": "markdown",
   "metadata": {},
   "source": [
    "join() method"
   ]
  },
  {
   "cell_type": "code",
   "execution_count": null,
   "metadata": {},
   "outputs": [
    {
     "name": "stdout",
     "output_type": "stream",
     "text": [
      "orange*banana*grapes\n"
     ]
    }
   ],
   "source": [
    "fruits = (\"orange\",\"banana\",\"grapes\")   #use tuple\n",
    "x = \"*\".join(fruits)\n",
    "print(x)"
   ]
  },
  {
   "cell_type": "code",
   "execution_count": 2,
   "metadata": {},
   "outputs": [
    {
     "name": "stdout",
     "output_type": "stream",
     "text": [
      "Nameiscountry\n"
     ]
    }
   ],
   "source": [
    "myDict = {\"Name\":\"jerry\",\"country\":\"india\"}\n",
    "mySeprator = \"is\"\n",
    "x = mySeprator.join(myDict)\n",
    "print(x)"
   ]
  },
  {
   "cell_type": "code",
   "execution_count": 3,
   "metadata": {},
   "outputs": [
    {
     "name": "stdout",
     "output_type": "stream",
     "text": [
      "C:\\Users\\ASUS\\Desktop\\python\\fundamentals\\data_types.ipynb\n"
     ]
    }
   ],
   "source": [
    "base_path = \"C:\\\\Users\"\n",
    "sub_folder = \"ASUS\\\\Desktop\"\n",
    "file_name = \"python\\\\fundamentals\\\\data_types.ipynb\"\n",
    "list_strings = [base_path,sub_folder,file_name]\n",
    "final_path = \"\\\\\".join(list_strings)\n",
    "print(final_path)"
   ]
  }
 ],
 "metadata": {
  "kernelspec": {
   "display_name": "base",
   "language": "python",
   "name": "python3"
  },
  "language_info": {
   "codemirror_mode": {
    "name": "ipython",
    "version": 3
   },
   "file_extension": ".py",
   "mimetype": "text/x-python",
   "name": "python",
   "nbconvert_exporter": "python",
   "pygments_lexer": "ipython3",
   "version": "3.12.7"
  }
 },
 "nbformat": 4,
 "nbformat_minor": 2
}
