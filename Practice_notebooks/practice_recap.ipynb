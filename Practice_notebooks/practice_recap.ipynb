{
 "cells": [
  {
   "cell_type": "markdown",
   "id": "63e9312d",
   "metadata": {},
   "source": [
    "# Practicing basic python fundamentals"
   ]
  },
  {
   "cell_type": "code",
   "execution_count": null,
   "id": "4fca36a1",
   "metadata": {},
   "outputs": [],
   "source": []
  }
 ],
 "metadata": {
  "kernelspec": {
   "display_name": "python_env_3_12_9",
   "language": "python",
   "name": "python3"
  },
  "language_info": {
   "codemirror_mode": {
    "name": "ipython",
    "version": 3
   },
   "file_extension": ".py",
   "mimetype": "text/x-python",
   "name": "python",
   "nbconvert_exporter": "python",
   "pygments_lexer": "ipython3",
   "version": "3.12.9"
  }
 },
 "nbformat": 4,
 "nbformat_minor": 5
}
