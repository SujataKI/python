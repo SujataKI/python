{
 "cells": [
  {
   "cell_type": "markdown",
   "metadata": {},
   "source": [
    "# Write a program to create a S latter pattern."
   ]
  },
  {
   "cell_type": "code",
   "execution_count": 22,
   "metadata": {},
   "outputs": [
    {
     "name": "stdout",
     "output_type": "stream",
     "text": [
      "*****\n",
      "*\n",
      "*****\n",
      "    *\n",
      "*****\n"
     ]
    }
   ],
   "source": [
    "def print_s_for_loop():\n",
    "    rows = 5  # Height of the \"S\" letter\n",
    "    #col = 5\n",
    "    for i in range(rows):\n",
    "     #for k in range(col):\n",
    "        if i == 0 or i == 2 or i == 4:  # Top, middle, and bottom rows\n",
    "            print(\"*****\")\n",
    "        elif i == 1:  # Upper slant part\n",
    "            print(\"*\")\n",
    "        elif i == 3:  # Lower slant part\n",
    "            print(\"    *\")\n",
    "\n",
    "# Call the function to print the S pattern using a for loop\n",
    "print_s_for_loop()"
   ]
  },
  {
   "cell_type": "code",
   "execution_count": 11,
   "metadata": {},
   "outputs": [
    {
     "name": "stdout",
     "output_type": "stream",
     "text": [
      "  **** \n",
      " *     \n",
      " *     \n",
      "  ***  \n",
      "     * \n",
      "     * \n",
      " ****  \n",
      "\n"
     ]
    }
   ],
   "source": [
    "str=\"\";    \n",
    "for Row in range(0,7):    \n",
    "    for Col in range(0,7):     \n",
    "        if (((Row == 0 or Row == 3 or Row == 6) and Col > 1 and Col < 5) or (Col == 1 and (Row == 1 or Row == 2 or Row == 6)) or (Col == 5 and (Row == 0 or Row == 4 or Row == 5))):  \n",
    "            str=str+\"*\"    \n",
    "        else:      \n",
    "            str=str+\" \"    \n",
    "    str=str+\"\\n\"    \n",
    "print(str);    "
   ]
  },
  {
   "cell_type": "code",
   "execution_count": 34,
   "metadata": {},
   "outputs": [
    {
     "name": "stdout",
     "output_type": "stream",
     "text": [
      "  * * *   \n",
      "*       * \n",
      "*         \n",
      "  * * *   \n",
      "        * \n",
      "*       * \n",
      "  * * *   \n"
     ]
    }
   ],
   "source": [
    "for r in range(7):\n",
    "    for c in range(5):\n",
    "        if r in {0, 6, 3} and c in {1, 2, 3}:\n",
    "            print(\"*\" , end=' ')\n",
    "        elif r == 1 and c == 4:\n",
    "            print(\"*\" , end=' ')\n",
    "        elif r in {1 , 2} and c == 0:\n",
    "            print(\"*\" , end=' ')\n",
    "        elif r in {4 , 5} and c == 4:\n",
    "            print(\"*\" , end=' ')\n",
    "        elif r == 5 and c == 0:\n",
    "            print(\"*\" , end=' ')\n",
    "        else:\n",
    "            print(\" \" , end=' ')\n",
    "    print()"
   ]
  },
  {
   "cell_type": "code",
   "execution_count": 12,
   "metadata": {},
   "outputs": [
    {
     "name": "stdout",
     "output_type": "stream",
     "text": [
      "*           *\n",
      "*           *\n",
      "*           *\n",
      "*           *\n",
      "*  *  *  *  *  \n"
     ]
    }
   ],
   "source": [
    "def print_u_pattern(height):\n",
    "    for i in range(height):\n",
    "        if i < height - 1:\n",
    "            print('*', end='  ')  \n",
    "            for j in range(height - 2):\n",
    "                print(' ', end='  ')  \n",
    "            print('*')  \n",
    "        else:\n",
    "            for j in range(height):\n",
    "                print('*', end='  ')\n",
    "            print()  \n",
    "height = 5\n",
    "print_u_pattern(height)"
   ]
  },
  {
   "cell_type": "code",
   "execution_count": null,
   "metadata": {},
   "outputs": [],
   "source": []
  }
 ],
 "metadata": {
  "kernelspec": {
   "display_name": "base",
   "language": "python",
   "name": "python3"
  },
  "language_info": {
   "codemirror_mode": {
    "name": "ipython",
    "version": 3
   },
   "file_extension": ".py",
   "mimetype": "text/x-python",
   "name": "python",
   "nbconvert_exporter": "python",
   "pygments_lexer": "ipython3",
   "version": "3.12.7"
  }
 },
 "nbformat": 4,
 "nbformat_minor": 2
}
