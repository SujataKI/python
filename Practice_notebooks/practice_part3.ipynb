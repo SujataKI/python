{
 "cells": [
  {
   "cell_type": "markdown",
   "metadata": {},
   "source": [
    "# join sets"
   ]
  },
  {
   "cell_type": "code",
   "execution_count": 1,
   "metadata": {},
   "outputs": [
    {
     "name": "stdout",
     "output_type": "stream",
     "text": [
      "{1, 2, 3, 4, 5, 6, 7, 8, 9}\n"
     ]
    }
   ],
   "source": [
    "set_1 = {2,3,4,5,8,9}\n",
    "set_2 = {2,4,5,1,6,7}\n",
    "set_3 = set_1.union(set_2)          #union method on two sets\n",
    "print(set_3)"
   ]
  },
  {
   "cell_type": "code",
   "execution_count": 1,
   "metadata": {},
   "outputs": [
    {
     "name": "stdout",
     "output_type": "stream",
     "text": [
      "None\n",
      "{1, 2, 3, 4, 5, 6, 7, 8, 9}\n"
     ]
    }
   ],
   "source": [
    "set_1 = {2,3,4,5,8,9}\n",
    "set_2 = {2,4,5,1,6,7}\n",
    "print(set_1.update(set_2))   # update method\n",
    "print(set_1)"
   ]
  },
  {
   "cell_type": "code",
   "execution_count": 1,
   "metadata": {},
   "outputs": [
    {
     "name": "stdout",
     "output_type": "stream",
     "text": [
      "{1, 2, 3, 4, 5, 6, 7, 8, 9}\n"
     ]
    }
   ],
   "source": [
    "set_1 = {2,3,4,5,8,9}\n",
    "set_2 = {2,4,5,1,6,7}\n",
    "set_3 = set_1 | set_2   # pipe operator \n",
    "print(set_3)"
   ]
  },
  {
   "cell_type": "code",
   "execution_count": 3,
   "metadata": {},
   "outputs": [
    {
     "name": "stdout",
     "output_type": "stream",
     "text": [
      "{1, 2, 3, 4, 5, 6, 7, 8, 9, 'A', 'B', 'priya', 'C', 'riya', 'sanaya'}\n"
     ]
    }
   ],
   "source": [
    "set_1 = {2,3,4,5,8,9}\n",
    "set_2 = {2,4,5,1,6,7}\n",
    "stringset = {\"A\", \"B\", \"C\"}\n",
    "nam_set = {\"sanaya\", \"riya\", \"priya\"}\n",
    "new_set = set_1 | set_2 | stringset | nam_set\n",
    "print(new_set)"
   ]
  },
  {
   "cell_type": "code",
   "execution_count": 4,
   "metadata": {},
   "outputs": [
    {
     "name": "stdout",
     "output_type": "stream",
     "text": [
      "{2, 3, 4, 5, 8, 9, 'C', 'S', 'D'}\n"
     ]
    }
   ],
   "source": [
    "set_1 = {2,3,4,5,8,9}\n",
    "stringlist = [\"S\", \"D\", \"C\"]   #datatype - List\n",
    "new_set = set_1.union(stringlist)\n",
    "print(new_set)"
   ]
  },
  {
   "cell_type": "code",
   "execution_count": 5,
   "metadata": {},
   "outputs": [
    {
     "name": "stdout",
     "output_type": "stream",
     "text": [
      "{1, 2, 3, 4, 5, 6, 7, 8, 9, 'priya', 'C', 'sanaya', 'S', 'D', 'riya'}\n"
     ]
    }
   ],
   "source": [
    "set_1 = {2,3,4,5,8,9}\n",
    "num_tuple = (2,4,5,1,6,7)   #datatype - tuple\n",
    "stringlist = [\"S\", \"D\", \"C\"]   #datatype - list\n",
    "name_tuple = (\"sanaya\", \"riya\", \"priya\")  #datatype -tuple\n",
    "new_set = set_1.union(num_tuple, stringlist, name_tuple)\n",
    "print(new_set)\n"
   ]
  },
  {
   "cell_type": "markdown",
   "metadata": {},
   "source": [
    "# TypeError: unsupported operand type(s) for |: 'set' and 'list'"
   ]
  },
  {
   "cell_type": "code",
   "execution_count": 6,
   "metadata": {},
   "outputs": [
    {
     "ename": "TypeError",
     "evalue": "unsupported operand type(s) for |: 'set' and 'list'",
     "output_type": "error",
     "traceback": [
      "\u001b[1;31m---------------------------------------------------------------------------\u001b[0m",
      "\u001b[1;31mTypeError\u001b[0m                                 Traceback (most recent call last)",
      "Cell \u001b[1;32mIn[6], line 3\u001b[0m\n\u001b[0;32m      1\u001b[0m set_1 \u001b[38;5;241m=\u001b[39m {\u001b[38;5;241m2\u001b[39m,\u001b[38;5;241m3\u001b[39m,\u001b[38;5;241m4\u001b[39m,\u001b[38;5;241m5\u001b[39m,\u001b[38;5;241m8\u001b[39m,\u001b[38;5;241m9\u001b[39m}\n\u001b[0;32m      2\u001b[0m stringlist \u001b[38;5;241m=\u001b[39m [\u001b[38;5;124m\"\u001b[39m\u001b[38;5;124mS\u001b[39m\u001b[38;5;124m\"\u001b[39m, \u001b[38;5;124m\"\u001b[39m\u001b[38;5;124mD\u001b[39m\u001b[38;5;124m\"\u001b[39m, \u001b[38;5;124m\"\u001b[39m\u001b[38;5;124mC\u001b[39m\u001b[38;5;124m\"\u001b[39m]   \u001b[38;5;66;03m#datatype - List\u001b[39;00m\n\u001b[1;32m----> 3\u001b[0m new_set \u001b[38;5;241m=\u001b[39m \u001b[43mset_1\u001b[49m\u001b[43m \u001b[49m\u001b[38;5;241;43m|\u001b[39;49m\u001b[43m \u001b[49m\u001b[43mstringlist\u001b[49m\n\u001b[0;32m      4\u001b[0m \u001b[38;5;28mprint\u001b[39m(new_set)\n",
      "\u001b[1;31mTypeError\u001b[0m: unsupported operand type(s) for |: 'set' and 'list'"
     ]
    }
   ],
   "source": [
    "set_1 = {2,3,4,5,8,9}\n",
    "stringlist = [\"S\", \"D\", \"C\"]   #datatype - List\n",
    "new_set = set_1 | stringlist\n",
    "print(new_set)"
   ]
  },
  {
   "cell_type": "markdown",
   "metadata": {},
   "source": [
    "# TypeError: unsupported operand type(s) for |: 'set' and 'list'"
   ]
  },
  {
   "cell_type": "code",
   "execution_count": 7,
   "metadata": {},
   "outputs": [
    {
     "ename": "TypeError",
     "evalue": "unsupported operand type(s) for |: 'list' and 'list'",
     "output_type": "error",
     "traceback": [
      "\u001b[1;31m---------------------------------------------------------------------------\u001b[0m",
      "\u001b[1;31mTypeError\u001b[0m                                 Traceback (most recent call last)",
      "Cell \u001b[1;32mIn[7], line 3\u001b[0m\n\u001b[0;32m      1\u001b[0m list1 \u001b[38;5;241m=\u001b[39m [\u001b[38;5;241m2\u001b[39m,\u001b[38;5;241m3\u001b[39m,\u001b[38;5;241m4\u001b[39m,\u001b[38;5;241m5\u001b[39m,\u001b[38;5;241m8\u001b[39m,\u001b[38;5;241m9\u001b[39m]\n\u001b[0;32m      2\u001b[0m stringlist \u001b[38;5;241m=\u001b[39m [\u001b[38;5;124m\"\u001b[39m\u001b[38;5;124mS\u001b[39m\u001b[38;5;124m\"\u001b[39m, \u001b[38;5;124m\"\u001b[39m\u001b[38;5;124mD\u001b[39m\u001b[38;5;124m\"\u001b[39m, \u001b[38;5;124m\"\u001b[39m\u001b[38;5;124mC\u001b[39m\u001b[38;5;124m\"\u001b[39m]   \u001b[38;5;66;03m#datatype - List\u001b[39;00m\n\u001b[1;32m----> 3\u001b[0m new_list \u001b[38;5;241m=\u001b[39m \u001b[43mlist1\u001b[49m\u001b[43m \u001b[49m\u001b[38;5;241;43m|\u001b[39;49m\u001b[43m \u001b[49m\u001b[43mstringlist\u001b[49m\n\u001b[0;32m      4\u001b[0m \u001b[38;5;28mprint\u001b[39m(new_list)\n",
      "\u001b[1;31mTypeError\u001b[0m: unsupported operand type(s) for |: 'list' and 'list'"
     ]
    }
   ],
   "source": [
    "list1 = [2,3,4,5,8,9]\n",
    "stringlist = [\"S\", \"D\", \"C\"]   #datatype - List\n",
    "new_list = list1 | stringlist\n",
    "print(new_list)"
   ]
  },
  {
   "cell_type": "markdown",
   "metadata": {},
   "source": [
    "# TypeError: unsupported operand type(s) for |: 'tuple' and 'tuple'"
   ]
  },
  {
   "cell_type": "code",
   "execution_count": 8,
   "metadata": {},
   "outputs": [
    {
     "ename": "TypeError",
     "evalue": "unsupported operand type(s) for |: 'tuple' and 'tuple'",
     "output_type": "error",
     "traceback": [
      "\u001b[1;31m---------------------------------------------------------------------------\u001b[0m",
      "\u001b[1;31mTypeError\u001b[0m                                 Traceback (most recent call last)",
      "Cell \u001b[1;32mIn[8], line 3\u001b[0m\n\u001b[0;32m      1\u001b[0m tuple1 \u001b[38;5;241m=\u001b[39m (\u001b[38;5;241m2\u001b[39m,\u001b[38;5;241m3\u001b[39m,\u001b[38;5;241m4\u001b[39m,\u001b[38;5;241m5\u001b[39m,\u001b[38;5;241m8\u001b[39m,\u001b[38;5;241m9\u001b[39m)\n\u001b[0;32m      2\u001b[0m stringtuple \u001b[38;5;241m=\u001b[39m (\u001b[38;5;124m\"\u001b[39m\u001b[38;5;124mS\u001b[39m\u001b[38;5;124m\"\u001b[39m, \u001b[38;5;124m\"\u001b[39m\u001b[38;5;124mD\u001b[39m\u001b[38;5;124m\"\u001b[39m, \u001b[38;5;124m\"\u001b[39m\u001b[38;5;124mC\u001b[39m\u001b[38;5;124m\"\u001b[39m)   \u001b[38;5;66;03m#datatype - List\u001b[39;00m\n\u001b[1;32m----> 3\u001b[0m new_tuple \u001b[38;5;241m=\u001b[39m \u001b[43mtuple1\u001b[49m\u001b[43m \u001b[49m\u001b[38;5;241;43m|\u001b[39;49m\u001b[43m \u001b[49m\u001b[43mstringtuple\u001b[49m\n\u001b[0;32m      4\u001b[0m \u001b[38;5;28mprint\u001b[39m(new_tuple)\n",
      "\u001b[1;31mTypeError\u001b[0m: unsupported operand type(s) for |: 'tuple' and 'tuple'"
     ]
    }
   ],
   "source": [
    "tuple1 = (2,3,4,5,8,9)\n",
    "stringtuple = (\"S\", \"D\", \"C\")   #datatype - List\n",
    "new_tuple = tuple1 | stringtuple\n",
    "print(new_tuple)"
   ]
  },
  {
   "cell_type": "markdown",
   "metadata": {},
   "source": [
    "# TypeError: unsupported operand type(s) for |: 'set' and 'tuple'"
   ]
  },
  {
   "cell_type": "code",
   "execution_count": 9,
   "metadata": {},
   "outputs": [
    {
     "ename": "TypeError",
     "evalue": "unsupported operand type(s) for |: 'set' and 'tuple'",
     "output_type": "error",
     "traceback": [
      "\u001b[1;31m---------------------------------------------------------------------------\u001b[0m",
      "\u001b[1;31mTypeError\u001b[0m                                 Traceback (most recent call last)",
      "Cell \u001b[1;32mIn[9], line 5\u001b[0m\n\u001b[0;32m      3\u001b[0m stringlist \u001b[38;5;241m=\u001b[39m [\u001b[38;5;124m\"\u001b[39m\u001b[38;5;124mS\u001b[39m\u001b[38;5;124m\"\u001b[39m, \u001b[38;5;124m\"\u001b[39m\u001b[38;5;124mD\u001b[39m\u001b[38;5;124m\"\u001b[39m, \u001b[38;5;124m\"\u001b[39m\u001b[38;5;124mC\u001b[39m\u001b[38;5;124m\"\u001b[39m]   \u001b[38;5;66;03m#datatype - list\u001b[39;00m\n\u001b[0;32m      4\u001b[0m name_tuple \u001b[38;5;241m=\u001b[39m (\u001b[38;5;124m\"\u001b[39m\u001b[38;5;124msanaya\u001b[39m\u001b[38;5;124m\"\u001b[39m, \u001b[38;5;124m\"\u001b[39m\u001b[38;5;124mriya\u001b[39m\u001b[38;5;124m\"\u001b[39m, \u001b[38;5;124m\"\u001b[39m\u001b[38;5;124mpriya\u001b[39m\u001b[38;5;124m\"\u001b[39m)  \u001b[38;5;66;03m#datatype -tuple\u001b[39;00m\n\u001b[1;32m----> 5\u001b[0m new_set \u001b[38;5;241m=\u001b[39m \u001b[43mset_1\u001b[49m\u001b[43m \u001b[49m\u001b[38;5;241;43m|\u001b[39;49m\u001b[43m \u001b[49m\u001b[43mnum_tuple\u001b[49m \u001b[38;5;241m|\u001b[39m stringlist \u001b[38;5;241m|\u001b[39m name_tuple\n\u001b[0;32m      6\u001b[0m \u001b[38;5;28mprint\u001b[39m(new_set)\n",
      "\u001b[1;31mTypeError\u001b[0m: unsupported operand type(s) for |: 'set' and 'tuple'"
     ]
    }
   ],
   "source": [
    "set_1 = {2,3,4,5,8,9}\n",
    "num_tuple = (2,4,5,1,6,7)   #datatype - tuple\n",
    "stringlist = [\"S\", \"D\", \"C\"]   #datatype - list\n",
    "name_tuple = (\"sanaya\", \"riya\", \"priya\")  #datatype -tuple\n",
    "new_set = set_1 | num_tuple | stringlist | name_tuple\n",
    "print(new_set)"
   ]
  },
  {
   "cell_type": "code",
   "execution_count": 10,
   "metadata": {},
   "outputs": [
    {
     "name": "stdout",
     "output_type": "stream",
     "text": [
      "{1, 2, 3, 4, 5, 6, 7, 8, 9}\n"
     ]
    }
   ],
   "source": [
    "set_1 = {2,3,4,5,8,9}\n",
    "set_2 = {2,4,5,1,6,7}\n",
    "set_1 |= set_2  # |= Pipe equal to : Shortcut for Update method\n",
    "print(set_1) "
   ]
  },
  {
   "cell_type": "markdown",
   "metadata": {},
   "source": [
    "# TypeError: unsupported operand type(s) for |: 'tuple' and 'list'"
   ]
  },
  {
   "cell_type": "code",
   "execution_count": 11,
   "metadata": {},
   "outputs": [
    {
     "ename": "TypeError",
     "evalue": "unsupported operand type(s) for |: 'tuple' and 'list'",
     "output_type": "error",
     "traceback": [
      "\u001b[1;31m---------------------------------------------------------------------------\u001b[0m",
      "\u001b[1;31mTypeError\u001b[0m                                 Traceback (most recent call last)",
      "Cell \u001b[1;32mIn[11], line 5\u001b[0m\n\u001b[0;32m      3\u001b[0m stringlist \u001b[38;5;241m=\u001b[39m [\u001b[38;5;124m\"\u001b[39m\u001b[38;5;124mS\u001b[39m\u001b[38;5;124m\"\u001b[39m, \u001b[38;5;124m\"\u001b[39m\u001b[38;5;124mD\u001b[39m\u001b[38;5;124m\"\u001b[39m, \u001b[38;5;124m\"\u001b[39m\u001b[38;5;124mC\u001b[39m\u001b[38;5;124m\"\u001b[39m]   \u001b[38;5;66;03m#datatype - list\u001b[39;00m\n\u001b[0;32m      4\u001b[0m name_tuple \u001b[38;5;241m=\u001b[39m (\u001b[38;5;124m\"\u001b[39m\u001b[38;5;124msanaya\u001b[39m\u001b[38;5;124m\"\u001b[39m, \u001b[38;5;124m\"\u001b[39m\u001b[38;5;124mriya\u001b[39m\u001b[38;5;124m\"\u001b[39m, \u001b[38;5;124m\"\u001b[39m\u001b[38;5;124mpriya\u001b[39m\u001b[38;5;124m\"\u001b[39m)  \u001b[38;5;66;03m#datatype -tuple\u001b[39;00m\n\u001b[1;32m----> 5\u001b[0m set_1 \u001b[38;5;241m|\u001b[39m\u001b[38;5;241m=\u001b[39m \u001b[43mnum_tuple\u001b[49m\u001b[43m \u001b[49m\u001b[38;5;241;43m|\u001b[39;49m\u001b[43m \u001b[49m\u001b[43mstringlist\u001b[49m \u001b[38;5;241m|\u001b[39m name_tuple\n\u001b[0;32m      6\u001b[0m \u001b[38;5;28mprint\u001b[39m(set_1)\n",
      "\u001b[1;31mTypeError\u001b[0m: unsupported operand type(s) for |: 'tuple' and 'list'"
     ]
    }
   ],
   "source": [
    "set_1 = {2,3,4,5,8,9}\n",
    "num_tuple = (2,4,5,1,6,7)   #datatype - tuple\n",
    "stringlist = [\"S\", \"D\", \"C\"]   #datatype - list\n",
    "name_tuple = (\"sanaya\", \"riya\", \"priya\")  #datatype -tuple\n",
    "set_1 |= num_tuple | stringlist | name_tuple\n",
    "print(set_1)"
   ]
  },
  {
   "cell_type": "code",
   "execution_count": 12,
   "metadata": {},
   "outputs": [
    {
     "name": "stdout",
     "output_type": "stream",
     "text": [
      "{1, 2, 3, 4, 5, 6, 7, 8, 9, 'priya', 'C', 'sanaya', 'S', 'D', 'riya'}\n"
     ]
    }
   ],
   "source": [
    "set_1 = {2,3,4,5,8,9}\n",
    "num_tuple = (2,4,5,1,6,7)   #datatype - tuple\n",
    "stringlist = [\"S\", \"D\", \"C\"]   #datatype - list\n",
    "name_tuple = (\"sanaya\", \"riya\", \"priya\")  #datatype -tuple\n",
    "set_1.update(num_tuple, stringlist, name_tuple)\n",
    "print(set_1)"
   ]
  },
  {
   "cell_type": "code",
   "execution_count": 13,
   "metadata": {},
   "outputs": [
    {
     "name": "stdout",
     "output_type": "stream",
     "text": [
      "{2, 4, 5}\n"
     ]
    }
   ],
   "source": [
    "set_1 = {2,3,4,5,8,9}\n",
    "set_2 = {2,4,5,1,6,7}\n",
    "inter_set = set_1.intersection(set_2)\n",
    "print(inter_set)"
   ]
  }
 ],
 "metadata": {
  "kernelspec": {
   "display_name": "python_env",
   "language": "python",
   "name": "python3"
  },
  "language_info": {
   "codemirror_mode": {
    "name": "ipython",
    "version": 3
   },
   "file_extension": ".py",
   "mimetype": "text/x-python",
   "name": "python",
   "nbconvert_exporter": "python",
   "pygments_lexer": "ipython3",
   "version": "3.12.7"
  }
 },
 "nbformat": 4,
 "nbformat_minor": 2
}
