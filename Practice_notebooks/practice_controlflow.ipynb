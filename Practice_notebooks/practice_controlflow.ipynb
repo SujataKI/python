{
 "cells": [
  {
   "cell_type": "markdown",
   "metadata": {},
   "source": [
    "# 1. Check discount eligibility"
   ]
  },
  {
   "cell_type": "code",
   "execution_count": 5,
   "metadata": {},
   "outputs": [
    {
     "name": "stdout",
     "output_type": "stream",
     "text": [
      "Eligible for Discount\n"
     ]
    }
   ],
   "source": [
    "purchase_price = 500\n",
    "discount_above = 100\n",
    "if purchase_price > discount_above:\n",
    "    print(f\"Eligible for Discount\")"
   ]
  },
  {
   "cell_type": "code",
   "execution_count": 5,
   "metadata": {},
   "outputs": [
    {
     "name": "stdout",
     "output_type": "stream",
     "text": [
      "Eligible for Discount\n"
     ]
    }
   ],
   "source": [
    "purchase_price = int(input(\"Enter the purchase amount:\"))\n",
    "discount_above = 100\n",
    "if purchase_price > discount_above:\n",
    "    print(f\"Eligible for Discount\")"
   ]
  },
  {
   "cell_type": "code",
   "execution_count": 53,
   "metadata": {},
   "outputs": [
    {
     "name": "stdout",
     "output_type": "stream",
     "text": [
      "Is purchase price in integer format? Ans: True\n",
      "Eligible for Discount\n"
     ]
    }
   ],
   "source": [
    "purchase_price = input(\"Enter the purchase amount:\")\n",
    "if type(purchase_price) == str:\n",
    "    purchase_price = int(purchase_price)\n",
    "print(f\"Is purchase price in integer format? Ans: {type(purchase_price)==int}\")\n",
    "discount_above = 100\n",
    "if purchase_price > discount_above: # Comparing (int == int)\n",
    "    print(f\"Eligible for Discount\")"
   ]
  },
  {
   "cell_type": "markdown",
   "metadata": {},
   "source": [
    "# 2. Temperature alert"
   ]
  },
  {
   "cell_type": "code",
   "execution_count": 9,
   "metadata": {},
   "outputs": [
    {
     "name": "stdout",
     "output_type": "stream",
     "text": [
      "The current room temperature is 38\n",
      "Heat Alert\n"
     ]
    }
   ],
   "source": [
    "room_temperature = int(input(\"Enter the current room temperature:\"))\n",
    "print(f\"The current room temperature is {room_temperature}\")\n",
    "threshold_temperature = 35\n",
    "if room_temperature > threshold_temperature:\n",
    "    print(f\"Heat Alert\")"
   ]
  },
  {
   "cell_type": "code",
   "execution_count": 11,
   "metadata": {},
   "outputs": [
    {
     "name": "stdout",
     "output_type": "stream",
     "text": [
      "The current room temperature is 30, it is less than the threshold value.\n",
      " ***** Chill Mode. ****\n"
     ]
    }
   ],
   "source": [
    "room_temperature = int(input(\"Enter the current room temperature:\"))\n",
    "threshold_temperature = 35\n",
    "if room_temperature > threshold_temperature:\n",
    "    print(f\"The current room temperature is {room_temperature}, it is greater than the threshold value.\\n ***** Heat Alert ****\")\n",
    "else:\n",
    "    print(f\"The current room temperature is {room_temperature}, it is less than the threshold value.\\n ***** Chill Mode. ****\")"
   ]
  },
  {
   "cell_type": "markdown",
   "metadata": {},
   "source": [
    "# 3. Age Verification"
   ]
  },
  {
   "cell_type": "markdown",
   "metadata": {},
   "source": [
    "If-else statement"
   ]
  },
  {
   "cell_type": "code",
   "execution_count": 11,
   "metadata": {},
   "outputs": [
    {
     "name": "stdout",
     "output_type": "stream",
     "text": [
      "Eligible to vote\n"
     ]
    }
   ],
   "source": [
    "Age_A = 16\n",
    "Age_B = 20\n",
    "print(\"Eligible to vote\") if Age_B > Age_A else print(\"Not Eligible to vote\")"
   ]
  },
  {
   "cell_type": "code",
   "execution_count": 15,
   "metadata": {},
   "outputs": [
    {
     "name": "stdout",
     "output_type": "stream",
     "text": [
      "The voter age is: 20. Voter is eligible for voting.\n"
     ]
    }
   ],
   "source": [
    "voter_age = int(input(\"Enter your age:\"))\n",
    "eligible_age = 18\n",
    "\n",
    "if voter_age >= 18:\n",
    "    print(f\"The voter age is: {voter_age}. Voter is eligible for voting.\")\n",
    "else:\n",
    "    print(f\"The minimum age required to be eligible for voting is : {eligible_age}\")"
   ]
  },
  {
   "cell_type": "code",
   "execution_count": 16,
   "metadata": {},
   "outputs": [
    {
     "name": "stdout",
     "output_type": "stream",
     "text": [
      "The voter age is: 40. Voter is eligible for voting.\n"
     ]
    }
   ],
   "source": [
    "voter_age = int(input(\"Enter your age:\"))\n",
    "eligible_age = 18\n",
    "\n",
    "print(f\"The voter age is: {voter_age}. Voter is eligible for voting.\") if voter_age >= 18 else print(f\"The minimum age required to be eligible for voting is : {eligible_age}\")"
   ]
  },
  {
   "cell_type": "markdown",
   "metadata": {},
   "source": [
    "# 4. Check odd or even"
   ]
  },
  {
   "cell_type": "code",
   "execution_count": null,
   "metadata": {},
   "outputs": [
    {
     "name": "stdout",
     "output_type": "stream",
     "text": [
      "Even Number\n"
     ]
    }
   ],
   "source": [
    "x = int(input(\"Enter an integer:\"))\n",
    "print(\"Even Number\") if x%2==0 else print(\"Odd Number\")\n",
    "\n",
    "# % - Modulo - Divide a number by any value and returns the remainder.\n",
    "# Even numbers = 2 , 4 ,6, 8 , 10 ... so on\n",
    "# Odd Numbers = 1 , 3, 5 ,7 ,9, 11, 13,15,17 ... so on\n",
    "# Odd Numbers /2 "
   ]
  },
  {
   "cell_type": "code",
   "execution_count": 39,
   "metadata": {},
   "outputs": [
    {
     "name": "stdout",
     "output_type": "stream",
     "text": [
      "Odd Number\n"
     ]
    }
   ],
   "source": [
    "x = int(input(\"Enter an integer:\"))\n",
    "print(\"Odd Number\") if x%2==1 else print(\"Even Number\")"
   ]
  },
  {
   "cell_type": "code",
   "execution_count": 34,
   "metadata": {},
   "outputs": [
    {
     "data": {
      "text/plain": [
       "5.0"
      ]
     },
     "execution_count": 34,
     "metadata": {},
     "output_type": "execute_result"
    }
   ],
   "source": [
    "10/2"
   ]
  },
  {
   "cell_type": "code",
   "execution_count": 36,
   "metadata": {},
   "outputs": [
    {
     "data": {
      "text/plain": [
       "0"
      ]
     },
     "execution_count": 36,
     "metadata": {},
     "output_type": "execute_result"
    }
   ],
   "source": [
    "10%2"
   ]
  },
  {
   "cell_type": "code",
   "execution_count": 35,
   "metadata": {},
   "outputs": [
    {
     "data": {
      "text/plain": [
       "11.5"
      ]
     },
     "execution_count": 35,
     "metadata": {},
     "output_type": "execute_result"
    }
   ],
   "source": [
    "23/2"
   ]
  },
  {
   "cell_type": "code",
   "execution_count": 38,
   "metadata": {},
   "outputs": [
    {
     "data": {
      "text/plain": [
       "1"
      ]
     },
     "execution_count": 38,
     "metadata": {},
     "output_type": "execute_result"
    }
   ],
   "source": [
    "13%2"
   ]
  },
  {
   "cell_type": "code",
   "execution_count": null,
   "metadata": {},
   "outputs": [
    {
     "data": {
      "text/plain": [
       "5.0"
      ]
     },
     "execution_count": 18,
     "metadata": {},
     "output_type": "execute_result"
    }
   ],
   "source": [
    "# Remainder = 0\n",
    "10/2"
   ]
  },
  {
   "cell_type": "code",
   "execution_count": 21,
   "metadata": {},
   "outputs": [
    {
     "data": {
      "text/plain": [
       "5.5"
      ]
     },
     "execution_count": 21,
     "metadata": {},
     "output_type": "execute_result"
    }
   ],
   "source": [
    "11/2 # Floating point divison.\n"
   ]
  },
  {
   "cell_type": "code",
   "execution_count": null,
   "metadata": {},
   "outputs": [
    {
     "data": {
      "text/plain": [
       "1"
      ]
     },
     "execution_count": 23,
     "metadata": {},
     "output_type": "execute_result"
    }
   ],
   "source": [
    "11%2 # Modulo operator = Returns the remainder value.\n",
    "# 5 x 2 = 10, 10 + 1 = 11, 1 = remainder."
   ]
  },
  {
   "cell_type": "code",
   "execution_count": 19,
   "metadata": {},
   "outputs": [
    {
     "name": "stdout",
     "output_type": "stream",
     "text": [
      "odd\n"
     ]
    }
   ],
   "source": [
    "print(\"even\") if x==y else print(\"odd\")"
   ]
  },
  {
   "cell_type": "markdown",
   "metadata": {},
   "source": [
    "# 5. Grade classification"
   ]
  },
  {
   "cell_type": "markdown",
   "metadata": {},
   "source": [
    "If-Elif-Else statement"
   ]
  },
  {
   "cell_type": "code",
   "execution_count": 40,
   "metadata": {},
   "outputs": [
    {
     "name": "stdout",
     "output_type": "stream",
     "text": [
      "Grade: B\n"
     ]
    }
   ],
   "source": [
    "percentage = int(input(\"Enter the percentage:\"))\n",
    "if percentage >= 90:\n",
    "    print(\"Grade: A\")\n",
    "elif percentage >= 80:\n",
    "    print(\"Grade: B\")\n",
    "elif percentage >= 70:\n",
    "    print(\"Grade: C\")\n",
    "else:\n",
    "    print(\"Grade: F\")\n",
    "\n"
   ]
  },
  {
   "cell_type": "markdown",
   "metadata": {},
   "source": [
    "# 6. Weather condition checker"
   ]
  },
  {
   "cell_type": "code",
   "execution_count": 48,
   "metadata": {},
   "outputs": [
    {
     "name": "stdout",
     "output_type": "stream",
     "text": [
      "Invalid input! Please enter a valid weather condition! Available options are: ['sunny','rainy','snowy', 'windy'].\n"
     ]
    }
   ],
   "source": [
    "weather_description = input(\"Enter the whether: ['sunny','rainy','snowy', 'windy']:\")\n",
    "\n",
    "if weather_description == \"sunny\":\n",
    "    print(\"Wear sunglasses\")\n",
    "elif weather_description == \"rainy\":\n",
    "    print(\"Carry an umbrella\")\n",
    "elif weather_description == \"snowy\":\n",
    "    print(\"wear a coat\")\n",
    "elif weather_description == \"windy\":\n",
    "    print(\"Secure loose items\")\n",
    "else:\n",
    "    print(\"Invalid input! Please enter a valid weather condition! Available options are: ['sunny','rainy','snowy', 'windy'].\")\n"
   ]
  },
  {
   "cell_type": "markdown",
   "metadata": {},
   "source": [
    "# Maintenance Mode\n",
    "- Write a program for a website system that checks if the site is in maintenance mode. \n",
    "- If true, print ``\"Site is under maintenance\"``.\n",
    "- Otherwise, pass."
   ]
  },
  {
   "cell_type": "code",
   "execution_count": null,
   "metadata": {},
   "outputs": [
    {
     "name": "stdout",
     "output_type": "stream",
     "text": [
      "Site is under maintenance\n"
     ]
    }
   ],
   "source": [
    "#site_status = True # True and False, On and Off , or Live or Down.\n",
    "site_status = bool(input(\"Is sujatakumari.com Live? Choose: True or False:\")) # \"True\"\n",
    "maintenance_mode = True\n",
    "if site_status==maintenance_mode: # Comparing ( bool == bool )\n",
    "    print(\"Site is under maintenance\")\n",
    "else:\n",
    "    pass"
   ]
  },
  {
   "cell_type": "code",
   "execution_count": null,
   "metadata": {},
   "outputs": [],
   "source": [
    "site_status = input(\"Is sujatakumari.com Live? Choose: True or False:\")\n",
    "maintenance_mode = \"True\"\n",
    "if site_status==maintenance_mode: # Comparison beween same datatype ( str == str )\n",
    "    print(\"Site is under maintenance\")\n",
    "else:\n",
    "    pass"
   ]
  },
  {
   "cell_type": "markdown",
   "metadata": {},
   "source": [
    "# Bank Transaction Fee\n",
    "- A bank charges a fee of ``$2`` for withdrawls below ``$50`` . Write a program that checks if a withdrawl amount is below ``$50``.\n",
    "- If yes, calculate the fee and print it.\n",
    "- Otherwise, pass."
   ]
  },
  {
   "cell_type": "code",
   "execution_count": 58,
   "metadata": {},
   "outputs": [
    {
     "name": "stdout",
     "output_type": "stream",
     "text": [
      "Your current account balance is $10000\n",
      "Withdrawl amount is: $10 less than $50, subjected to withdrawl fee of $2.\n",
      "Your new account balance is 9988\n"
     ]
    }
   ],
   "source": [
    "withdrawl_amount = int(input(\"Enter the withdrawl amount\"))\n",
    "customer_name = \"Sujata Kumari\"\n",
    "current_balance = 10000\n",
    "bank_name = \" Sujata Bank of Himalaya\"\n",
    "\n",
    "# Bank Fees\n",
    "withdrawl_fee = 2\n",
    "deposit_fee = 0\n",
    "print(f\"Your current account balance is ${current_balance}\")\n",
    "if withdrawl_amount < 50:\n",
    "    print(f\"Withdrawl amount is: ${withdrawl_amount} less than $50, subjected to withdrawl fee of $2.\")\n",
    "    current_balance = current_balance - withdrawl_amount - withdrawl_fee\n",
    "    print(f\"Your new account balance is {current_balance}\")\n",
    "elif withdrawl_amount >= 50:\n",
    "    print(f\"Withdrawl amount is: ${withdrawl_amount} , subjected to withdrawl fee of $0.\")\n",
    "    current_balance = current_balance - withdrawl_amount\n",
    "    print(f\"Your new account balance is: ${current_balance}\")\n",
    "else:\n",
    "    pass\n"
   ]
  },
  {
   "cell_type": "code",
   "execution_count": null,
   "metadata": {},
   "outputs": [],
   "source": [
    "\n",
    "          \n",
    "    "
   ]
  }
 ],
 "metadata": {
  "kernelspec": {
   "display_name": "python_env",
   "language": "python",
   "name": "python3"
  },
  "language_info": {
   "codemirror_mode": {
    "name": "ipython",
    "version": 3
   },
   "file_extension": ".py",
   "mimetype": "text/x-python",
   "name": "python",
   "nbconvert_exporter": "python",
   "pygments_lexer": "ipython3",
   "version": "3.12.7"
  }
 },
 "nbformat": 4,
 "nbformat_minor": 2
}
