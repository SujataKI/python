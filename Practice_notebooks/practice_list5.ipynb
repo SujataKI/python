{
 "cells": [
  {
   "cell_type": "markdown",
   "metadata": {},
   "source": [
    "# List Comprehension"
   ]
  },
  {
   "cell_type": "markdown",
   "metadata": {},
   "source": [
    "- Example"
   ]
  },
  {
   "cell_type": "code",
   "execution_count": 2,
   "metadata": {},
   "outputs": [
    {
     "name": "stdout",
     "output_type": "stream",
     "text": [
      "['Artichoke', 'Amaranth', 'Arugula', 'Alfalfa sprouts']\n"
     ]
    }
   ],
   "source": [
    "Vegetables = [\"Artichoke\", \"Amaranth\", \"Arugula\", \"Alfalfa sprouts\", \"Bitterguard\", \"Bins\"]\n",
    "A_Vegetables = []\n",
    "for x in Vegetables:\n",
    "    if \"A\" in x[0]:\n",
    "        A_Vegetables.append(x)\n",
    "print(A_Vegetables)"
   ]
  },
  {
   "cell_type": "markdown",
   "metadata": {},
   "source": [
    "# The Syntax:"
   ]
  },
  {
   "cell_type": "code",
   "execution_count": 6,
   "metadata": {},
   "outputs": [
    {
     "name": "stdout",
     "output_type": "stream",
     "text": [
      "['Artichoke', 'Amaranth', 'Arugula', 'Alfalfa sprouts']\n"
     ]
    }
   ],
   "source": [
    "Vegetables = [\"Artichoke\", \"Amaranth\", \"Arugula\", \"Alfalfa sprouts\", \"Bitterguard\", \"Bins\"]\n",
    "newlist = [Vegetable for Vegetable in Vegetables if \"A\" in Vegetable[0]]\n",
    "print(newlist)"
   ]
  },
  {
   "cell_type": "code",
   "execution_count": 7,
   "metadata": {},
   "outputs": [
    {
     "name": "stdout",
     "output_type": "stream",
     "text": [
      "[12, 14, 16, 18, 20]\n",
      "[11, 13, 15, 17, 19]\n"
     ]
    }
   ],
   "source": [
    "number = [11,12,13,14,15,16,17,18,19,20]\n",
    "even_num = [num for num in number if num%2==0]\n",
    "odd_num = [num for num in number if num%2!=0]\n",
    "print(even_num)\n",
    "print(odd_num)"
   ]
  },
  {
   "cell_type": "markdown",
   "metadata": {},
   "source": [
    "# Convert even numbers in the list odd numbers "
   ]
  },
  {
   "cell_type": "code",
   "execution_count": 8,
   "metadata": {},
   "outputs": [
    {
     "name": "stdout",
     "output_type": "stream",
     "text": [
      "[13, 15, 17, 19, 21]\n"
     ]
    }
   ],
   "source": [
    "number = [11,12,13,14,15,16,17,18,19,20]\n",
    "odd_num = [num+1 for num in number if num%2==0]\n",
    "print(odd_num)"
   ]
  },
  {
   "cell_type": "markdown",
   "metadata": {},
   "source": [
    "# Copy the entire list"
   ]
  },
  {
   "cell_type": "code",
   "execution_count": 11,
   "metadata": {},
   "outputs": [
    {
     "name": "stdout",
     "output_type": "stream",
     "text": [
      "['one', 'two', 'three', 'four', 'five', 'six']\n"
     ]
    }
   ],
   "source": [
    "number = [\"one\", \"two\",\"three\", \"four\", \"five\", \"six\"]\n",
    "new_num = [num for num in number]\n",
    "print(new_num)"
   ]
  },
  {
   "cell_type": "code",
   "execution_count": 12,
   "metadata": {},
   "outputs": [
    {
     "name": "stdout",
     "output_type": "stream",
     "text": [
      "['SNAYA', 'ANANYA', 'RIYA']\n"
     ]
    }
   ],
   "source": [
    "name = [\"snaya\", \"ananya\", \"riya\"]\n",
    "capital_name = [x.upper() for x in name]\n",
    "print(capital_name)"
   ]
  },
  {
   "cell_type": "code",
   "execution_count": 15,
   "metadata": {},
   "outputs": [
    {
     "name": "stdout",
     "output_type": "stream",
     "text": [
      "['Artichoke', 'Tomato', 'Bins', 'Potato']\n"
     ]
    }
   ],
   "source": [
    "Vegetables = [\"Artichoke\", \"Bitterguard\", \"Bins\", \"Potato\"]\n",
    "funnylist = [x if x!= \"Bitterguard\" else \"Tomato\" for x in Vegetables]\n",
    "print(funnylist)"
   ]
  },
  {
   "cell_type": "markdown",
   "metadata": {},
   "source": [
    "# Short list alphanumerically"
   ]
  },
  {
   "cell_type": "code",
   "execution_count": 16,
   "metadata": {},
   "outputs": [
    {
     "name": "stdout",
     "output_type": "stream",
     "text": [
      "['apple', 'banana', 'cherry', 'kiwi', 'orange']\n"
     ]
    }
   ],
   "source": [
    "onelist = [\"cherry\", \"kiwi\", \"orange\", \"banana\", \"apple\"]\n",
    "onelist.sort()\n",
    "print(onelist)"
   ]
  },
  {
   "cell_type": "code",
   "execution_count": 17,
   "metadata": {},
   "outputs": [
    {
     "name": "stdout",
     "output_type": "stream",
     "text": [
      "[13, 45, 55, 67, 78, 89, 100]\n"
     ]
    }
   ],
   "source": [
    "onelist = [45,13,78,89,100,55,67]\n",
    "onelist.sort()\n",
    "print(onelist)"
   ]
  },
  {
   "cell_type": "markdown",
   "metadata": {},
   "source": [
    "# Descending oder"
   ]
  },
  {
   "cell_type": "code",
   "execution_count": 18,
   "metadata": {},
   "outputs": [
    {
     "name": "stdout",
     "output_type": "stream",
     "text": [
      "[100, 89, 78, 67, 55, 45, 13]\n"
     ]
    }
   ],
   "source": [
    "onelist = [45,13,78,89,100,55,67]\n",
    "onelist.sort(reverse=True)\n",
    "print(onelist)"
   ]
  },
  {
   "cell_type": "code",
   "execution_count": 19,
   "metadata": {},
   "outputs": [
    {
     "name": "stdout",
     "output_type": "stream",
     "text": [
      "['apple', 'banana', 'cherry', 'kiwi', 'orange']\n"
     ]
    }
   ],
   "source": [
    "onelist = [\"cherry\", \"kiwi\", \"orange\", \"banana\", \"apple\"]\n",
    "onelist.sort(reverse=False)\n",
    "print(onelist)"
   ]
  },
  {
   "cell_type": "code",
   "execution_count": 20,
   "metadata": {},
   "outputs": [
    {
     "name": "stdout",
     "output_type": "stream",
     "text": [
      "['orange', 'kiwi', 'cherry', 'banana', 'apple']\n"
     ]
    }
   ],
   "source": [
    "onelist = [\"cherry\", \"kiwi\", \"orange\", \"banana\", \"apple\"]\n",
    "onelist.sort(reverse=True)\n",
    "print(onelist)"
   ]
  },
  {
   "cell_type": "markdown",
   "metadata": {},
   "source": [
    "# Customize Sort Function"
   ]
  },
  {
   "cell_type": "code",
   "execution_count": 24,
   "metadata": {},
   "outputs": [
    {
     "data": {
      "text/plain": [
       "101"
      ]
     },
     "execution_count": 24,
     "metadata": {},
     "output_type": "execute_result"
    }
   ],
   "source": [
    "abs(-45-56)"
   ]
  },
  {
   "cell_type": "code",
   "execution_count": 25,
   "metadata": {},
   "outputs": [
    {
     "data": {
      "text/plain": [
       "32"
      ]
     },
     "execution_count": 25,
     "metadata": {},
     "output_type": "execute_result"
    }
   ],
   "source": [
    "abs(87-55)"
   ]
  },
  {
   "cell_type": "markdown",
   "metadata": {},
   "source": [
    "# Sort the list based on how close the number is to 40:"
   ]
  },
  {
   "cell_type": "code",
   "execution_count": 26,
   "metadata": {},
   "outputs": [
    {
     "name": "stdout",
     "output_type": "stream",
     "text": [
      "[50, 56, 60, 70, 100]\n"
     ]
    }
   ],
   "source": [
    "def myfunction(n):\n",
    "    return abs(n-40)\n",
    "newlist = [100,50,56,70,60]\n",
    "newlist.sort(key=myfunction)    # [60,10,16,30,20]\n",
    "print(newlist)"
   ]
  },
  {
   "cell_type": "code",
   "execution_count": 27,
   "metadata": {},
   "outputs": [
    {
     "name": "stdout",
     "output_type": "stream",
     "text": [
      "[100, 70, 60, 56, 50]\n"
     ]
    }
   ],
   "source": [
    "def myfunction(n):\n",
    "    return -(n)\n",
    "newlist = [100,50,56,70,60]\n",
    "newlist.sort(key=myfunction)    # [60,10,16,30,20]\n",
    "print(newlist)"
   ]
  },
  {
   "cell_type": "markdown",
   "metadata": {},
   "source": [
    "# Case sensitive sort()"
   ]
  },
  {
   "cell_type": "code",
   "execution_count": 29,
   "metadata": {},
   "outputs": [
    {
     "name": "stdout",
     "output_type": "stream",
     "text": [
      "['Apple', 'Kiwi', 'banana', 'orange']\n"
     ]
    }
   ],
   "source": [
    "Newlist = [\"Apple\", \"banana\", \"Kiwi\", \"orange\"]\n",
    "Newlist.sort()\n",
    "print(Newlist)"
   ]
  },
  {
   "cell_type": "markdown",
   "metadata": {},
   "source": [
    "# Built in functions as key functions in sort() method"
   ]
  },
  {
   "cell_type": "code",
   "execution_count": 30,
   "metadata": {},
   "outputs": [
    {
     "name": "stdout",
     "output_type": "stream",
     "text": [
      "['Apple', 'banana', 'Kiwi', 'orange']\n"
     ]
    }
   ],
   "source": [
    "Newlist = [\"Apple\", \"banana\", \"Kiwi\", \"orange\"]\n",
    "Newlist.sort(key= str.lower)\n",
    "print(Newlist)"
   ]
  },
  {
   "cell_type": "markdown",
   "metadata": {},
   "source": [
    "# Reverse order"
   ]
  },
  {
   "cell_type": "code",
   "execution_count": 31,
   "metadata": {},
   "outputs": [
    {
     "name": "stdout",
     "output_type": "stream",
     "text": [
      "['orange', 'Kiwi', 'banana', 'Apple']\n"
     ]
    }
   ],
   "source": [
    "Newlist = [\"Apple\", \"banana\", \"Kiwi\", \"orange\"]\n",
    "Newlist.reverse()\n",
    "print(Newlist)"
   ]
  },
  {
   "cell_type": "markdown",
   "metadata": {},
   "source": [
    "# Copy List"
   ]
  },
  {
   "cell_type": "code",
   "execution_count": 32,
   "metadata": {},
   "outputs": [
    {
     "name": "stdout",
     "output_type": "stream",
     "text": [
      "[5, 7, 9]\n"
     ]
    }
   ],
   "source": [
    "list_1 = [5,7,9]\n",
    "list_2 = list_1\n",
    "print(list_1)"
   ]
  },
  {
   "cell_type": "code",
   "execution_count": 33,
   "metadata": {},
   "outputs": [
    {
     "data": {
      "text/plain": [
       "1964544182336"
      ]
     },
     "execution_count": 33,
     "metadata": {},
     "output_type": "execute_result"
    }
   ],
   "source": [
    "id(list_2)"
   ]
  },
  {
   "cell_type": "code",
   "execution_count": 35,
   "metadata": {},
   "outputs": [
    {
     "name": "stdout",
     "output_type": "stream",
     "text": [
      "140734019152536\n",
      "140734019152536\n"
     ]
    }
   ],
   "source": [
    "z = 8\n",
    "y = z\n",
    "print(id(z))\n",
    "print(id(y))"
   ]
  },
  {
   "cell_type": "code",
   "execution_count": 36,
   "metadata": {},
   "outputs": [
    {
     "data": {
      "text/plain": [
       "8"
      ]
     },
     "execution_count": 36,
     "metadata": {},
     "output_type": "execute_result"
    }
   ],
   "source": [
    "z"
   ]
  },
  {
   "cell_type": "code",
   "execution_count": 44,
   "metadata": {},
   "outputs": [
    {
     "data": {
      "text/plain": [
       "8"
      ]
     },
     "execution_count": 44,
     "metadata": {},
     "output_type": "execute_result"
    }
   ],
   "source": [
    "y"
   ]
  },
  {
   "cell_type": "code",
   "execution_count": 41,
   "metadata": {},
   "outputs": [],
   "source": [
    "list_1.append(\"sujata\")"
   ]
  },
  {
   "cell_type": "code",
   "execution_count": 46,
   "metadata": {},
   "outputs": [
    {
     "data": {
      "text/plain": [
       "[5, 7, 9, 'sujata', 'sujata']"
      ]
     },
     "execution_count": 46,
     "metadata": {},
     "output_type": "execute_result"
    }
   ],
   "source": [
    "list_2"
   ]
  },
  {
   "cell_type": "code",
   "execution_count": 38,
   "metadata": {},
   "outputs": [
    {
     "name": "stdout",
     "output_type": "stream",
     "text": [
      "[3, 5, 6, 7, 'rani']\n"
     ]
    }
   ],
   "source": [
    "addlist = [3,5,6,7, \"rani\"]\n",
    "newlist = addlist.copy()\n",
    "print(newlist)"
   ]
  },
  {
   "cell_type": "code",
   "execution_count": 47,
   "metadata": {},
   "outputs": [
    {
     "name": "stdout",
     "output_type": "stream",
     "text": [
      "[3, 5, 6, 7, 'rani']\n"
     ]
    }
   ],
   "source": [
    "newlist_2 = [x for x in addlist]\n",
    "print(newlist_2)"
   ]
  },
  {
   "cell_type": "markdown",
   "metadata": {},
   "source": [
    "# use list() method"
   ]
  },
  {
   "cell_type": "code",
   "execution_count": 48,
   "metadata": {},
   "outputs": [
    {
     "name": "stdout",
     "output_type": "stream",
     "text": [
      "[3, 5, 6, 7, 'rani']\n"
     ]
    }
   ],
   "source": [
    "newlist_3 = list(addlist)\n",
    "print(newlist_3)"
   ]
  },
  {
   "cell_type": "markdown",
   "metadata": {},
   "source": [
    "# Use the slice operator"
   ]
  },
  {
   "cell_type": "code",
   "execution_count": 49,
   "metadata": {},
   "outputs": [
    {
     "data": {
      "text/plain": [
       "[3, 5, 6, 7, 'rani']"
      ]
     },
     "execution_count": 49,
     "metadata": {},
     "output_type": "execute_result"
    }
   ],
   "source": [
    "addlist"
   ]
  },
  {
   "cell_type": "code",
   "execution_count": 50,
   "metadata": {},
   "outputs": [
    {
     "data": {
      "text/plain": [
       "[3, 5, 6, 7, 'rani']"
      ]
     },
     "execution_count": 50,
     "metadata": {},
     "output_type": "execute_result"
    }
   ],
   "source": [
    "addlist[:]"
   ]
  },
  {
   "cell_type": "code",
   "execution_count": 51,
   "metadata": {},
   "outputs": [
    {
     "data": {
      "text/plain": [
       "[5, 6, 7]"
      ]
     },
     "execution_count": 51,
     "metadata": {},
     "output_type": "execute_result"
    }
   ],
   "source": [
    "addlist[1:4]"
   ]
  },
  {
   "cell_type": "code",
   "execution_count": 52,
   "metadata": {},
   "outputs": [
    {
     "name": "stdout",
     "output_type": "stream",
     "text": [
      "[3, 5, 6, 7, 'rani']\n"
     ]
    }
   ],
   "source": [
    "copiedlist = addlist[:]\n",
    "print(copiedlist)"
   ]
  },
  {
   "cell_type": "code",
   "execution_count": 53,
   "metadata": {},
   "outputs": [
    {
     "data": {
      "text/plain": [
       "1964545005824"
      ]
     },
     "execution_count": 53,
     "metadata": {},
     "output_type": "execute_result"
    }
   ],
   "source": [
    "id(copiedlist)"
   ]
  },
  {
   "cell_type": "code",
   "execution_count": 54,
   "metadata": {},
   "outputs": [
    {
     "data": {
      "text/plain": [
       "1964545994944"
      ]
     },
     "execution_count": 54,
     "metadata": {},
     "output_type": "execute_result"
    }
   ],
   "source": [
    "id(addlist)"
   ]
  },
  {
   "cell_type": "markdown",
   "metadata": {},
   "source": [
    "# Copy a part of the list using : Slice operator"
   ]
  },
  {
   "cell_type": "code",
   "execution_count": 56,
   "metadata": {},
   "outputs": [
    {
     "name": "stdout",
     "output_type": "stream",
     "text": [
      "[3, 5, 6, 7, 'rani']\n"
     ]
    }
   ],
   "source": [
    "sliced_list = addlist[0:5]\n",
    "print(sliced_list)"
   ]
  },
  {
   "cell_type": "markdown",
   "metadata": {},
   "source": [
    "# join two list"
   ]
  },
  {
   "cell_type": "code",
   "execution_count": 57,
   "metadata": {},
   "outputs": [
    {
     "name": "stdout",
     "output_type": "stream",
     "text": [
      "[2, 4, 5, 6, 7, 8, 9, 10]\n"
     ]
    }
   ],
   "source": [
    "joinlist_1 = [2,4,5,6]\n",
    "joinlist_2 = [7,8,9,10]\n",
    "joinlist_3 = joinlist_1 + joinlist_2\n",
    "print(joinlist_3)"
   ]
  },
  {
   "cell_type": "markdown",
   "metadata": {},
   "source": [
    "# join two list by append method"
   ]
  },
  {
   "cell_type": "code",
   "execution_count": 58,
   "metadata": {},
   "outputs": [
    {
     "name": "stdout",
     "output_type": "stream",
     "text": [
      "[2, 4, 5, 6, 7, 8, 9, 10]\n"
     ]
    }
   ],
   "source": [
    "joinlist_1 = [2,4,5,6]\n",
    "joinlist_2 = [7,8,9,10]\n",
    "for x in joinlist_2:\n",
    "    joinlist_1.append(x)\n",
    "print(joinlist_1)\n"
   ]
  },
  {
   "cell_type": "code",
   "execution_count": 59,
   "metadata": {},
   "outputs": [
    {
     "name": "stdout",
     "output_type": "stream",
     "text": [
      "[2, 4, 5, 6, 7, 8, 9, 10]\n"
     ]
    }
   ],
   "source": [
    "joinlist_1 = [2,4,5,6]\n",
    "joinlist_2 = [7,8,9,10]\n",
    "joinlist_3 = []\n",
    "for x in joinlist_1:\n",
    "    joinlist_3.append(x)\n",
    "for x in joinlist_2:\n",
    "    joinlist_3.append(x)\n",
    "print(joinlist_3)"
   ]
  },
  {
   "cell_type": "markdown",
   "metadata": {},
   "source": [
    "# extend() method"
   ]
  },
  {
   "cell_type": "code",
   "execution_count": 60,
   "metadata": {},
   "outputs": [
    {
     "name": "stdout",
     "output_type": "stream",
     "text": [
      "[2, 4, 5, 6, 7, 8, 9, 10]\n"
     ]
    }
   ],
   "source": [
    "joinlist_1 = [2,4,5,6]\n",
    "joinlist_2 = [7,8,9,10]\n",
    "joinlist_1.extend(joinlist_2)\n",
    "print(joinlist_1)"
   ]
  },
  {
   "cell_type": "code",
   "execution_count": 61,
   "metadata": {},
   "outputs": [
    {
     "name": "stdout",
     "output_type": "stream",
     "text": [
      "[2, 4, 5, 6, 7, 8, 9, 10]\n"
     ]
    }
   ],
   "source": [
    "joinlist_1 = [2,4,5,6]\n",
    "joinlist_2 = [7,8,9,10]\n",
    "joinlist_3 = []\n",
    "joinlist_3.extend(joinlist_1)\n",
    "joinlist_3.extend(joinlist_2)\n",
    "print(joinlist_3)"
   ]
  },
  {
   "cell_type": "code",
   "execution_count": 62,
   "metadata": {},
   "outputs": [
    {
     "name": "stdout",
     "output_type": "stream",
     "text": [
      "[7, 8, 9, 10, 2, 4, 5, 6]\n"
     ]
    }
   ],
   "source": [
    "joinlist_1 = [2,4,5,6]\n",
    "joinlist_2 = [7,8,9,10]\n",
    "joinlist_3 = joinlist_2.copy()\n",
    "joinlist_3.extend(joinlist_1)\n",
    "print(joinlist_3)"
   ]
  }
 ],
 "metadata": {
  "kernelspec": {
   "display_name": "base",
   "language": "python",
   "name": "python3"
  },
  "language_info": {
   "codemirror_mode": {
    "name": "ipython",
    "version": 3
   },
   "file_extension": ".py",
   "mimetype": "text/x-python",
   "name": "python",
   "nbconvert_exporter": "python",
   "pygments_lexer": "ipython3",
   "version": "3.12.7"
  }
 },
 "nbformat": 4,
 "nbformat_minor": 2
}
